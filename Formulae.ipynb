{
 "cells": [
  {
   "cell_type": "markdown",
   "metadata": {},
   "source": [
    "# Formulae preparation"
   ]
  },
  {
   "cell_type": "code",
   "execution_count": 1,
   "metadata": {},
   "outputs": [],
   "source": [
    "import spot as s\n",
    "import sys"
   ]
  },
  {
   "cell_type": "markdown",
   "metadata": {},
   "source": [
    "In this notebook we generate files with formulae that we further use for benchmarking Seminator. We use three types of formulae regarding their source. These are\n",
    "\n",
    "1. **classical benchmarking formulae**,\n",
    "2. **random formulae**, and\n",
    "3. **`ltl2ldba` benchmarking sets**."
   ]
  },
  {
   "cell_type": "markdown",
   "metadata": {},
   "source": [
    "## Formulae from literature"
   ]
  },
  {
   "cell_type": "markdown",
   "metadata": {},
   "source": [
    "* beem.ltl: R. Pelánek: _BEEM: Benchmarks for explicit model checkers._ Proceedings of Spin'07.  LNCS 4595.\n",
    "* liberouter.ltl: Holeček, T. Kratochvila, V. Řehák, D. Šafránek, and P. Šimeček: _Verification  Results  in  Liberouter Project._  Tech. Report 03, CESNET, 2004.\n",
    "* dac: M.  B.  Dwyer and G. S. Avrunin and J. C. Corbett: _Property Specification Patterns for Finite-state Verification._ Proceedings of FMSP'98.\n",
    "* eh: K. Etessami and G. J. Holzmann: _Optimizing Büchi Automata._  Proceedings of Concur'00.  LNCS 1877.\n",
    "* sb: F. Somenzi and R. Bloem: _Efficient Büchi Automata for LTL Formulae._  Proceedings of CAV'00.  LNCS 1855."
   ]
  },
  {
   "cell_type": "markdown",
   "metadata": {},
   "source": [
    "There are many duplicates among the sources mentioned above. Therefore, we process them to minimize the level of duplicates. The steps are:\n",
    "1. The temporal operators $\\mathsf{W}$ and $\\mathsf{M}$ are removed by applying standard equivalences.\n",
    "1. Atomic propositions are renamed in alphabetical order and also free boolean combinations of AP are replaced by fresh AP. For example, the formula $\\mathsf{G}(a \\lor b) \\land \\mathsf{G} c$ is relabelled to $\\mathsf{G} a \\land \\mathsf{G} b$.\n",
    "2. Formulae are simplified by SPOT's reductions techniques.\n",
    "3. Formulae equivallent to `True` or `False` are removed.\n",
    "\n",
    "Next, we add also a negations of already chosen formulae."
   ]
  },
  {
   "cell_type": "code",
   "execution_count": 2,
   "metadata": {},
   "outputs": [],
   "source": [
    "beem_file     = 'formulae/beem.ltl'\n",
    "lib_file      = 'formulae/liberouter.ltl'\n",
    "tmp_file      = 'formulae/tmp.ltl'\n",
    "lit_pref      = 'formulae/literature'\n",
    "lit_file      = lit_pref + '.ltl'\n",
    "rand_pref     = 'formulae/random'"
   ]
  },
  {
   "cell_type": "code",
   "execution_count": 3,
   "metadata": {},
   "outputs": [],
   "source": [
    "!genltl --dac-patterns --eh-patterns --sb-patterns | \\\n",
    "ltlfilt \\\n",
    "    $beem_file \\\n",
    "    $lib_file  \\\n",
    "    -F -  > $tmp_file"
   ]
  },
  {
   "cell_type": "code",
   "execution_count": 4,
   "metadata": {},
   "outputs": [],
   "source": [
    "!ltlfilt --negate $tmp_file | \\\n",
    "ltlfilt $tmp_file -F - --unique -r3 --remove-wm --relabel-bool=abc | \\\n",
    "     ltlfilt -v --equivalent-to=0 | ltlfilt -v --equivalent-to=1> $lit_file"
   ]
  },
  {
   "cell_type": "code",
   "execution_count": 5,
   "metadata": {},
   "outputs": [],
   "source": [
    "def is_det(form):\n",
    "    aut = s.translate(form,'Deterministic')\n",
    "    return s.is_deterministic(aut)"
   ]
  },
  {
   "cell_type": "code",
   "execution_count": 6,
   "metadata": {},
   "outputs": [],
   "source": [
    "def is_sd(form):\n",
    "    aut = s.translate(form,'Deterministic')\n",
    "    return s.is_semi_deterministic(aut)"
   ]
  },
  {
   "cell_type": "raw",
   "metadata": {},
   "source": [
    "def is_cd(form):\n",
    "    res = !ltl2tgba -f \"$form\" | ./seminator --is-cd\n",
    "    return res[0] == '1'"
   ]
  },
  {
   "cell_type": "code",
   "execution_count": 7,
   "metadata": {},
   "outputs": [],
   "source": [
    "def categorize(form_file,prefix):\n",
    "    with open(form_file,'r') as source,\\\n",
    "         open('{}_det.ltl'.format(prefix),'w') as det,\\\n",
    "         open('{}_sd.ltl'.format(prefix),'w') as sd,\\\n",
    "         open('{}_nd.ltl'.format(prefix),'w') as nd:\n",
    "        for form in source:\n",
    "            if is_det(form):\n",
    "                print(form,file=det,end='')\n",
    "            elif is_sd(form):\n",
    "                print(form,file=sd,end='')\n",
    "            else:\n",
    "                print(form,file=nd,end='')"
   ]
  },
  {
   "cell_type": "code",
   "execution_count": 8,
   "metadata": {},
   "outputs": [],
   "source": [
    "categorize(lit_file,lit_pref)"
   ]
  },
  {
   "cell_type": "markdown",
   "metadata": {},
   "source": [
    "### The number of formulae that can be translated to a det. TGBA"
   ]
  },
  {
   "cell_type": "code",
   "execution_count": 9,
   "metadata": {},
   "outputs": [
    {
     "name": "stdout",
     "output_type": "stream",
     "text": [
      "Automata of type det:\t152\n",
      "Automata of type cd:\t0\n",
      "Automata of type sd:\t49\n",
      "Automata of type nd:\t20\n"
     ]
    }
   ],
   "source": [
    "for t in ['det','sd','nd']:\n",
    "    count = sum(1 for line in open('{}_{}.ltl'.format(lit_pref,t)))\n",
    "    print('Automata of type {}:\\t{}'.format(t,count))"
   ]
  },
  {
   "cell_type": "markdown",
   "metadata": {},
   "source": [
    "## Random formulae"
   ]
  },
  {
   "cell_type": "code",
   "execution_count": 11,
   "metadata": {},
   "outputs": [],
   "source": [
    "def generate(n=100,func=(lambda x: True),filename=None,seed=0):\n",
    "    '''Generates a specified number of formulas that are\n",
    "    accepted by the given function. If filename specified\n",
    "    it prints them into the given file.\n",
    "    '''\n",
    "    if filename is None:\n",
    "        file_h = sys.stdout\n",
    "    else:\n",
    "        file_h = open(filename,'w')\n",
    "    f = s.randltl(['a','b','c','d'],ltl_priorities='M=0,W=0,xor=0',\n",
    "                  simplify=3,tree_size=15,seed=seed).\\\n",
    "                  relabel_bse(s.Abc).unabbreviate('WM')\n",
    "    i = 0\n",
    "    printed = set()\n",
    "    while(i < n):\n",
    "        form = next(f)\n",
    "        #form = spot.negative_normal_form(form)\n",
    "        if form in printed:\n",
    "            continue\n",
    "        if func(form) and not form.is_tt() and not form.is_ff():\n",
    "            print(form,file=file_h)\n",
    "            printed.add(form)\n",
    "            i += 1"
   ]
  },
  {
   "cell_type": "markdown",
   "metadata": {},
   "source": [
    "generate 500 formulas for each type of TGBA produced by spot"
   ]
  },
  {
   "cell_type": "code",
   "execution_count": 14,
   "metadata": {},
   "outputs": [],
   "source": [
    "for t,f in [('det',is_det),\\\n",
    "            ('sd',(lambda x: (not is_det(x) and is_sd(x)))),\\\n",
    "            ('nd',(lambda x: not is_sd(x)))]:\n",
    "    generate(500,f,'{}_{}.ltl'.format(rand_pref,t))"
   ]
  },
  {
   "cell_type": "code",
   "execution_count": 15,
   "metadata": {},
   "outputs": [
    {
     "name": "stdout",
     "output_type": "stream",
     "text": [
      "Automata of type det:\t500\n",
      "Automata of type sd:\t500\n",
      "Automata of type nd:\t500\n"
     ]
    }
   ],
   "source": [
    "for t in ['det','sd','nd']:\n",
    "    count = sum(1 for line in open('{}_{}.ltl'.format(rand_pref,t)))\n",
    "    print('Automata of type {}:\\t{}'.format(t,count))"
   ]
  },
  {
   "cell_type": "markdown",
   "metadata": {},
   "source": [
    "# ltl2ldba benchmark set -- not used in the paper"
   ]
  },
  {
   "cell_type": "markdown",
   "metadata": {},
   "source": [
    "The benchmark set used in _Salomon Sickert, Javier Esparza, Stefan Jaax, Jan Kretínský:\n",
    "**Limit-Deterministic Büchi Automata for Linear Temporal Logic.** CAV (2) 2016: 312-332_ consists of five types of formulae.\n",
    "\n",
    "1. Formulae already used for benchmarking Raninizer 1 \n",
    "$$\\psi_j = \\bigwedge_{0<=i<j} \\mathsf{G}\\mathsf{F}a_i \\implies \\bigwedge_{0<=i<j} \\mathsf{G}\\mathsf{F}b_i$$\n",
    "2. Fairness constraints \n",
    "$$ \\Psi_k = \\bigwedge_{0<=i<k} \\big(\\mathsf{G}\\mathsf{F}a_i \\lor \\mathsf{F}\\mathsf{G}b_i\\big)$$\n",
    "3. Formulae with light nesting of modal operators\n",
    "    $$ϕ1 = \\mathsf{G}\\mathsf{F}(\\mathsf{F}a ∨ \\mathsf{G}b ∨ \\mathsf{F}\\mathsf{G}(a ∨ (\\mathsf{X}b)), \\\\\n",
    "    ϕ2 = \\mathsf{F}\\mathsf{G}(\\mathsf{G}a ∨ \\mathsf{F}¬b ∨ \\mathsf{G}\\mathsf{F}(a ∧ \\mathsf{X}b)), \\\\\n",
    "    ϕ3 = \\mathsf{G}\\mathsf{F}(\\mathsf{F}a ∨ \\mathsf{G}\\mathsf{X}b ∨ \\mathsf{F}\\mathsf{G}(a ∨ \\mathsf{X}\\mathsf{X}b))$$,\n",
    "4. Formulae with deep nesting modal operators \n",
    "$$ f(0, j) = (\\mathsf{G}\\mathsf{F}a_0)\\,\\mathsf{U}\\,(\\mathsf{X}^jb)\\\\\n",
    "f(i + 1, j) = (\\mathsf{G}\\mathsf{F}a_{i+1})\\,\\mathsf{U}\\,(\\mathsf{G}\\,f(i, j))\n",
    "$$\n",
    "5. Formulae from _Frantisek Blahoudek, Mojmír Kretínský, Jan Strejcek:\n",
    "**Comparison of LTL to Deterministic Rabin Automata Translators.** LPAR 2013: 164-172_. We do not include them here because they mostly overlap with the classical and random formulae from above."
   ]
  },
  {
   "cell_type": "markdown",
   "metadata": {},
   "source": [
    "### Functions to generate the formulae"
   ]
  },
  {
   "cell_type": "raw",
   "metadata": {},
   "source": [
    "# Helper functions for generating FG and GF formulas\n",
    "def gf(ap):\n",
    "    return s.formula.G(s.formula.F(s.formula.ap(ap)))\n",
    "\n",
    "def fg(ap):\n",
    "    return s.formula.F(s.formula.G(s.formula.ap(ap)))"
   ]
  },
  {
   "cell_type": "raw",
   "metadata": {},
   "source": [
    "### Rabinizer 1 formulas\n",
    "def gr1(j):\n",
    "    ap_a = [\"a\" + str(i) for i in range(j)]\n",
    "    ap_b = [\"b\" + str(i) for i in range(j)]\n",
    "    gfa = [gf(ap_a[i]) for i in range(j)]\n",
    "    gfb = [gf(ap_b[i]) for i in range(j)]\n",
    "    return s.formula.Implies(s.formula.And(gfa),s.formula.And(gfb))\n",
    "\n",
    "gr1(4)"
   ]
  },
  {
   "cell_type": "raw",
   "metadata": {},
   "source": [
    "TODO print them to file"
   ]
  },
  {
   "cell_type": "raw",
   "metadata": {},
   "source": [
    "### Fairness\n",
    "def fair(j):\n",
    "    ap_a = [\"a\" + str(i) for i in range(j)]\n",
    "    ap_b = [\"b\" + str(i) for i in range(j)]\n",
    "    gfa = [gf(ap_a[i]) for i in range(j)]\n",
    "    fgb = [fg(ap_b[i]) for i in range(j)]\n",
    "    imp = [s.formula.Or([gfa[i],fgb[i]]) for i in range(j)]\n",
    "    return s.formula.And(imp)\n",
    "\n",
    "fair(4)"
   ]
  },
  {
   "cell_type": "raw",
   "metadata": {},
   "source": [
    "### Light nesting formulas\n",
    "phis = [\n",
    "'GF(Fa ∨ Gb ∨ FG(a ∨ (Xb)))',\n",
    "'FG(Ga ∨ F¬b ∨ GF(a ∧ Xb))',\n",
    "'GF(Fa ∨ GXb ∨ FG(a ∨ XXb))'\n",
    "]\n"
   ]
  },
  {
   "cell_type": "raw",
   "metadata": {},
   "source": [
    "### Deep nesting formulas\n",
    "def nesting(i,j):\n",
    "    if i == 0:\n",
    "        f = s.formula.ap(\"b\")\n",
    "        for k in range(j):\n",
    "            f = s.formula.X(f)\n",
    "        return s.formula.U(gf(\"a0\"),f)\n",
    "    else:\n",
    "        return s.formula.U(gf(\"a\"+str(i)),s.formula.G(nesting(i-1,j)))\n",
    "    \n",
    "nesting(2,4)"
   ]
  },
  {
   "cell_type": "raw",
   "metadata": {},
   "source": [
    "nesting(2,4).to_str(parenth=True)"
   ]
  },
  {
   "cell_type": "markdown",
   "metadata": {},
   "source": [
    "### Writing formulae to files"
   ]
  },
  {
   "cell_type": "raw",
   "metadata": {},
   "source": [
    "d = 'formulae'\n",
    "psi_1_f = d + '/psij.ltl'\n",
    "psi_2_f = d + '/psik.ltl'\n",
    "phi_f = d + '/phi.ltl'\n",
    "nest_f = d + '/nesting.ltl'"
   ]
  },
  {
   "cell_type": "raw",
   "metadata": {},
   "source": [
    "with open(psi_1_f,'w') as f:\n",
    "    for j in range(1,10):\n",
    "        f.write(gr1(j).to_str(parenth=True)+\"\\n\")"
   ]
  },
  {
   "cell_type": "raw",
   "metadata": {},
   "source": [
    "with open(psi_2_f,'w') as f:\n",
    "    for j in range(1,9):\n",
    "        f.write(fair(j).to_str(parenth=True)+\"\\n\")"
   ]
  },
  {
   "cell_type": "raw",
   "metadata": {},
   "source": [
    "with open(phi_f,'w') as f:\n",
    "    for form in phis:\n",
    "        f.write(s.formula(form).to_str(parenth=True)+\"\\n\")"
   ]
  },
  {
   "cell_type": "raw",
   "metadata": {},
   "source": [
    "with open(nest_f,'w') as f:\n",
    "    for j in range(0,6,2):\n",
    "        for i in range(3):\n",
    "            f.write(nesting(i,j).to_str(parenth=True)+\"\\n\")"
   ]
  }
 ],
 "metadata": {
  "kernelspec": {
   "display_name": "Python 3",
   "language": "python",
   "name": "python3"
  },
  "language_info": {
   "codemirror_mode": {
    "name": "ipython",
    "version": 3
   },
   "file_extension": ".py",
   "mimetype": "text/x-python",
   "name": "python",
   "nbconvert_exporter": "python",
   "pygments_lexer": "ipython3",
   "version": "3.7.5"
  }
 },
 "nbformat": 4,
 "nbformat_minor": 4
}
