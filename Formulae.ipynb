{
 "cells": [
  {
   "cell_type": "markdown",
   "metadata": {},
   "source": [
    "# Formulae preparation"
   ]
  },
  {
   "cell_type": "code",
   "execution_count": 1,
   "metadata": {},
   "outputs": [],
   "source": [
    "import spot as s\n",
    "import sys"
   ]
  },
  {
   "cell_type": "markdown",
   "metadata": {},
   "source": [
    "In this notebook we generate files with formulae that we further use for benchmarking Seminator. We use two types of formulae regarding their source. These are\n",
    "\n",
    "1. **classical benchmarking formulae**, and\n",
    "2. **random formulae**"
   ]
  },
  {
   "cell_type": "markdown",
   "metadata": {},
   "source": [
    "## Formulae from literature"
   ]
  },
  {
   "cell_type": "markdown",
   "metadata": {},
   "source": [
    "* beem.ltl: R. Pelánek: _BEEM: Benchmarks for explicit model checkers._ Proceedings of Spin'07.  LNCS 4595.\n",
    "* liberouter.ltl: Holeček, T. Kratochvila, V. Řehák, D. Šafránek, and P. Šimeček: _Verification  Results  in  Liberouter Project._  Tech. Report 03, CESNET, 2004.\n",
    "* dac: M.  B.  Dwyer and G. S. Avrunin and J. C. Corbett: _Property Specification Patterns for Finite-state Verification._ Proceedings of FMSP'98.\n",
    "* eh: K. Etessami and G. J. Holzmann: _Optimizing Büchi Automata._  Proceedings of Concur'00.  LNCS 1877.\n",
    "* sb: F. Somenzi and R. Bloem: _Efficient Büchi Automata for LTL Formulae._  Proceedings of CAV'00.  LNCS 1855."
   ]
  },
  {
   "cell_type": "markdown",
   "metadata": {},
   "source": [
    "There are many duplicates among the sources mentioned above. Therefore, we process them to minimize the level of duplicates. The steps are:\n",
    "1. The temporal operators $\\mathsf{W}$ and $\\mathsf{M}$ are removed by applying standard equivalences.\n",
    "1. Atomic propositions are renamed in alphabetical order and also free boolean combinations of AP are replaced by fresh AP. For example, the formula $\\mathsf{G}(a \\lor b) \\land \\mathsf{G} c$ is relabelled to $\\mathsf{G} a \\land \\mathsf{G} b$.\n",
    "2. Formulae are simplified by SPOT's reductions techniques.\n",
    "3. Formulae equivallent to `True` or `False` are removed.\n",
    "\n",
    "Next, we add also a negations of already chosen formulae."
   ]
  },
  {
   "cell_type": "code",
   "execution_count": 2,
   "metadata": {},
   "outputs": [],
   "source": [
    "beem_file     = 'formulae/beem.ltl'\n",
    "lib_file      = 'formulae/liberouter.ltl'\n",
    "tmp_file      = 'formulae/tmp.ltl'\n",
    "lit_pref      = 'formulae/literature'\n",
    "lit_file      = lit_pref + '.ltl'\n",
    "rand_pref     = 'formulae/random'"
   ]
  },
  {
   "cell_type": "code",
   "execution_count": 3,
   "metadata": {},
   "outputs": [],
   "source": [
    "!genltl --dac-patterns --eh-patterns --sb-patterns | \\\n",
    "ltlfilt \\\n",
    "    $beem_file \\\n",
    "    $lib_file  \\\n",
    "    -F -  > $tmp_file"
   ]
  },
  {
   "cell_type": "code",
   "execution_count": 4,
   "metadata": {},
   "outputs": [],
   "source": [
    "!ltlfilt --negate $tmp_file | \\\n",
    "ltlfilt $tmp_file -F - --unique -r3 --remove-wm --relabel-bool=abc | \\\n",
    "     ltlfilt -v --equivalent-to=0 | ltlfilt -v --equivalent-to=1> $lit_file"
   ]
  },
  {
   "cell_type": "code",
   "execution_count": 5,
   "metadata": {},
   "outputs": [],
   "source": [
    "def is_det(form):\n",
    "    aut = s.translate(form,'Deterministic')\n",
    "    return s.is_deterministic(aut)"
   ]
  },
  {
   "cell_type": "code",
   "execution_count": 6,
   "metadata": {},
   "outputs": [],
   "source": [
    "def is_sd(form):\n",
    "    aut = s.translate(form,'Deterministic')\n",
    "    return s.is_semi_deterministic(aut)"
   ]
  },
  {
   "cell_type": "code",
   "execution_count": 7,
   "metadata": {},
   "outputs": [],
   "source": [
    "def categorize(form_file,prefix):\n",
    "    with open(form_file,'r') as source,\\\n",
    "         open('{}_det.ltl'.format(prefix),'w') as det,\\\n",
    "         open('{}_sd.ltl'.format(prefix),'w') as sd,\\\n",
    "         open('{}_nd.ltl'.format(prefix),'w') as nd:\n",
    "        for form in source:\n",
    "            if is_det(form):\n",
    "                print(form,file=det,end='')\n",
    "            elif is_sd(form):\n",
    "                print(form,file=sd,end='')\n",
    "            else:\n",
    "                print(form,file=nd,end='')"
   ]
  },
  {
   "cell_type": "code",
   "execution_count": 8,
   "metadata": {},
   "outputs": [],
   "source": [
    "categorize(lit_file,lit_pref)"
   ]
  },
  {
   "cell_type": "markdown",
   "metadata": {},
   "source": [
    "### The number of formulae that can be translated to a det. TGBA"
   ]
  },
  {
   "cell_type": "code",
   "execution_count": 9,
   "metadata": {},
   "outputs": [
    {
     "name": "stdout",
     "output_type": "stream",
     "text": [
      "Automata of type det:\t152\n",
      "Automata of type sd:\t49\n",
      "Automata of type nd:\t20\n"
     ]
    }
   ],
   "source": [
    "for t in ['det','sd','nd']:\n",
    "    count = sum(1 for line in open('{}_{}.ltl'.format(lit_pref,t)))\n",
    "    print('Automata of type {}:\\t{}'.format(t,count))"
   ]
  },
  {
   "cell_type": "markdown",
   "metadata": {},
   "source": [
    "## Random formulae"
   ]
  },
  {
   "cell_type": "code",
   "execution_count": 10,
   "metadata": {},
   "outputs": [],
   "source": [
    "def is_true_or_false(form):\n",
    "    aut = form.translate()\n",
    "    if aut.num_states()>1:\n",
    "        return False\n",
    "    if s.are_equivalent(form, s.formula.tt()):\n",
    "        return True\n",
    "    if s.are_equivalent(form, s.formula.ff()):\n",
    "        return True\n",
    "    return False\n",
    "\n",
    "def generate(n=100,func=(lambda x: True),filename=None,seed=0):\n",
    "    '''Generates a specified number of formulas that are\n",
    "    accepted by the given function. If filename specified\n",
    "    it prints them into the given file.\n",
    "    '''\n",
    "    if filename is None:\n",
    "        file_h = sys.stdout\n",
    "    else:\n",
    "        file_h = open(filename,'w')\n",
    "    f = s.randltl(['a','b','c','d'],ltl_priorities='M=0,W=0,xor=0',\n",
    "                  simplify=3,tree_size=15,seed=seed).\\\n",
    "                  relabel_bse(s.Abc).unabbreviate('WM')\n",
    "    i = 0\n",
    "    printed = set()\n",
    "    while(i < n):\n",
    "        form = next(f)\n",
    "        #form = spot.negative_normal_form(form)\n",
    "        if form in printed:\n",
    "            continue\n",
    "        if func(form) and not is_true_or_false(form):\n",
    "            print(form,file=file_h)\n",
    "            printed.add(form)\n",
    "            i += 1"
   ]
  },
  {
   "cell_type": "markdown",
   "metadata": {},
   "source": [
    "generate 500 formulas for each type of TGBA produced by spot"
   ]
  },
  {
   "cell_type": "code",
   "execution_count": 11,
   "metadata": {},
   "outputs": [],
   "source": [
    "for t,f in [('det',is_det),\\\n",
    "            ('sd',(lambda x: (not is_det(x) and is_sd(x)))),\\\n",
    "            ('nd',(lambda x: not is_sd(x)))]:\n",
    "    generate(500,f,'{}_{}.ltl'.format(rand_pref,t))"
   ]
  },
  {
   "cell_type": "code",
   "execution_count": 12,
   "metadata": {},
   "outputs": [
    {
     "name": "stdout",
     "output_type": "stream",
     "text": [
      "Automata of type det:\t500\n",
      "Automata of type sd:\t500\n",
      "Automata of type nd:\t500\n"
     ]
    }
   ],
   "source": [
    "for t in ['det','sd','nd']:\n",
    "    count = sum(1 for line in open('{}_{}.ltl'.format(rand_pref,t)))\n",
    "    print('Automata of type {}:\\t{}'.format(t,count))"
   ]
  }
 ],
 "metadata": {
  "kernelspec": {
   "display_name": "Python 3",
   "language": "python",
   "name": "python3"
  },
  "language_info": {
   "codemirror_mode": {
    "name": "ipython",
    "version": 3
   },
   "file_extension": ".py",
   "mimetype": "text/x-python",
   "name": "python",
   "nbconvert_exporter": "python",
   "pygments_lexer": "ipython3",
   "version": "3.7.5"
  }
 },
 "nbformat": 4,
 "nbformat_minor": 4
}
