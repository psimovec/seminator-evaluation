{
 "cells": [
  {
   "cell_type": "code",
   "execution_count": 1,
   "metadata": {},
   "outputs": [],
   "source": [
    "from ltlcross_wrapper import Modulizer\n",
    "from tools import sem_pipelines\n",
    "from owl_servers import OwlServerManager, get_ldba_pipeline\n",
    "import datetime"
   ]
  },
  {
   "cell_type": "markdown",
   "metadata": {},
   "source": [
    "We use the client-server mode of Owl. This prevents Owl to start JVM for each command separately. Instead, we start one server for each configuration. These servers listen on ports (in our case) 6060 and 6061 which we then use to call these servers using `owl-client` command. The scripts to start and terminate servers, together with scripts to configure Owl, are in [owl_servers.py](owl_servers.py).\n",
    "\n",
    "For each configuration we actually run 2 runs: One with Owl alone (`no.owl#variant`), the other (`yes.owl#variant`) uses Spot to simplfy the results using `autfilt`."
   ]
  },
  {
   "cell_type": "code",
   "execution_count": 2,
   "metadata": {},
   "outputs": [
    {
     "name": "stdout",
     "output_type": "stream",
     "text": [
      "dict_items([('owl#s', 'owl-client localhost 6060 %f'), ('owl#a', 'owl-client localhost 6061 %f')])\n"
     ]
    }
   ],
   "source": [
    "owl_m = OwlServerManager()\n",
    "owl_m.new_server(\"owl#s\", get_ldba_pipeline(mode=\"s\"))\n",
    "owl_m.new_server(\"owl#a\", get_ldba_pipeline(mode=\"a\"))\n",
    "\n",
    "\n",
    "print(owl_m.get_clients().items())\n",
    "owl_pipelines = {}\n",
    "for mode, cmd in owl_m.get_clients().items():\n",
    "    owl_pipelines[f\"yes.{mode}\"] = f\"{cmd} | autfilt --small --tgba > %O\"\n",
    "    owl_pipelines[f\"no.{mode}\"] = f\"{cmd} > %O\""
   ]
  },
  {
   "cell_type": "markdown",
   "metadata": {},
   "source": [
    "We take the Seminator configurations from the file [tools.py](tools.py). The printed values of `tools` are of the form `name_of_the_configuration : ltlcross_command`. This dict is then passed to `Modulizer` from `ltlcross_wrapper` for parallel execution of `ltlcross`."
   ]
  },
  {
   "cell_type": "code",
   "execution_count": 3,
   "metadata": {
    "scrolled": true
   },
   "outputs": [
    {
     "name": "stdout",
     "output_type": "stream",
     "text": [
      "yes.seminator#slim: ltl2tgba --deterministic -f %f | seminator --slim --pure --postprocess=1 | autfilt --small --tgba > %O\n",
      "yes.seminator#weakslim: ltl2tgba --deterministic -f %f | seminator --slim --weak --pure --postprocess=1 | autfilt --small --tgba > %O\n",
      "yes.empc#specialslim: docastom=`mktemp`;docas=`mktemp`;ltl2tgba --deterministic -f %f>$docastom; java -jar ~/automaty/epmc-ashu-v11.jar formula2automaton --ashu-input-type hoa --ashu-input-file $docastom --ashu-slim-exploration-nonempty-breakpoint true  --ashu-automaton-type slim --ashu-output-file $docas;autfilt --small --tgba -F $docas > %O\n",
      "yes.empc#slim: docastom=`mktemp`;docas=`mktemp`;ltl2tgba --deterministic -f %f>$docastom; java -jar ~/automaty/epmc-ashu-v11.jar formula2automaton --ashu-input-type hoa --ashu-input-file $docastom   --ashu-automaton-type slim --ashu-output-file $docas;autfilt --small --tgba -F $docas > %O\n",
      "yes.empc#specialslim#acc: docastom=`mktemp`;docas=`mktemp`;ltl2tgba --deterministic -f %f>$docastom; java -jar ~/automaty/epmc-ashu-v11.jar formula2automaton --ashu-input-type hoa --ashu-input-file $docastom --ashu-slim-exploration-nonempty-breakpoint true --ashu-slim-exploration-special-accepting true --ashu-automaton-type slim --ashu-output-file $docas;autfilt --small --tgba -F $docas > %O\n",
      "yes.empc#slim#acc: docastom=`mktemp`;docas=`mktemp`;ltl2tgba --deterministic -f %f>$docastom; java -jar ~/automaty/epmc-ashu-v11.jar formula2automaton --ashu-input-type hoa --ashu-input-file $docastom  --ashu-slim-exploration-special-accepting true --ashu-automaton-type slim --ashu-output-file $docas;autfilt --small --tgba -F $docas > %O\n",
      "no.seminator#slim: ltl2tgba --deterministic -f %f | seminator --slim --pure --postprocess=1 | cat > %O\n",
      "no.seminator#weakslim: ltl2tgba --deterministic -f %f | seminator --slim --weak --pure --postprocess=1 | cat > %O\n",
      "no.empc#specialslim: docastom=`mktemp`;docas=`mktemp`;ltl2tgba --deterministic -f %f>$docastom; java -jar ~/automaty/epmc-ashu-v11.jar formula2automaton --ashu-input-type hoa --ashu-input-file $docastom --ashu-slim-exploration-nonempty-breakpoint true  --ashu-automaton-type slim --ashu-output-file $docas;cat $docas > %O\n",
      "no.empc#slim: docastom=`mktemp`;docas=`mktemp`;ltl2tgba --deterministic -f %f>$docastom; java -jar ~/automaty/epmc-ashu-v11.jar formula2automaton --ashu-input-type hoa --ashu-input-file $docastom   --ashu-automaton-type slim --ashu-output-file $docas;cat $docas > %O\n",
      "no.empc#specialslim#acc: docastom=`mktemp`;docas=`mktemp`;ltl2tgba --deterministic -f %f>$docastom; java -jar ~/automaty/epmc-ashu-v11.jar formula2automaton --ashu-input-type hoa --ashu-input-file $docastom --ashu-slim-exploration-nonempty-breakpoint true --ashu-slim-exploration-special-accepting true --ashu-automaton-type slim --ashu-output-file $docas;cat $docas > %O\n",
      "no.empc#slim#acc: docastom=`mktemp`;docas=`mktemp`;ltl2tgba --deterministic -f %f>$docastom; java -jar ~/automaty/epmc-ashu-v11.jar formula2automaton --ashu-input-type hoa --ashu-input-file $docastom  --ashu-slim-exploration-special-accepting true --ashu-automaton-type slim --ashu-output-file $docas;cat $docas > %O\n"
     ]
    }
   ],
   "source": [
    "tools = sem_pipelines.copy()\n",
    "# tools.update(owl_pipelines)\n",
    "for name, cmd in tools.items():\n",
    "    print(f\"{name}: {cmd}\")"
   ]
  },
  {
   "cell_type": "code",
   "execution_count": null,
   "metadata": {},
   "outputs": [],
   "source": []
  },
  {
   "cell_type": "code",
   "execution_count": 4,
   "metadata": {},
   "outputs": [
    {
     "name": "stdout",
     "output_type": "stream",
     "text": [
      "started  14:29:18\n",
      "finished  15:21:31\n"
     ]
    }
   ],
   "source": [
    "print(\"started \", datetime.datetime.now().strftime(\"%H:%M:%S\"))\n",
    "!mkdir -p data\n",
    "for s in [\"literature\", \"random\"]:\n",
    "    m = Modulizer(tools, f\"../formulae/{s}_nd.ltl\", \n",
    "                  name=f\"{s}_nd\", tmp_dir=f\"data/{s}_nd.parts\",\n",
    "                  processes=6, timeout=\"30\")\n",
    "    m.run()\n",
    "    !mv {s}_nd* data\n",
    "print(\"finished \", datetime.datetime.now().strftime(\"%H:%M:%S\"))"
   ]
  },
  {
   "cell_type": "code",
   "execution_count": null,
   "metadata": {},
   "outputs": [],
   "source": [
    "for s in [\"literature\",\"random\"]:\n",
    "    for t in [\"det\",\"sd\"]:\n",
    "        name = f\"{s}_{t}\"\n",
    "        m = Modulizer(tools, f\"../formulae/{name}.ltl\", \n",
    "                      name=name, tmp_dir=f\"data/{name}.parts\",\n",
    "                      processes=6, timeout=\"30\")\n",
    "        m.run()\n",
    "        !mv {name}* data"
   ]
  },
  {
   "cell_type": "code",
   "execution_count": null,
   "metadata": {},
   "outputs": [],
   "source": [
    "owl_m.terminate_all()"
   ]
  },
  {
   "cell_type": "code",
   "execution_count": null,
   "metadata": {},
   "outputs": [],
   "source": []
  }
 ],
 "metadata": {
  "jupytext": {
   "text_representation": {
    "extension": ".py",
    "format_name": "percent",
    "format_version": "1.3",
    "jupytext_version": "1.3.0"
   }
  },
  "kernelspec": {
   "display_name": "Python 3",
   "language": "python",
   "name": "python3"
  },
  "language_info": {
   "codemirror_mode": {
    "name": "ipython",
    "version": 3
   },
   "file_extension": ".py",
   "mimetype": "text/x-python",
   "name": "python",
   "nbconvert_exporter": "python",
   "pygments_lexer": "ipython3",
   "version": "3.8.6"
  }
 },
 "nbformat": 4,
 "nbformat_minor": 4
}
