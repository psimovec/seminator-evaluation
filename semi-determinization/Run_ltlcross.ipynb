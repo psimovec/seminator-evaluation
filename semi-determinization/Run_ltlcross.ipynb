{
 "cells": [
  {
   "cell_type": "code",
   "execution_count": 1,
   "metadata": {},
   "outputs": [],
   "source": [
    "from ltlcross_wrapper import Modulizer\n",
    "from tools import sem_pipelines\n",
    "from owl_servers import OwlServerManager, get_ldba_pipeline"
   ]
  },
  {
   "cell_type": "markdown",
   "metadata": {},
   "source": [
    "We use the client-server mode of Owl. This prevents Owl to start JVM for each command separately. Instead, we start one server for each configuration. These servers listen on ports (in our case) 6060 and 6061 which we then use to call these servers using `owl-client` command. The scripts to start and terminate servers, together with scripts to configure Owl, are in [owl_servers.py](owl_servers.py).\n",
    "\n",
    "For each configuration we actually run 2 runs: One with Owl alone (`no.owl#variant`), the other (`yes.owl#variant`) uses Spot to simplfy the results using `autfilt`."
   ]
  },
  {
   "cell_type": "code",
   "execution_count": 2,
   "metadata": {},
   "outputs": [],
   "source": [
    "owl_m = OwlServerManager()\n",
    "owl_m.new_server(\"owl#s\", get_ldba_pipeline(mode=\"s\"))\n",
    "owl_m.new_server(\"owl#a\", get_ldba_pipeline(mode=\"a\"))\n",
    "\n",
    "owl_pipelines = {}\n",
    "for mode, cmd in owl_m.get_clients().items():\n",
    "    owl_pipelines[f\"yes.{mode}\"] = f\"{cmd} | autfilt --small --tgba > %O\"\n",
    "    owl_pipelines[f\"no.{mode}\"] = f\"{cmd} > %O\""
   ]
  },
  {
   "cell_type": "markdown",
   "metadata": {},
   "source": [
    "We take the Seminator configurations from the file [tools.py](tools.py). The printed values of `tools` are of the form `name_of_the_configuration : ltlcross_command`. This dict is then passed to `Modulizer` from `ltlcross_wrapper` for parallel execution of `ltlcross`."
   ]
  },
  {
   "cell_type": "code",
   "execution_count": 3,
   "metadata": {},
   "outputs": [
    {
     "name": "stdout",
     "output_type": "stream",
     "text": [
      "yes.seminator#def: ltl2tgba --deterministic -f %f | seminator  --postprocess=1  > %O\n",
      "no.seminator#def: ltl2tgba --deterministic -f %f | seminator  --postprocess=0  > %O\n",
      "yes.seminator#tgba: ltl2tgba --deterministic -f %f | seminator --via-tgba --postprocess=1  > %O\n",
      "no.seminator#tgba: ltl2tgba --deterministic -f %f | seminator --via-tba --postprocess=0  > %O\n",
      "yes.seminator#tba: ltl2tgba --deterministic -f %f | seminator --via-tgba --postprocess=1  > %O\n",
      "no.seminator#tba: ltl2tgba --deterministic -f %f | seminator --via-tba --postprocess=0  > %O\n",
      "yes.seminator#sba: ltl2tgba --deterministic -f %f | seminator --via-sba --postprocess=1  > %O\n",
      "no.seminator#sba: ltl2tgba --deterministic -f %f | seminator --via-sba --postprocess=0  > %O\n",
      "yes.seminator-1-1: ltl2tgba --deterministic -f %f | seminator-1.1    > %O\n",
      "no.seminator-1-1: ltl2tgba --deterministic -f %f | seminator-1.1  -s0  > %O\n",
      "yes.seminator-1-2: ltl2tgba --deterministic -f %f | seminator-1.2    > %O\n",
      "no.seminator-1-2: ltl2tgba --deterministic -f %f | seminator-1.2  -s0  > %O\n",
      "yes.owl#s: owl-client localhost 6060 %f | autfilt --small --tgba > %O\n",
      "no.owl#s: owl-client localhost 6060 %f > %O\n",
      "yes.owl#a: owl-client localhost 6061 %f | autfilt --small --tgba > %O\n",
      "no.owl#a: owl-client localhost 6061 %f > %O\n"
     ]
    }
   ],
   "source": [
    "tools = sem_pipelines.copy()\n",
    "tools.update(owl_pipelines)\n",
    "for name, cmd in tools.items():\n",
    "    print(f\"{name}: {cmd}\")"
   ]
  },
  {
   "cell_type": "code",
   "execution_count": 4,
   "metadata": {},
   "outputs": [],
   "source": [
    "!mkdir -p data\n",
    "for s in [\"literature\",\"random\"]:\n",
    "    m = Modulizer(tools, f\"../formulae/{s}_nd.ltl\", \n",
    "                  name=f\"{s}_nd\", tmp_dir=f\"data/{s}_nd.parts\",\n",
    "                  processes=6, timeout=\"30\")\n",
    "    m.run()\n",
    "    !mv {s}_nd* data"
   ]
  },
  {
   "cell_type": "code",
   "execution_count": 5,
   "metadata": {},
   "outputs": [],
   "source": [
    "for s in [\"literature\",\"random\"]:\n",
    "    for t in [\"det\",\"sd\"]:\n",
    "        name = f\"{s}_{t}\"\n",
    "        m = Modulizer(tools, f\"../formulae/{name}.ltl\", \n",
    "                      name=name, tmp_dir=f\"data/{name}.parts\",\n",
    "                      processes=6, timeout=\"30\")\n",
    "        m.run()\n",
    "        !mv {name}* data"
   ]
  },
  {
   "cell_type": "code",
   "execution_count": 6,
   "metadata": {},
   "outputs": [],
   "source": [
    "owl_m.terminate_all()"
   ]
  }
 ],
 "metadata": {
  "jupytext": {
   "text_representation": {
    "extension": ".py",
    "format_name": "percent",
    "format_version": "1.3",
    "jupytext_version": "1.3.0"
   }
  },
  "kernelspec": {
   "display_name": "Python 3",
   "language": "python",
   "name": "python3"
  },
  "language_info": {
   "codemirror_mode": {
    "name": "ipython",
    "version": 3
   },
   "file_extension": ".py",
   "mimetype": "text/x-python",
   "name": "python",
   "nbconvert_exporter": "python",
   "pygments_lexer": "ipython3",
   "version": "3.7.6"
  }
 },
 "nbformat": 4,
 "nbformat_minor": 4
}
