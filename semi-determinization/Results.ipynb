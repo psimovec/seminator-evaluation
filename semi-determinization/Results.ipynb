{
 "cells": [
  {
   "cell_type": "code",
   "execution_count": 3,
   "metadata": {},
   "outputs": [],
   "source": [
    "from ltlcross_wrapper import ResAnalyzer, gather_cumulative, gather_mins"
   ]
  },
  {
   "cell_type": "code",
   "execution_count": 4,
   "metadata": {},
   "outputs": [],
   "source": [
    "nd_benchmarks = {}\n",
    "for name in [\"literature_nd\",\"random_nd\"]:\n",
    "    b = ResAnalyzer(f\"data/{name}.csv\", cols=[\"states\",\"time\",\"acc\",\"transitions\"])\n",
    "    nd_benchmarks[name] = b"
   ]
  },
  {
   "cell_type": "code",
   "execution_count": 7,
   "metadata": {},
   "outputs": [],
   "source": [
    "tool_set = [\"no.owl#a\",\"yes.owl#a\",\"yes.seminator-1-1\",\"yes.seminator#def\"]"
   ]
  },
  {
   "cell_type": "markdown",
   "metadata": {},
   "source": [
    "This notebook uses the same data as [Results-owl-best](Results-owl-best.ipynb). It shows the results for owl without the _best of Owl_ approach and uses the default setting, which is equivalent to `ltl2ldgba -a`."
   ]
  },
  {
   "cell_type": "code",
   "execution_count": 8,
   "metadata": {},
   "outputs": [
    {
     "data": {
      "text/html": [
       "<style  type=\"text/css\" >\n",
       "    #T_bca3eaae_8f21_11ea_b3db_d91a692eb517row2_col0 {\n",
       "            background-color:  lightgreen;\n",
       "        }    #T_bca3eaae_8f21_11ea_b3db_d91a692eb517row2_col1 {\n",
       "            background-color:  lightgreen;\n",
       "        }</style><table id=\"T_bca3eaae_8f21_11ea_b3db_d91a692eb517\" ><thead>    <tr>        <th class=\"blank level0\" ></th>        <th class=\"col_heading level0 col0\" >literature_nd</th>        <th class=\"col_heading level0 col1\" >random_nd</th>    </tr>    <tr>        <th class=\"index_name level0\" >tool</th>        <th class=\"blank\" ></th>        <th class=\"blank\" ></th>    </tr></thead><tbody>\n",
       "                <tr>\n",
       "                        <th id=\"T_bca3eaae_8f21_11ea_b3db_d91a692eb517level0_row0\" class=\"row_heading level0 row0\" >no.owl#a</th>\n",
       "                        <td id=\"T_bca3eaae_8f21_11ea_b3db_d91a692eb517row0_col0\" class=\"data row0 col0\" >322</td>\n",
       "                        <td id=\"T_bca3eaae_8f21_11ea_b3db_d91a692eb517row0_col1\" class=\"data row0 col1\" >6229</td>\n",
       "            </tr>\n",
       "            <tr>\n",
       "                        <th id=\"T_bca3eaae_8f21_11ea_b3db_d91a692eb517level0_row1\" class=\"row_heading level0 row1\" >yes.owl#a</th>\n",
       "                        <td id=\"T_bca3eaae_8f21_11ea_b3db_d91a692eb517row1_col0\" class=\"data row1 col0\" >250</td>\n",
       "                        <td id=\"T_bca3eaae_8f21_11ea_b3db_d91a692eb517row1_col1\" class=\"data row1 col1\" >4675</td>\n",
       "            </tr>\n",
       "            <tr>\n",
       "                        <th id=\"T_bca3eaae_8f21_11ea_b3db_d91a692eb517level0_row2\" class=\"row_heading level0 row2\" >yes.seminator#def</th>\n",
       "                        <td id=\"T_bca3eaae_8f21_11ea_b3db_d91a692eb517row2_col0\" class=\"data row2 col0\" >230</td>\n",
       "                        <td id=\"T_bca3eaae_8f21_11ea_b3db_d91a692eb517row2_col1\" class=\"data row2 col1\" >3956</td>\n",
       "            </tr>\n",
       "            <tr>\n",
       "                        <th id=\"T_bca3eaae_8f21_11ea_b3db_d91a692eb517level0_row3\" class=\"row_heading level0 row3\" >yes.seminator-1-1</th>\n",
       "                        <td id=\"T_bca3eaae_8f21_11ea_b3db_d91a692eb517row3_col0\" class=\"data row3 col0\" >297</td>\n",
       "                        <td id=\"T_bca3eaae_8f21_11ea_b3db_d91a692eb517row3_col1\" class=\"data row3 col1\" >7020</td>\n",
       "            </tr>\n",
       "    </tbody></table>"
      ],
      "text/plain": [
       "<pandas.io.formats.style.Styler at 0x7fb2b77890d0>"
      ]
     },
     "execution_count": 8,
     "metadata": {},
     "output_type": "execute_result"
    }
   ],
   "source": [
    "gather_cumulative(nd_benchmarks, tool_set=tool_set)"
   ]
  },
  {
   "cell_type": "markdown",
   "metadata": {},
   "source": [
    "### Minimal automata\n",
    "\n",
    "The following table shows for how many formulas each tool produces automaton that has the smallest number of states. The minimum ranges over the considered tools. The number in min hits shows how many times the same size as the smallest automaton was achieved. The number in unique min hits counts only cases where the given tool is the only tool with such a small automaton."
   ]
  },
  {
   "cell_type": "code",
   "execution_count": 9,
   "metadata": {},
   "outputs": [
    {
     "data": {
      "text/html": [
       "<style  type=\"text/css\" >\n",
       "    #T_bda5d2f0_8f21_11ea_b3db_d91a692eb517row2_col0 {\n",
       "            background-color:  lightgreen;\n",
       "        }    #T_bda5d2f0_8f21_11ea_b3db_d91a692eb517row2_col1 {\n",
       "            background-color:  lightgreen;\n",
       "        }    #T_bda5d2f0_8f21_11ea_b3db_d91a692eb517row2_col2 {\n",
       "            background-color:  lightgreen;\n",
       "        }    #T_bda5d2f0_8f21_11ea_b3db_d91a692eb517row2_col3 {\n",
       "            background-color:  lightgreen;\n",
       "        }</style><table id=\"T_bda5d2f0_8f21_11ea_b3db_d91a692eb517\" ><thead>    <tr>        <th class=\"blank level0\" ></th>        <th class=\"col_heading level0 col0\" colspan=2>literature_nd</th>        <th class=\"col_heading level0 col2\" colspan=2>random_nd</th>    </tr>    <tr>        <th class=\"blank level1\" ></th>        <th class=\"col_heading level1 col0\" >unique min hits</th>        <th class=\"col_heading level1 col1\" >min hits</th>        <th class=\"col_heading level1 col2\" >unique min hits</th>        <th class=\"col_heading level1 col3\" >min hits</th>    </tr>    <tr>        <th class=\"index_name level0\" >tool</th>        <th class=\"blank\" ></th>        <th class=\"blank\" ></th>        <th class=\"blank\" ></th>        <th class=\"blank\" ></th>    </tr></thead><tbody>\n",
       "                <tr>\n",
       "                        <th id=\"T_bda5d2f0_8f21_11ea_b3db_d91a692eb517level0_row0\" class=\"row_heading level0 row0\" >no.owl#a</th>\n",
       "                        <td id=\"T_bda5d2f0_8f21_11ea_b3db_d91a692eb517row0_col0\" class=\"data row0 col0\" >0</td>\n",
       "                        <td id=\"T_bda5d2f0_8f21_11ea_b3db_d91a692eb517row0_col1\" class=\"data row0 col1\" >6</td>\n",
       "                        <td id=\"T_bda5d2f0_8f21_11ea_b3db_d91a692eb517row0_col2\" class=\"data row0 col2\" >0</td>\n",
       "                        <td id=\"T_bda5d2f0_8f21_11ea_b3db_d91a692eb517row0_col3\" class=\"data row0 col3\" >124</td>\n",
       "            </tr>\n",
       "            <tr>\n",
       "                        <th id=\"T_bda5d2f0_8f21_11ea_b3db_d91a692eb517level0_row1\" class=\"row_heading level0 row1\" >yes.owl#a</th>\n",
       "                        <td id=\"T_bda5d2f0_8f21_11ea_b3db_d91a692eb517row1_col0\" class=\"data row1 col0\" >1</td>\n",
       "                        <td id=\"T_bda5d2f0_8f21_11ea_b3db_d91a692eb517row1_col1\" class=\"data row1 col1\" >11</td>\n",
       "                        <td id=\"T_bda5d2f0_8f21_11ea_b3db_d91a692eb517row1_col2\" class=\"data row1 col2\" >49</td>\n",
       "                        <td id=\"T_bda5d2f0_8f21_11ea_b3db_d91a692eb517row1_col3\" class=\"data row1 col3\" >231</td>\n",
       "            </tr>\n",
       "            <tr>\n",
       "                        <th id=\"T_bda5d2f0_8f21_11ea_b3db_d91a692eb517level0_row2\" class=\"row_heading level0 row2\" >yes.seminator#def</th>\n",
       "                        <td id=\"T_bda5d2f0_8f21_11ea_b3db_d91a692eb517row2_col0\" class=\"data row2 col0\" >6</td>\n",
       "                        <td id=\"T_bda5d2f0_8f21_11ea_b3db_d91a692eb517row2_col1\" class=\"data row2 col1\" >17</td>\n",
       "                        <td id=\"T_bda5d2f0_8f21_11ea_b3db_d91a692eb517row2_col2\" class=\"data row2 col2\" >243</td>\n",
       "                        <td id=\"T_bda5d2f0_8f21_11ea_b3db_d91a692eb517row2_col3\" class=\"data row2 col3\" >383</td>\n",
       "            </tr>\n",
       "            <tr>\n",
       "                        <th id=\"T_bda5d2f0_8f21_11ea_b3db_d91a692eb517level0_row3\" class=\"row_heading level0 row3\" >yes.seminator-1-1</th>\n",
       "                        <td id=\"T_bda5d2f0_8f21_11ea_b3db_d91a692eb517row3_col0\" class=\"data row3 col0\" >0</td>\n",
       "                        <td id=\"T_bda5d2f0_8f21_11ea_b3db_d91a692eb517row3_col1\" class=\"data row3 col1\" >8</td>\n",
       "                        <td id=\"T_bda5d2f0_8f21_11ea_b3db_d91a692eb517row3_col2\" class=\"data row3 col2\" >7</td>\n",
       "                        <td id=\"T_bda5d2f0_8f21_11ea_b3db_d91a692eb517row3_col3\" class=\"data row3 col3\" >65</td>\n",
       "            </tr>\n",
       "    </tbody></table>"
      ],
      "text/plain": [
       "<pandas.io.formats.style.Styler at 0x7fb2b797e6d0>"
      ]
     },
     "execution_count": 9,
     "metadata": {},
     "output_type": "execute_result"
    }
   ],
   "source": [
    "gather_mins(nd_benchmarks, tool_set=tool_set)"
   ]
  },
  {
   "cell_type": "markdown",
   "metadata": {},
   "source": [
    "### Running times and timeouts\n",
    "The older versions of Seminator reached the 30s timeout in one case for formulae from literature. Otherwise, most of the execution times were below 1s for all tools."
   ]
  },
  {
   "cell_type": "code",
   "execution_count": 10,
   "metadata": {},
   "outputs": [
    {
     "name": "stdout",
     "output_type": "stream",
     "text": [
      "literature_nd\n"
     ]
    },
    {
     "data": {
      "text/html": [
       "<div>\n",
       "<style scoped>\n",
       "    .dataframe tbody tr th:only-of-type {\n",
       "        vertical-align: middle;\n",
       "    }\n",
       "\n",
       "    .dataframe tbody tr th {\n",
       "        vertical-align: top;\n",
       "    }\n",
       "\n",
       "    .dataframe thead th {\n",
       "        text-align: right;\n",
       "    }\n",
       "</style>\n",
       "<table border=\"1\" class=\"dataframe\">\n",
       "  <thead>\n",
       "    <tr style=\"text-align: right;\">\n",
       "      <th></th>\n",
       "      <th>timeout</th>\n",
       "      <th>parse error</th>\n",
       "      <th>incorrect</th>\n",
       "      <th>crash</th>\n",
       "      <th>no output</th>\n",
       "    </tr>\n",
       "  </thead>\n",
       "  <tbody>\n",
       "    <tr>\n",
       "      <td>yes.seminator-1-1</td>\n",
       "      <td>1</td>\n",
       "      <td>0</td>\n",
       "      <td>0</td>\n",
       "      <td>0</td>\n",
       "      <td>0</td>\n",
       "    </tr>\n",
       "    <tr>\n",
       "      <td>yes.seminator-1-2</td>\n",
       "      <td>1</td>\n",
       "      <td>0</td>\n",
       "      <td>0</td>\n",
       "      <td>0</td>\n",
       "      <td>0</td>\n",
       "    </tr>\n",
       "  </tbody>\n",
       "</table>\n",
       "</div>"
      ],
      "text/plain": [
       "                   timeout  parse error  incorrect  crash  no output\n",
       "yes.seminator-1-1        1            0          0      0          0\n",
       "yes.seminator-1-2        1            0          0      0          0"
      ]
     },
     "metadata": {},
     "output_type": "display_data"
    },
    {
     "data": {
      "text/plain": [
       "tool\n",
       "no.owl#a              0.29772\n",
       "yes.owl#a             1.52884\n",
       "yes.seminator-1-1    30.01760\n",
       "yes.seminator#def     0.19749\n",
       "dtype: float64"
      ]
     },
     "metadata": {},
     "output_type": "display_data"
    },
    {
     "name": "stdout",
     "output_type": "stream",
     "text": [
      "random_nd\n"
     ]
    },
    {
     "data": {
      "text/html": [
       "<div>\n",
       "<style scoped>\n",
       "    .dataframe tbody tr th:only-of-type {\n",
       "        vertical-align: middle;\n",
       "    }\n",
       "\n",
       "    .dataframe tbody tr th {\n",
       "        vertical-align: top;\n",
       "    }\n",
       "\n",
       "    .dataframe thead th {\n",
       "        text-align: right;\n",
       "    }\n",
       "</style>\n",
       "<table border=\"1\" class=\"dataframe\">\n",
       "  <thead>\n",
       "    <tr style=\"text-align: right;\">\n",
       "      <th></th>\n",
       "      <th>timeout</th>\n",
       "      <th>parse error</th>\n",
       "      <th>incorrect</th>\n",
       "      <th>crash</th>\n",
       "      <th>no output</th>\n",
       "    </tr>\n",
       "    <tr>\n",
       "      <th>tool</th>\n",
       "      <th></th>\n",
       "      <th></th>\n",
       "      <th></th>\n",
       "      <th></th>\n",
       "      <th></th>\n",
       "    </tr>\n",
       "  </thead>\n",
       "  <tbody>\n",
       "  </tbody>\n",
       "</table>\n",
       "</div>"
      ],
      "text/plain": [
       "Empty DataFrame\n",
       "Columns: [timeout, parse error, incorrect, crash, no output]\n",
       "Index: []"
      ]
     },
     "metadata": {},
     "output_type": "display_data"
    },
    {
     "data": {
      "text/plain": [
       "tool\n",
       "no.owl#a             3.979390\n",
       "yes.owl#a            4.371700\n",
       "yes.seminator-1-1    7.845140\n",
       "yes.seminator#def    0.418309\n",
       "dtype: float64"
      ]
     },
     "metadata": {},
     "output_type": "display_data"
    }
   ],
   "source": [
    "for name, b in nd_benchmarks.items():\n",
    "    print(name)\n",
    "    display(b.get_error_counts())\n",
    "    display(b.values.time.max().loc[tool_set])"
   ]
  },
  {
   "cell_type": "code",
   "execution_count": 11,
   "metadata": {},
   "outputs": [
    {
     "data": {
      "text/plain": [
       "<seaborn.axisgrid.FacetGrid at 0x7fb2b76d5990>"
      ]
     },
     "execution_count": 11,
     "metadata": {},
     "output_type": "execute_result"
    },
    {
     "data": {
      "image/png": "[encoded data removed]",
      "text/plain": [
       "<Figure size 430.725x360 with 1 Axes>"
      ]
     },
     "metadata": {
      "needs_background": "light"
     },
     "output_type": "display_data"
    }
   ],
   "source": [
    "b.seaborn_scatter_plot(\"yes.owl#a\",\"yes.seminator#def\", include_equal=True)"
   ]
  },
  {
   "cell_type": "code",
   "execution_count": 12,
   "metadata": {},
   "outputs": [
    {
     "name": "stdout",
     "output_type": "stream",
     "text": [
      "literature_nd\n"
     ]
    },
    {
     "data": {
      "text/html": [
       "<style  type=\"text/css\" >\n",
       "    #T_bda5d2f1_8f21_11ea_b3db_d91a692eb517row0_col1 {\n",
       "            width:  10em;\n",
       "             height:  80%;\n",
       "        }    #T_bda5d2f1_8f21_11ea_b3db_d91a692eb517row0_col2 {\n",
       "            width:  10em;\n",
       "             height:  80%;\n",
       "            background:  linear-gradient(90deg,#E0FFE0 33.3%, transparent 33.3%);\n",
       "        }    #T_bda5d2f1_8f21_11ea_b3db_d91a692eb517row0_col3 {\n",
       "            width:  10em;\n",
       "             height:  80%;\n",
       "            background:  linear-gradient(90deg,#E0FFE0 28.6%, transparent 28.6%);\n",
       "        }    #T_bda5d2f1_8f21_11ea_b3db_d91a692eb517row0_col4 {\n",
       "            width:  10em;\n",
       "             height:  80%;\n",
       "            background:  linear-gradient(90deg,#E0FFE0 16.3%, transparent 16.3%);\n",
       "        }    #T_bda5d2f1_8f21_11ea_b3db_d91a692eb517row1_col0 {\n",
       "            width:  10em;\n",
       "             height:  80%;\n",
       "            background:  linear-gradient(90deg,#E0FFE0 100.0%, transparent 100.0%);\n",
       "        }    #T_bda5d2f1_8f21_11ea_b3db_d91a692eb517row1_col2 {\n",
       "            width:  10em;\n",
       "             height:  80%;\n",
       "            background:  linear-gradient(90deg,#E0FFE0 100.0%, transparent 100.0%);\n",
       "        }    #T_bda5d2f1_8f21_11ea_b3db_d91a692eb517row1_col3 {\n",
       "            width:  10em;\n",
       "             height:  80%;\n",
       "            background:  linear-gradient(90deg,#E0FFE0 100.0%, transparent 100.0%);\n",
       "        }    #T_bda5d2f1_8f21_11ea_b3db_d91a692eb517row1_col4 {\n",
       "            width:  10em;\n",
       "             height:  80%;\n",
       "            background:  linear-gradient(90deg,#E0FFE0 97.7%, transparent 97.7%);\n",
       "        }    #T_bda5d2f1_8f21_11ea_b3db_d91a692eb517row2_col0 {\n",
       "            width:  10em;\n",
       "             height:  80%;\n",
       "            background:  linear-gradient(90deg,#E0FFE0 75.0%, transparent 75.0%);\n",
       "        }    #T_bda5d2f1_8f21_11ea_b3db_d91a692eb517row2_col1 {\n",
       "            width:  10em;\n",
       "             height:  80%;\n",
       "            background:  linear-gradient(90deg,#E0FFE0 30.8%, transparent 30.8%);\n",
       "        }    #T_bda5d2f1_8f21_11ea_b3db_d91a692eb517row2_col3 {\n",
       "            width:  10em;\n",
       "             height:  80%;\n",
       "            background:  linear-gradient(90deg,#E0FFE0 100.0%, transparent 100.0%);\n",
       "        }    #T_bda5d2f1_8f21_11ea_b3db_d91a692eb517row2_col4 {\n",
       "            width:  10em;\n",
       "             height:  80%;\n",
       "            background:  linear-gradient(90deg,#E0FFE0 60.5%, transparent 60.5%);\n",
       "        }    #T_bda5d2f1_8f21_11ea_b3db_d91a692eb517row3_col0 {\n",
       "            width:  10em;\n",
       "             height:  80%;\n",
       "            background:  linear-gradient(90deg,#E0FFE0 90.0%, transparent 90.0%);\n",
       "        }    #T_bda5d2f1_8f21_11ea_b3db_d91a692eb517row3_col1 {\n",
       "            width:  10em;\n",
       "             height:  80%;\n",
       "            background:  linear-gradient(90deg,#E0FFE0 100.0%, transparent 100.0%);\n",
       "        }    #T_bda5d2f1_8f21_11ea_b3db_d91a692eb517row3_col2 {\n",
       "            width:  10em;\n",
       "             height:  80%;\n",
       "            background:  linear-gradient(90deg,#E0FFE0 80.0%, transparent 80.0%);\n",
       "        }    #T_bda5d2f1_8f21_11ea_b3db_d91a692eb517row3_col4 {\n",
       "            width:  10em;\n",
       "             height:  80%;\n",
       "            background:  linear-gradient(90deg,#E0FFE0 100.0%, transparent 100.0%);\n",
       "        }</style><table id=\"T_bda5d2f1_8f21_11ea_b3db_d91a692eb517\" ><thead>    <tr>        <th class=\"blank level0\" ></th>        <th class=\"col_heading level0 col0\" >no.owl#a</th>        <th class=\"col_heading level0 col1\" >yes.owl#a</th>        <th class=\"col_heading level0 col2\" >yes.seminator-1-1</th>        <th class=\"col_heading level0 col3\" >yes.seminator#def</th>        <th class=\"col_heading level0 col4\" >V</th>    </tr></thead><tbody>\n",
       "                <tr>\n",
       "                        <th id=\"T_bda5d2f1_8f21_11ea_b3db_d91a692eb517level0_row0\" class=\"row_heading level0 row0\" >no.owl#a</th>\n",
       "                        <td id=\"T_bda5d2f1_8f21_11ea_b3db_d91a692eb517row0_col0\" class=\"data row0 col0\" >nan</td>\n",
       "                        <td id=\"T_bda5d2f1_8f21_11ea_b3db_d91a692eb517row0_col1\" class=\"data row0 col1\" >0</td>\n",
       "                        <td id=\"T_bda5d2f1_8f21_11ea_b3db_d91a692eb517row0_col2\" class=\"data row0 col2\" >5</td>\n",
       "                        <td id=\"T_bda5d2f1_8f21_11ea_b3db_d91a692eb517row0_col3\" class=\"data row0 col3\" >2</td>\n",
       "                        <td id=\"T_bda5d2f1_8f21_11ea_b3db_d91a692eb517row0_col4\" class=\"data row0 col4\" >7</td>\n",
       "            </tr>\n",
       "            <tr>\n",
       "                        <th id=\"T_bda5d2f1_8f21_11ea_b3db_d91a692eb517level0_row1\" class=\"row_heading level0 row1\" >yes.owl#a</th>\n",
       "                        <td id=\"T_bda5d2f1_8f21_11ea_b3db_d91a692eb517row1_col0\" class=\"data row1 col0\" >20</td>\n",
       "                        <td id=\"T_bda5d2f1_8f21_11ea_b3db_d91a692eb517row1_col1\" class=\"data row1 col1\" >nan</td>\n",
       "                        <td id=\"T_bda5d2f1_8f21_11ea_b3db_d91a692eb517row1_col2\" class=\"data row1 col2\" >15</td>\n",
       "                        <td id=\"T_bda5d2f1_8f21_11ea_b3db_d91a692eb517row1_col3\" class=\"data row1 col3\" >7</td>\n",
       "                        <td id=\"T_bda5d2f1_8f21_11ea_b3db_d91a692eb517row1_col4\" class=\"data row1 col4\" >42</td>\n",
       "            </tr>\n",
       "            <tr>\n",
       "                        <th id=\"T_bda5d2f1_8f21_11ea_b3db_d91a692eb517level0_row2\" class=\"row_heading level0 row2\" >yes.seminator-1-1</th>\n",
       "                        <td id=\"T_bda5d2f1_8f21_11ea_b3db_d91a692eb517row2_col0\" class=\"data row2 col0\" >15</td>\n",
       "                        <td id=\"T_bda5d2f1_8f21_11ea_b3db_d91a692eb517row2_col1\" class=\"data row2 col1\" >4</td>\n",
       "                        <td id=\"T_bda5d2f1_8f21_11ea_b3db_d91a692eb517row2_col2\" class=\"data row2 col2\" >nan</td>\n",
       "                        <td id=\"T_bda5d2f1_8f21_11ea_b3db_d91a692eb517row2_col3\" class=\"data row2 col3\" >7</td>\n",
       "                        <td id=\"T_bda5d2f1_8f21_11ea_b3db_d91a692eb517row2_col4\" class=\"data row2 col4\" >26</td>\n",
       "            </tr>\n",
       "            <tr>\n",
       "                        <th id=\"T_bda5d2f1_8f21_11ea_b3db_d91a692eb517level0_row3\" class=\"row_heading level0 row3\" >yes.seminator#def</th>\n",
       "                        <td id=\"T_bda5d2f1_8f21_11ea_b3db_d91a692eb517row3_col0\" class=\"data row3 col0\" >18</td>\n",
       "                        <td id=\"T_bda5d2f1_8f21_11ea_b3db_d91a692eb517row3_col1\" class=\"data row3 col1\" >13</td>\n",
       "                        <td id=\"T_bda5d2f1_8f21_11ea_b3db_d91a692eb517row3_col2\" class=\"data row3 col2\" >12</td>\n",
       "                        <td id=\"T_bda5d2f1_8f21_11ea_b3db_d91a692eb517row3_col3\" class=\"data row3 col3\" >nan</td>\n",
       "                        <td id=\"T_bda5d2f1_8f21_11ea_b3db_d91a692eb517row3_col4\" class=\"data row3 col4\" >43</td>\n",
       "            </tr>\n",
       "    </tbody></table>"
      ],
      "text/plain": [
       "<pandas.io.formats.style.Styler at 0x7fb2b76cd410>"
      ]
     },
     "metadata": {},
     "output_type": "display_data"
    },
    {
     "name": "stdout",
     "output_type": "stream",
     "text": [
      "random_nd\n"
     ]
    },
    {
     "data": {
      "text/html": [
       "<style  type=\"text/css\" >\n",
       "    #T_bda5d2f2_8f21_11ea_b3db_d91a692eb517row0_col1 {\n",
       "            width:  10em;\n",
       "             height:  80%;\n",
       "        }    #T_bda5d2f2_8f21_11ea_b3db_d91a692eb517row0_col2 {\n",
       "            width:  10em;\n",
       "             height:  80%;\n",
       "            background:  linear-gradient(90deg,#E0FFE0 52.6%, transparent 52.6%);\n",
       "        }    #T_bda5d2f2_8f21_11ea_b3db_d91a692eb517row0_col3 {\n",
       "            width:  10em;\n",
       "             height:  80%;\n",
       "            background:  linear-gradient(90deg,#E0FFE0 56.8%, transparent 56.8%);\n",
       "        }    #T_bda5d2f2_8f21_11ea_b3db_d91a692eb517row0_col4 {\n",
       "            width:  10em;\n",
       "             height:  80%;\n",
       "            background:  linear-gradient(90deg,#E0FFE0 24.9%, transparent 24.9%);\n",
       "        }    #T_bda5d2f2_8f21_11ea_b3db_d91a692eb517row1_col0 {\n",
       "            width:  10em;\n",
       "             height:  80%;\n",
       "            background:  linear-gradient(90deg,#E0FFE0 100.0%, transparent 100.0%);\n",
       "        }    #T_bda5d2f2_8f21_11ea_b3db_d91a692eb517row1_col2 {\n",
       "            width:  10em;\n",
       "             height:  80%;\n",
       "            background:  linear-gradient(90deg,#E0FFE0 77.5%, transparent 77.5%);\n",
       "        }    #T_bda5d2f2_8f21_11ea_b3db_d91a692eb517row1_col3 {\n",
       "            width:  10em;\n",
       "             height:  80%;\n",
       "            background:  linear-gradient(90deg,#E0FFE0 100.0%, transparent 100.0%);\n",
       "        }    #T_bda5d2f2_8f21_11ea_b3db_d91a692eb517row1_col4 {\n",
       "            width:  10em;\n",
       "             height:  80%;\n",
       "            background:  linear-gradient(90deg,#E0FFE0 79.2%, transparent 79.2%);\n",
       "        }    #T_bda5d2f2_8f21_11ea_b3db_d91a692eb517row2_col0 {\n",
       "            width:  10em;\n",
       "             height:  80%;\n",
       "            background:  linear-gradient(90deg,#E0FFE0 56.0%, transparent 56.0%);\n",
       "        }    #T_bda5d2f2_8f21_11ea_b3db_d91a692eb517row2_col1 {\n",
       "            width:  10em;\n",
       "             height:  80%;\n",
       "            background:  linear-gradient(90deg,#E0FFE0 46.0%, transparent 46.0%);\n",
       "        }    #T_bda5d2f2_8f21_11ea_b3db_d91a692eb517row2_col3 {\n",
       "            width:  10em;\n",
       "             height:  80%;\n",
       "            background:  linear-gradient(90deg,#E0FFE0 34.1%, transparent 34.1%);\n",
       "        }    #T_bda5d2f2_8f21_11ea_b3db_d91a692eb517row2_col4 {\n",
       "            width:  10em;\n",
       "             height:  80%;\n",
       "            background:  linear-gradient(90deg,#E0FFE0 40.1%, transparent 40.1%);\n",
       "        }    #T_bda5d2f2_8f21_11ea_b3db_d91a692eb517row3_col0 {\n",
       "            width:  10em;\n",
       "             height:  80%;\n",
       "            background:  linear-gradient(90deg,#E0FFE0 86.3%, transparent 86.3%);\n",
       "        }    #T_bda5d2f2_8f21_11ea_b3db_d91a692eb517row3_col1 {\n",
       "            width:  10em;\n",
       "             height:  80%;\n",
       "            background:  linear-gradient(90deg,#E0FFE0 100.0%, transparent 100.0%);\n",
       "        }    #T_bda5d2f2_8f21_11ea_b3db_d91a692eb517row3_col2 {\n",
       "            width:  10em;\n",
       "             height:  80%;\n",
       "            background:  linear-gradient(90deg,#E0FFE0 100.0%, transparent 100.0%);\n",
       "        }    #T_bda5d2f2_8f21_11ea_b3db_d91a692eb517row3_col4 {\n",
       "            width:  10em;\n",
       "             height:  80%;\n",
       "            background:  linear-gradient(90deg,#E0FFE0 100.0%, transparent 100.0%);\n",
       "        }</style><table id=\"T_bda5d2f2_8f21_11ea_b3db_d91a692eb517\" ><thead>    <tr>        <th class=\"blank level0\" ></th>        <th class=\"col_heading level0 col0\" >no.owl#a</th>        <th class=\"col_heading level0 col1\" >yes.owl#a</th>        <th class=\"col_heading level0 col2\" >yes.seminator-1-1</th>        <th class=\"col_heading level0 col3\" >yes.seminator#def</th>        <th class=\"col_heading level0 col4\" >V</th>    </tr></thead><tbody>\n",
       "                <tr>\n",
       "                        <th id=\"T_bda5d2f2_8f21_11ea_b3db_d91a692eb517level0_row0\" class=\"row_heading level0 row0\" >no.owl#a</th>\n",
       "                        <td id=\"T_bda5d2f2_8f21_11ea_b3db_d91a692eb517row0_col0\" class=\"data row0 col0\" >nan</td>\n",
       "                        <td id=\"T_bda5d2f2_8f21_11ea_b3db_d91a692eb517row0_col1\" class=\"data row0 col1\" >0</td>\n",
       "                        <td id=\"T_bda5d2f2_8f21_11ea_b3db_d91a692eb517row0_col2\" class=\"data row0 col2\" >224</td>\n",
       "                        <td id=\"T_bda5d2f2_8f21_11ea_b3db_d91a692eb517row0_col3\" class=\"data row0 col3\" >75</td>\n",
       "                        <td id=\"T_bda5d2f2_8f21_11ea_b3db_d91a692eb517row0_col4\" class=\"data row0 col4\" >299</td>\n",
       "            </tr>\n",
       "            <tr>\n",
       "                        <th id=\"T_bda5d2f2_8f21_11ea_b3db_d91a692eb517level0_row1\" class=\"row_heading level0 row1\" >yes.owl#a</th>\n",
       "                        <td id=\"T_bda5d2f2_8f21_11ea_b3db_d91a692eb517row1_col0\" class=\"data row1 col0\" >489</td>\n",
       "                        <td id=\"T_bda5d2f2_8f21_11ea_b3db_d91a692eb517row1_col1\" class=\"data row1 col1\" >nan</td>\n",
       "                        <td id=\"T_bda5d2f2_8f21_11ea_b3db_d91a692eb517row1_col2\" class=\"data row1 col2\" >330</td>\n",
       "                        <td id=\"T_bda5d2f2_8f21_11ea_b3db_d91a692eb517row1_col3\" class=\"data row1 col3\" >132</td>\n",
       "                        <td id=\"T_bda5d2f2_8f21_11ea_b3db_d91a692eb517row1_col4\" class=\"data row1 col4\" >951</td>\n",
       "            </tr>\n",
       "            <tr>\n",
       "                        <th id=\"T_bda5d2f2_8f21_11ea_b3db_d91a692eb517level0_row2\" class=\"row_heading level0 row2\" >yes.seminator-1-1</th>\n",
       "                        <td id=\"T_bda5d2f2_8f21_11ea_b3db_d91a692eb517row2_col0\" class=\"data row2 col0\" >274</td>\n",
       "                        <td id=\"T_bda5d2f2_8f21_11ea_b3db_d91a692eb517row2_col1\" class=\"data row2 col1\" >162</td>\n",
       "                        <td id=\"T_bda5d2f2_8f21_11ea_b3db_d91a692eb517row2_col2\" class=\"data row2 col2\" >nan</td>\n",
       "                        <td id=\"T_bda5d2f2_8f21_11ea_b3db_d91a692eb517row2_col3\" class=\"data row2 col3\" >45</td>\n",
       "                        <td id=\"T_bda5d2f2_8f21_11ea_b3db_d91a692eb517row2_col4\" class=\"data row2 col4\" >481</td>\n",
       "            </tr>\n",
       "            <tr>\n",
       "                        <th id=\"T_bda5d2f2_8f21_11ea_b3db_d91a692eb517level0_row3\" class=\"row_heading level0 row3\" >yes.seminator#def</th>\n",
       "                        <td id=\"T_bda5d2f2_8f21_11ea_b3db_d91a692eb517row3_col0\" class=\"data row3 col0\" >422</td>\n",
       "                        <td id=\"T_bda5d2f2_8f21_11ea_b3db_d91a692eb517row3_col1\" class=\"data row3 col1\" >352</td>\n",
       "                        <td id=\"T_bda5d2f2_8f21_11ea_b3db_d91a692eb517row3_col2\" class=\"data row3 col2\" >426</td>\n",
       "                        <td id=\"T_bda5d2f2_8f21_11ea_b3db_d91a692eb517row3_col3\" class=\"data row3 col3\" >nan</td>\n",
       "                        <td id=\"T_bda5d2f2_8f21_11ea_b3db_d91a692eb517row3_col4\" class=\"data row3 col4\" >1200</td>\n",
       "            </tr>\n",
       "    </tbody></table>"
      ],
      "text/plain": [
       "<pandas.io.formats.style.Styler at 0x7fb2b76d5390>"
      ]
     },
     "metadata": {},
     "output_type": "display_data"
    }
   ],
   "source": [
    "for n, b in nd_benchmarks.items():\n",
    "    print(n)\n",
    "    display(b.cross_compare(tool_set=tool_set))"
   ]
  }
 ],
 "metadata": {
  "kernelspec": {
   "display_name": "Python 3",
   "language": "python",
   "name": "python3"
  },
  "language_info": {
   "codemirror_mode": {
    "name": "ipython",
    "version": 3
   },
   "file_extension": ".py",
   "mimetype": "text/x-python",
   "name": "python",
   "nbconvert_exporter": "python",
   "pygments_lexer": "ipython3",
   "version": "3.7.5"
  }
 },
 "nbformat": 4,
 "nbformat_minor": 4
}
