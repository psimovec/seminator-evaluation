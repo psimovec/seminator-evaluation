{
 "cells": [
  {
   "cell_type": "code",
   "execution_count": 1,
   "metadata": {},
   "outputs": [],
   "source": [
    "from ltlcross_wrapper import ResAnalyzer, gather_cumulative, gather_mins"
   ]
  },
  {
   "cell_type": "code",
   "execution_count": 2,
   "metadata": {},
   "outputs": [],
   "source": [
    "nd_benchmarks = {}\n",
    "for name in [\"literature_nd\",\"random_nd\"]:\n",
    "    b = ResAnalyzer(f\"data/{name}.csv\", cols=[\"states\",\"time\",\"acc\",\"transitions\"])\n",
    "    nd_benchmarks[name] = b"
   ]
  },
  {
   "cell_type": "code",
   "execution_count": 3,
   "metadata": {},
   "outputs": [],
   "source": [
    "tool_set = [\"yes.seminator#def\",\"yes.seminator-1-1\",\"yes.seminator-1-2\",\"yes.owl#a\"]"
   ]
  },
  {
   "cell_type": "markdown",
   "metadata": {},
   "source": [
    "For each benchmark, we list the cumulative numbers of states for each tool. `yes` in the name of tools means that the Spot simplifications were applied on the results of the tools (were not disabled for `seminator`). `#a` is the default setting of Owl, `#def` is the default setting of Seminator 2. `-1-1` and `-1-2` indicate older version numbers of `seminator`. If you want to see numbers where Spot's simplifications were disabled (not run for Owl) set tool_set to `None`. If you do, the `#a` stands for `ltl2ldgba -a` and analogously for `#s`. For `seminator`, by `#tba` (and analogies) we denote `seminator --via-tba` etc."
   ]
  },
  {
   "cell_type": "code",
   "execution_count": 4,
   "metadata": {},
   "outputs": [
    {
     "data": {
      "text/html": [
       "<style  type=\"text/css\" >\n",
       "    #T_b7263dd0_3f02_11ea_a2da_51fac7bede2frow1_col0 {\n",
       "            background-color:  lightgreen;\n",
       "        }    #T_b7263dd0_3f02_11ea_a2da_51fac7bede2frow1_col1 {\n",
       "            background-color:  lightgreen;\n",
       "        }</style><table id=\"T_b7263dd0_3f02_11ea_a2da_51fac7bede2f\" ><thead>    <tr>        <th class=\"blank level0\" ></th>        <th class=\"col_heading level0 col0\" >literature_nd</th>        <th class=\"col_heading level0 col1\" >random_nd</th>    </tr>    <tr>        <th class=\"index_name level0\" >tool</th>        <th class=\"blank\" ></th>        <th class=\"blank\" ></th>    </tr></thead><tbody>\n",
       "                <tr>\n",
       "                        <th id=\"T_b7263dd0_3f02_11ea_a2da_51fac7bede2flevel0_row0\" class=\"row_heading level0 row0\" >yes.owl#a</th>\n",
       "                        <td id=\"T_b7263dd0_3f02_11ea_a2da_51fac7bede2frow0_col0\" class=\"data row0 col0\" >250</td>\n",
       "                        <td id=\"T_b7263dd0_3f02_11ea_a2da_51fac7bede2frow0_col1\" class=\"data row0 col1\" >4675</td>\n",
       "            </tr>\n",
       "            <tr>\n",
       "                        <th id=\"T_b7263dd0_3f02_11ea_a2da_51fac7bede2flevel0_row1\" class=\"row_heading level0 row1\" >yes.seminator#def</th>\n",
       "                        <td id=\"T_b7263dd0_3f02_11ea_a2da_51fac7bede2frow1_col0\" class=\"data row1 col0\" >230</td>\n",
       "                        <td id=\"T_b7263dd0_3f02_11ea_a2da_51fac7bede2frow1_col1\" class=\"data row1 col1\" >3963</td>\n",
       "            </tr>\n",
       "            <tr>\n",
       "                        <th id=\"T_b7263dd0_3f02_11ea_a2da_51fac7bede2flevel0_row2\" class=\"row_heading level0 row2\" >yes.seminator-1-1</th>\n",
       "                        <td id=\"T_b7263dd0_3f02_11ea_a2da_51fac7bede2frow2_col0\" class=\"data row2 col0\" >297</td>\n",
       "                        <td id=\"T_b7263dd0_3f02_11ea_a2da_51fac7bede2frow2_col1\" class=\"data row2 col1\" >7024</td>\n",
       "            </tr>\n",
       "            <tr>\n",
       "                        <th id=\"T_b7263dd0_3f02_11ea_a2da_51fac7bede2flevel0_row3\" class=\"row_heading level0 row3\" >yes.seminator-1-2</th>\n",
       "                        <td id=\"T_b7263dd0_3f02_11ea_a2da_51fac7bede2frow3_col0\" class=\"data row3 col0\" >238</td>\n",
       "                        <td id=\"T_b7263dd0_3f02_11ea_a2da_51fac7bede2frow3_col1\" class=\"data row3 col1\" >4532</td>\n",
       "            </tr>\n",
       "    </tbody></table>"
      ],
      "text/plain": [
       "<pandas.io.formats.style.Styler at 0x7fccc6b63cd0>"
      ]
     },
     "execution_count": 4,
     "metadata": {},
     "output_type": "execute_result"
    }
   ],
   "source": [
    "gather_cumulative(nd_benchmarks, tool_set=tool_set)"
   ]
  },
  {
   "cell_type": "markdown",
   "metadata": {},
   "source": [
    "### Minimal automata\n",
    "\n",
    "The following table shows for how many formulas each tool produces automaton that has the smallest number of states. The minimum ranges over the considered tools. The number in min hits shows how many times the same size as the smallest automaton was achieved. The number in unique min hits counts only cases where the given tool is the only tool with such a small automaton."
   ]
  },
  {
   "cell_type": "code",
   "execution_count": 5,
   "metadata": {},
   "outputs": [
    {
     "data": {
      "text/html": [
       "<style  type=\"text/css\" >\n",
       "    #T_b7263dd1_3f02_11ea_a2da_51fac7bede2frow0_col0 {\n",
       "            background-color:  lightgreen;\n",
       "        }    #T_b7263dd1_3f02_11ea_a2da_51fac7bede2frow1_col0 {\n",
       "            background-color:  lightgreen;\n",
       "        }    #T_b7263dd1_3f02_11ea_a2da_51fac7bede2frow1_col1 {\n",
       "            background-color:  lightgreen;\n",
       "        }    #T_b7263dd1_3f02_11ea_a2da_51fac7bede2frow1_col2 {\n",
       "            background-color:  lightgreen;\n",
       "        }    #T_b7263dd1_3f02_11ea_a2da_51fac7bede2frow1_col3 {\n",
       "            background-color:  lightgreen;\n",
       "        }</style><table id=\"T_b7263dd1_3f02_11ea_a2da_51fac7bede2f\" ><thead>    <tr>        <th class=\"blank level0\" ></th>        <th class=\"col_heading level0 col0\" colspan=2>literature_nd</th>        <th class=\"col_heading level0 col2\" colspan=2>random_nd</th>    </tr>    <tr>        <th class=\"blank level1\" ></th>        <th class=\"col_heading level1 col0\" >unique min hits</th>        <th class=\"col_heading level1 col1\" >min hits</th>        <th class=\"col_heading level1 col2\" >unique min hits</th>        <th class=\"col_heading level1 col3\" >min hits</th>    </tr>    <tr>        <th class=\"index_name level0\" >tool</th>        <th class=\"blank\" ></th>        <th class=\"blank\" ></th>        <th class=\"blank\" ></th>        <th class=\"blank\" ></th>    </tr></thead><tbody>\n",
       "                <tr>\n",
       "                        <th id=\"T_b7263dd1_3f02_11ea_a2da_51fac7bede2flevel0_row0\" class=\"row_heading level0 row0\" >yes.owl#a</th>\n",
       "                        <td id=\"T_b7263dd1_3f02_11ea_a2da_51fac7bede2frow0_col0\" class=\"data row0 col0\" >3</td>\n",
       "                        <td id=\"T_b7263dd1_3f02_11ea_a2da_51fac7bede2frow0_col1\" class=\"data row0 col1\" >11</td>\n",
       "                        <td id=\"T_b7263dd1_3f02_11ea_a2da_51fac7bede2frow0_col2\" class=\"data row0 col2\" >97</td>\n",
       "                        <td id=\"T_b7263dd1_3f02_11ea_a2da_51fac7bede2frow0_col3\" class=\"data row0 col3\" >230</td>\n",
       "            </tr>\n",
       "            <tr>\n",
       "                        <th id=\"T_b7263dd1_3f02_11ea_a2da_51fac7bede2flevel0_row1\" class=\"row_heading level0 row1\" >yes.seminator#def</th>\n",
       "                        <td id=\"T_b7263dd1_3f02_11ea_a2da_51fac7bede2frow1_col0\" class=\"data row1 col0\" >3</td>\n",
       "                        <td id=\"T_b7263dd1_3f02_11ea_a2da_51fac7bede2frow1_col1\" class=\"data row1 col1\" >17</td>\n",
       "                        <td id=\"T_b7263dd1_3f02_11ea_a2da_51fac7bede2frow1_col2\" class=\"data row1 col2\" >119</td>\n",
       "                        <td id=\"T_b7263dd1_3f02_11ea_a2da_51fac7bede2frow1_col3\" class=\"data row1 col3\" >380</td>\n",
       "            </tr>\n",
       "            <tr>\n",
       "                        <th id=\"T_b7263dd1_3f02_11ea_a2da_51fac7bede2flevel0_row2\" class=\"row_heading level0 row2\" >yes.seminator-1-1</th>\n",
       "                        <td id=\"T_b7263dd1_3f02_11ea_a2da_51fac7bede2frow2_col0\" class=\"data row2 col0\" >0</td>\n",
       "                        <td id=\"T_b7263dd1_3f02_11ea_a2da_51fac7bede2frow2_col1\" class=\"data row2 col1\" >8</td>\n",
       "                        <td id=\"T_b7263dd1_3f02_11ea_a2da_51fac7bede2frow2_col2\" class=\"data row2 col2\" >3</td>\n",
       "                        <td id=\"T_b7263dd1_3f02_11ea_a2da_51fac7bede2frow2_col3\" class=\"data row2 col3\" >64</td>\n",
       "            </tr>\n",
       "            <tr>\n",
       "                        <th id=\"T_b7263dd1_3f02_11ea_a2da_51fac7bede2flevel0_row3\" class=\"row_heading level0 row3\" >yes.seminator-1-2</th>\n",
       "                        <td id=\"T_b7263dd1_3f02_11ea_a2da_51fac7bede2frow3_col0\" class=\"data row3 col0\" >0</td>\n",
       "                        <td id=\"T_b7263dd1_3f02_11ea_a2da_51fac7bede2frow3_col1\" class=\"data row3 col1\" >13</td>\n",
       "                        <td id=\"T_b7263dd1_3f02_11ea_a2da_51fac7bede2frow3_col2\" class=\"data row3 col2\" >3</td>\n",
       "                        <td id=\"T_b7263dd1_3f02_11ea_a2da_51fac7bede2frow3_col3\" class=\"data row3 col3\" >237</td>\n",
       "            </tr>\n",
       "    </tbody></table>"
      ],
      "text/plain": [
       "<pandas.io.formats.style.Styler at 0x7fccc5901990>"
      ]
     },
     "execution_count": 5,
     "metadata": {},
     "output_type": "execute_result"
    }
   ],
   "source": [
    "gather_mins(nd_benchmarks, tool_set=tool_set)"
   ]
  },
  {
   "cell_type": "markdown",
   "metadata": {},
   "source": [
    "### Running times and timeouts\n",
    "The older versions of Seminator reached the 30s timeout in one case for formulae from literature. Otherwise, most of the execution times were below 1s for all tools."
   ]
  },
  {
   "cell_type": "code",
   "execution_count": 6,
   "metadata": {},
   "outputs": [
    {
     "name": "stdout",
     "output_type": "stream",
     "text": [
      "literature_nd\n"
     ]
    },
    {
     "data": {
      "text/html": [
       "<div>\n",
       "<style scoped>\n",
       "    .dataframe tbody tr th:only-of-type {\n",
       "        vertical-align: middle;\n",
       "    }\n",
       "\n",
       "    .dataframe tbody tr th {\n",
       "        vertical-align: top;\n",
       "    }\n",
       "\n",
       "    .dataframe thead th {\n",
       "        text-align: right;\n",
       "    }\n",
       "</style>\n",
       "<table border=\"1\" class=\"dataframe\">\n",
       "  <thead>\n",
       "    <tr style=\"text-align: right;\">\n",
       "      <th></th>\n",
       "      <th>timeout</th>\n",
       "      <th>parse error</th>\n",
       "      <th>incorrect</th>\n",
       "      <th>crash</th>\n",
       "      <th>no output</th>\n",
       "    </tr>\n",
       "  </thead>\n",
       "  <tbody>\n",
       "    <tr>\n",
       "      <td>yes.seminator-1-1</td>\n",
       "      <td>1</td>\n",
       "      <td>0</td>\n",
       "      <td>0</td>\n",
       "      <td>0</td>\n",
       "      <td>0</td>\n",
       "    </tr>\n",
       "    <tr>\n",
       "      <td>yes.seminator-1-2</td>\n",
       "      <td>1</td>\n",
       "      <td>0</td>\n",
       "      <td>0</td>\n",
       "      <td>0</td>\n",
       "      <td>0</td>\n",
       "    </tr>\n",
       "  </tbody>\n",
       "</table>\n",
       "</div>"
      ],
      "text/plain": [
       "                   timeout  parse error  incorrect  crash  no output\n",
       "yes.seminator-1-1        1            0          0      0          0\n",
       "yes.seminator-1-2        1            0          0      0          0"
      ]
     },
     "metadata": {},
     "output_type": "display_data"
    },
    {
     "data": {
      "text/plain": [
       "tool\n",
       "yes.seminator#def     0.076844\n",
       "yes.seminator-1-1    30.003500\n",
       "yes.seminator-1-2    30.000500\n",
       "yes.owl#a             0.123179\n",
       "dtype: float64"
      ]
     },
     "metadata": {},
     "output_type": "display_data"
    },
    {
     "name": "stdout",
     "output_type": "stream",
     "text": [
      "random_nd\n"
     ]
    },
    {
     "data": {
      "text/html": [
       "<div>\n",
       "<style scoped>\n",
       "    .dataframe tbody tr th:only-of-type {\n",
       "        vertical-align: middle;\n",
       "    }\n",
       "\n",
       "    .dataframe tbody tr th {\n",
       "        vertical-align: top;\n",
       "    }\n",
       "\n",
       "    .dataframe thead th {\n",
       "        text-align: right;\n",
       "    }\n",
       "</style>\n",
       "<table border=\"1\" class=\"dataframe\">\n",
       "  <thead>\n",
       "    <tr style=\"text-align: right;\">\n",
       "      <th></th>\n",
       "      <th>timeout</th>\n",
       "      <th>parse error</th>\n",
       "      <th>incorrect</th>\n",
       "      <th>crash</th>\n",
       "      <th>no output</th>\n",
       "    </tr>\n",
       "    <tr>\n",
       "      <th>tool</th>\n",
       "      <th></th>\n",
       "      <th></th>\n",
       "      <th></th>\n",
       "      <th></th>\n",
       "      <th></th>\n",
       "    </tr>\n",
       "  </thead>\n",
       "  <tbody>\n",
       "  </tbody>\n",
       "</table>\n",
       "</div>"
      ],
      "text/plain": [
       "Empty DataFrame\n",
       "Columns: [timeout, parse error, incorrect, crash, no output]\n",
       "Index: []"
      ]
     },
     "metadata": {},
     "output_type": "display_data"
    },
    {
     "data": {
      "text/plain": [
       "tool\n",
       "yes.seminator#def    0.288713\n",
       "yes.seminator-1-1    5.685760\n",
       "yes.seminator-1-2    0.450692\n",
       "yes.owl#a            1.599630\n",
       "dtype: float64"
      ]
     },
     "metadata": {},
     "output_type": "display_data"
    }
   ],
   "source": [
    "for name, b in nd_benchmarks.items():\n",
    "    print(name)\n",
    "    display(b.get_error_counts())\n",
    "    display(b.values.time.max().loc[tool_set])"
   ]
  },
  {
   "cell_type": "code",
   "execution_count": 7,
   "metadata": {},
   "outputs": [
    {
     "data": {
      "image/png": "[encoded data removed]",
      "text/plain": [
       "<Figure size 430.725x360 with 1 Axes>"
      ]
     },
     "metadata": {
      "needs_background": "light"
     },
     "output_type": "display_data"
    }
   ],
   "source": [
    "b.seaborn_scatter_plot(\"yes.owl#a\",\"yes.seminator#def\", include_equal=True)"
   ]
  },
  {
   "cell_type": "code",
   "execution_count": 8,
   "metadata": {},
   "outputs": [
    {
     "name": "stdout",
     "output_type": "stream",
     "text": [
      "literature_nd\n"
     ]
    },
    {
     "data": {
      "text/html": [
       "<style  type=\"text/css\" >\n",
       "    #T_b7263dd2_3f02_11ea_a2da_51fac7bede2frow0_col1 {\n",
       "            width:  10em;\n",
       "             height:  80%;\n",
       "            background:  linear-gradient(90deg,#E0FFE0 80.0%, transparent 80.0%);\n",
       "        }    #T_b7263dd2_3f02_11ea_a2da_51fac7bede2frow0_col2 {\n",
       "            width:  10em;\n",
       "             height:  80%;\n",
       "            background:  linear-gradient(90deg,#E0FFE0 100.0%, transparent 100.0%);\n",
       "        }    #T_b7263dd2_3f02_11ea_a2da_51fac7bede2frow0_col3 {\n",
       "            width:  10em;\n",
       "             height:  80%;\n",
       "            background:  linear-gradient(90deg,#E0FFE0 100.0%, transparent 100.0%);\n",
       "        }    #T_b7263dd2_3f02_11ea_a2da_51fac7bede2frow0_col4 {\n",
       "            width:  10em;\n",
       "             height:  80%;\n",
       "            background:  linear-gradient(90deg,#E0FFE0 100.0%, transparent 100.0%);\n",
       "        }    #T_b7263dd2_3f02_11ea_a2da_51fac7bede2frow1_col0 {\n",
       "            width:  10em;\n",
       "             height:  80%;\n",
       "            background:  linear-gradient(90deg,#E0FFE0 70.0%, transparent 70.0%);\n",
       "        }    #T_b7263dd2_3f02_11ea_a2da_51fac7bede2frow1_col2 {\n",
       "            width:  10em;\n",
       "             height:  80%;\n",
       "        }    #T_b7263dd2_3f02_11ea_a2da_51fac7bede2frow1_col3 {\n",
       "            width:  10em;\n",
       "             height:  80%;\n",
       "            background:  linear-gradient(90deg,#E0FFE0 30.8%, transparent 30.8%);\n",
       "        }    #T_b7263dd2_3f02_11ea_a2da_51fac7bede2frow1_col4 {\n",
       "            width:  10em;\n",
       "             height:  80%;\n",
       "            background:  linear-gradient(90deg,#E0FFE0 33.3%, transparent 33.3%);\n",
       "        }    #T_b7263dd2_3f02_11ea_a2da_51fac7bede2frow2_col0 {\n",
       "            width:  10em;\n",
       "             height:  80%;\n",
       "            background:  linear-gradient(90deg,#E0FFE0 100.0%, transparent 100.0%);\n",
       "        }    #T_b7263dd2_3f02_11ea_a2da_51fac7bede2frow2_col1 {\n",
       "            width:  10em;\n",
       "             height:  80%;\n",
       "            background:  linear-gradient(90deg,#E0FFE0 60.0%, transparent 60.0%);\n",
       "        }    #T_b7263dd2_3f02_11ea_a2da_51fac7bede2frow2_col3 {\n",
       "            width:  10em;\n",
       "             height:  80%;\n",
       "            background:  linear-gradient(90deg,#E0FFE0 84.6%, transparent 84.6%);\n",
       "        }    #T_b7263dd2_3f02_11ea_a2da_51fac7bede2frow2_col4 {\n",
       "            width:  10em;\n",
       "             height:  80%;\n",
       "            background:  linear-gradient(90deg,#E0FFE0 90.9%, transparent 90.9%);\n",
       "        }    #T_b7263dd2_3f02_11ea_a2da_51fac7bede2frow3_col0 {\n",
       "            width:  10em;\n",
       "             height:  80%;\n",
       "            background:  linear-gradient(90deg,#E0FFE0 70.0%, transparent 70.0%);\n",
       "        }    #T_b7263dd2_3f02_11ea_a2da_51fac7bede2frow3_col1 {\n",
       "            width:  10em;\n",
       "             height:  80%;\n",
       "            background:  linear-gradient(90deg,#E0FFE0 100.0%, transparent 100.0%);\n",
       "        }    #T_b7263dd2_3f02_11ea_a2da_51fac7bede2frow3_col2 {\n",
       "            width:  10em;\n",
       "             height:  80%;\n",
       "            background:  linear-gradient(90deg,#E0FFE0 100.0%, transparent 100.0%);\n",
       "        }    #T_b7263dd2_3f02_11ea_a2da_51fac7bede2frow3_col4 {\n",
       "            width:  10em;\n",
       "             height:  80%;\n",
       "            background:  linear-gradient(90deg,#E0FFE0 90.9%, transparent 90.9%);\n",
       "        }</style><table id=\"T_b7263dd2_3f02_11ea_a2da_51fac7bede2f\" ><thead>    <tr>        <th class=\"blank level0\" ></th>        <th class=\"col_heading level0 col0\" >yes.seminator#def</th>        <th class=\"col_heading level0 col1\" >yes.seminator-1-1</th>        <th class=\"col_heading level0 col2\" >yes.seminator-1-2</th>        <th class=\"col_heading level0 col3\" >yes.owl#a</th>        <th class=\"col_heading level0 col4\" >V</th>    </tr></thead><tbody>\n",
       "                <tr>\n",
       "                        <th id=\"T_b7263dd2_3f02_11ea_a2da_51fac7bede2flevel0_row0\" class=\"row_heading level0 row0\" >yes.seminator#def</th>\n",
       "                        <td id=\"T_b7263dd2_3f02_11ea_a2da_51fac7bede2frow0_col0\" class=\"data row0 col0\" >nan</td>\n",
       "                        <td id=\"T_b7263dd2_3f02_11ea_a2da_51fac7bede2frow0_col1\" class=\"data row0 col1\" >12</td>\n",
       "                        <td id=\"T_b7263dd2_3f02_11ea_a2da_51fac7bede2frow0_col2\" class=\"data row0 col2\" >8</td>\n",
       "                        <td id=\"T_b7263dd2_3f02_11ea_a2da_51fac7bede2frow0_col3\" class=\"data row0 col3\" >13</td>\n",
       "                        <td id=\"T_b7263dd2_3f02_11ea_a2da_51fac7bede2frow0_col4\" class=\"data row0 col4\" >33</td>\n",
       "            </tr>\n",
       "            <tr>\n",
       "                        <th id=\"T_b7263dd2_3f02_11ea_a2da_51fac7bede2flevel0_row1\" class=\"row_heading level0 row1\" >yes.seminator-1-1</th>\n",
       "                        <td id=\"T_b7263dd2_3f02_11ea_a2da_51fac7bede2frow1_col0\" class=\"data row1 col0\" >7</td>\n",
       "                        <td id=\"T_b7263dd2_3f02_11ea_a2da_51fac7bede2frow1_col1\" class=\"data row1 col1\" >nan</td>\n",
       "                        <td id=\"T_b7263dd2_3f02_11ea_a2da_51fac7bede2frow1_col2\" class=\"data row1 col2\" >0</td>\n",
       "                        <td id=\"T_b7263dd2_3f02_11ea_a2da_51fac7bede2frow1_col3\" class=\"data row1 col3\" >4</td>\n",
       "                        <td id=\"T_b7263dd2_3f02_11ea_a2da_51fac7bede2frow1_col4\" class=\"data row1 col4\" >11</td>\n",
       "            </tr>\n",
       "            <tr>\n",
       "                        <th id=\"T_b7263dd2_3f02_11ea_a2da_51fac7bede2flevel0_row2\" class=\"row_heading level0 row2\" >yes.seminator-1-2</th>\n",
       "                        <td id=\"T_b7263dd2_3f02_11ea_a2da_51fac7bede2frow2_col0\" class=\"data row2 col0\" >10</td>\n",
       "                        <td id=\"T_b7263dd2_3f02_11ea_a2da_51fac7bede2frow2_col1\" class=\"data row2 col1\" >9</td>\n",
       "                        <td id=\"T_b7263dd2_3f02_11ea_a2da_51fac7bede2frow2_col2\" class=\"data row2 col2\" >nan</td>\n",
       "                        <td id=\"T_b7263dd2_3f02_11ea_a2da_51fac7bede2frow2_col3\" class=\"data row2 col3\" >11</td>\n",
       "                        <td id=\"T_b7263dd2_3f02_11ea_a2da_51fac7bede2frow2_col4\" class=\"data row2 col4\" >30</td>\n",
       "            </tr>\n",
       "            <tr>\n",
       "                        <th id=\"T_b7263dd2_3f02_11ea_a2da_51fac7bede2flevel0_row3\" class=\"row_heading level0 row3\" >yes.owl#a</th>\n",
       "                        <td id=\"T_b7263dd2_3f02_11ea_a2da_51fac7bede2frow3_col0\" class=\"data row3 col0\" >7</td>\n",
       "                        <td id=\"T_b7263dd2_3f02_11ea_a2da_51fac7bede2frow3_col1\" class=\"data row3 col1\" >15</td>\n",
       "                        <td id=\"T_b7263dd2_3f02_11ea_a2da_51fac7bede2frow3_col2\" class=\"data row3 col2\" >8</td>\n",
       "                        <td id=\"T_b7263dd2_3f02_11ea_a2da_51fac7bede2frow3_col3\" class=\"data row3 col3\" >nan</td>\n",
       "                        <td id=\"T_b7263dd2_3f02_11ea_a2da_51fac7bede2frow3_col4\" class=\"data row3 col4\" >30</td>\n",
       "            </tr>\n",
       "    </tbody></table>"
      ],
      "text/plain": [
       "<pandas.io.formats.style.Styler at 0x7fccc591a710>"
      ]
     },
     "metadata": {},
     "output_type": "display_data"
    },
    {
     "name": "stdout",
     "output_type": "stream",
     "text": [
      "random_nd\n"
     ]
    },
    {
     "data": {
      "text/html": [
       "<style  type=\"text/css\" >\n",
       "    #T_b83d9452_3f02_11ea_a2da_51fac7bede2frow0_col1 {\n",
       "            width:  10em;\n",
       "             height:  80%;\n",
       "            background:  linear-gradient(90deg,#E0FFE0 100.0%, transparent 100.0%);\n",
       "        }    #T_b83d9452_3f02_11ea_a2da_51fac7bede2frow0_col2 {\n",
       "            width:  10em;\n",
       "             height:  80%;\n",
       "            background:  linear-gradient(90deg,#E0FFE0 100.0%, transparent 100.0%);\n",
       "        }    #T_b83d9452_3f02_11ea_a2da_51fac7bede2frow0_col3 {\n",
       "            width:  10em;\n",
       "             height:  80%;\n",
       "            background:  linear-gradient(90deg,#E0FFE0 100.0%, transparent 100.0%);\n",
       "        }    #T_b83d9452_3f02_11ea_a2da_51fac7bede2frow0_col4 {\n",
       "            width:  10em;\n",
       "             height:  80%;\n",
       "            background:  linear-gradient(90deg,#E0FFE0 100.0%, transparent 100.0%);\n",
       "        }    #T_b83d9452_3f02_11ea_a2da_51fac7bede2frow1_col0 {\n",
       "            width:  10em;\n",
       "             height:  80%;\n",
       "            background:  linear-gradient(90deg,#E0FFE0 30.2%, transparent 30.2%);\n",
       "        }    #T_b83d9452_3f02_11ea_a2da_51fac7bede2frow1_col2 {\n",
       "            width:  10em;\n",
       "             height:  80%;\n",
       "            background:  linear-gradient(90deg,#E0FFE0 9.5%, transparent 9.5%);\n",
       "        }    #T_b83d9452_3f02_11ea_a2da_51fac7bede2frow1_col3 {\n",
       "            width:  10em;\n",
       "             height:  80%;\n",
       "            background:  linear-gradient(90deg,#E0FFE0 46.3%, transparent 46.3%);\n",
       "        }    #T_b83d9452_3f02_11ea_a2da_51fac7bede2frow1_col4 {\n",
       "            width:  10em;\n",
       "             height:  80%;\n",
       "            background:  linear-gradient(90deg,#E0FFE0 22.5%, transparent 22.5%);\n",
       "        }    #T_b83d9452_3f02_11ea_a2da_51fac7bede2frow2_col0 {\n",
       "            width:  10em;\n",
       "             height:  80%;\n",
       "            background:  linear-gradient(90deg,#E0FFE0 100.0%, transparent 100.0%);\n",
       "        }    #T_b83d9452_3f02_11ea_a2da_51fac7bede2frow2_col1 {\n",
       "            width:  10em;\n",
       "             height:  80%;\n",
       "            background:  linear-gradient(90deg,#E0FFE0 76.8%, transparent 76.8%);\n",
       "        }    #T_b83d9452_3f02_11ea_a2da_51fac7bede2frow2_col3 {\n",
       "            width:  10em;\n",
       "             height:  80%;\n",
       "            background:  linear-gradient(90deg,#E0FFE0 91.5%, transparent 91.5%);\n",
       "        }    #T_b83d9452_3f02_11ea_a2da_51fac7bede2frow2_col4 {\n",
       "            width:  10em;\n",
       "             height:  80%;\n",
       "            background:  linear-gradient(90deg,#E0FFE0 77.5%, transparent 77.5%);\n",
       "        }    #T_b83d9452_3f02_11ea_a2da_51fac7bede2frow3_col0 {\n",
       "            width:  10em;\n",
       "             height:  80%;\n",
       "            background:  linear-gradient(90deg,#E0FFE0 88.6%, transparent 88.6%);\n",
       "        }    #T_b83d9452_3f02_11ea_a2da_51fac7bede2frow3_col1 {\n",
       "            width:  10em;\n",
       "             height:  80%;\n",
       "            background:  linear-gradient(90deg,#E0FFE0 77.2%, transparent 77.2%);\n",
       "        }    #T_b83d9452_3f02_11ea_a2da_51fac7bede2frow3_col2 {\n",
       "            width:  10em;\n",
       "             height:  80%;\n",
       "            background:  linear-gradient(90deg,#E0FFE0 66.7%, transparent 66.7%);\n",
       "        }    #T_b83d9452_3f02_11ea_a2da_51fac7bede2frow3_col4 {\n",
       "            width:  10em;\n",
       "             height:  80%;\n",
       "            background:  linear-gradient(90deg,#E0FFE0 61.1%, transparent 61.1%);\n",
       "        }</style><table id=\"T_b83d9452_3f02_11ea_a2da_51fac7bede2f\" ><thead>    <tr>        <th class=\"blank level0\" ></th>        <th class=\"col_heading level0 col0\" >yes.seminator#def</th>        <th class=\"col_heading level0 col1\" >yes.seminator-1-1</th>        <th class=\"col_heading level0 col2\" >yes.seminator-1-2</th>        <th class=\"col_heading level0 col3\" >yes.owl#a</th>        <th class=\"col_heading level0 col4\" >V</th>    </tr></thead><tbody>\n",
       "                <tr>\n",
       "                        <th id=\"T_b83d9452_3f02_11ea_a2da_51fac7bede2flevel0_row0\" class=\"row_heading level0 row0\" >yes.seminator#def</th>\n",
       "                        <td id=\"T_b83d9452_3f02_11ea_a2da_51fac7bede2frow0_col0\" class=\"data row0 col0\" >nan</td>\n",
       "                        <td id=\"T_b83d9452_3f02_11ea_a2da_51fac7bede2frow0_col1\" class=\"data row0 col1\" >426</td>\n",
       "                        <td id=\"T_b83d9452_3f02_11ea_a2da_51fac7bede2frow0_col2\" class=\"data row0 col2\" >252</td>\n",
       "                        <td id=\"T_b83d9452_3f02_11ea_a2da_51fac7bede2frow0_col3\" class=\"data row0 col3\" >352</td>\n",
       "                        <td id=\"T_b83d9452_3f02_11ea_a2da_51fac7bede2frow0_col4\" class=\"data row0 col4\" >1030</td>\n",
       "            </tr>\n",
       "            <tr>\n",
       "                        <th id=\"T_b83d9452_3f02_11ea_a2da_51fac7bede2flevel0_row1\" class=\"row_heading level0 row1\" >yes.seminator-1-1</th>\n",
       "                        <td id=\"T_b83d9452_3f02_11ea_a2da_51fac7bede2frow1_col0\" class=\"data row1 col0\" >45</td>\n",
       "                        <td id=\"T_b83d9452_3f02_11ea_a2da_51fac7bede2frow1_col1\" class=\"data row1 col1\" >nan</td>\n",
       "                        <td id=\"T_b83d9452_3f02_11ea_a2da_51fac7bede2frow1_col2\" class=\"data row1 col2\" >24</td>\n",
       "                        <td id=\"T_b83d9452_3f02_11ea_a2da_51fac7bede2frow1_col3\" class=\"data row1 col3\" >163</td>\n",
       "                        <td id=\"T_b83d9452_3f02_11ea_a2da_51fac7bede2frow1_col4\" class=\"data row1 col4\" >232</td>\n",
       "            </tr>\n",
       "            <tr>\n",
       "                        <th id=\"T_b83d9452_3f02_11ea_a2da_51fac7bede2flevel0_row2\" class=\"row_heading level0 row2\" >yes.seminator-1-2</th>\n",
       "                        <td id=\"T_b83d9452_3f02_11ea_a2da_51fac7bede2frow2_col0\" class=\"data row2 col0\" >149</td>\n",
       "                        <td id=\"T_b83d9452_3f02_11ea_a2da_51fac7bede2frow2_col1\" class=\"data row2 col1\" >327</td>\n",
       "                        <td id=\"T_b83d9452_3f02_11ea_a2da_51fac7bede2frow2_col2\" class=\"data row2 col2\" >nan</td>\n",
       "                        <td id=\"T_b83d9452_3f02_11ea_a2da_51fac7bede2frow2_col3\" class=\"data row2 col3\" >322</td>\n",
       "                        <td id=\"T_b83d9452_3f02_11ea_a2da_51fac7bede2frow2_col4\" class=\"data row2 col4\" >798</td>\n",
       "            </tr>\n",
       "            <tr>\n",
       "                        <th id=\"T_b83d9452_3f02_11ea_a2da_51fac7bede2flevel0_row3\" class=\"row_heading level0 row3\" >yes.owl#a</th>\n",
       "                        <td id=\"T_b83d9452_3f02_11ea_a2da_51fac7bede2frow3_col0\" class=\"data row3 col0\" >132</td>\n",
       "                        <td id=\"T_b83d9452_3f02_11ea_a2da_51fac7bede2frow3_col1\" class=\"data row3 col1\" >329</td>\n",
       "                        <td id=\"T_b83d9452_3f02_11ea_a2da_51fac7bede2frow3_col2\" class=\"data row3 col2\" >168</td>\n",
       "                        <td id=\"T_b83d9452_3f02_11ea_a2da_51fac7bede2frow3_col3\" class=\"data row3 col3\" >nan</td>\n",
       "                        <td id=\"T_b83d9452_3f02_11ea_a2da_51fac7bede2frow3_col4\" class=\"data row3 col4\" >629</td>\n",
       "            </tr>\n",
       "    </tbody></table>"
      ],
      "text/plain": [
       "<pandas.io.formats.style.Styler at 0x7fccc5965750>"
      ]
     },
     "metadata": {},
     "output_type": "display_data"
    }
   ],
   "source": [
    "for n, b in nd_benchmarks.items():\n",
    "    print(n)\n",
    "    display(b.cross_compare(tool_set=tool_set))"
   ]
  }
 ],
 "metadata": {
  "kernelspec": {
   "display_name": "Python 3",
   "language": "python",
   "name": "python3"
  },
  "language_info": {
   "codemirror_mode": {
    "name": "ipython",
    "version": 3
   },
   "file_extension": ".py",
   "mimetype": "text/x-python",
   "name": "python",
   "nbconvert_exporter": "python",
   "pygments_lexer": "ipython3",
   "version": "3.7.5"
  }
 },
 "nbformat": 4,
 "nbformat_minor": 4
}
