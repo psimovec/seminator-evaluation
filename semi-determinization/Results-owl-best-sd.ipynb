{
 "cells": [
  {
   "cell_type": "code",
   "execution_count": 1,
   "metadata": {},
   "outputs": [],
   "source": [
    "from ltlcross_wrapper import ResAnalyzer, gather_cumulative, gather_mins"
   ]
  },
  {
   "cell_type": "code",
   "execution_count": 2,
   "metadata": {},
   "outputs": [],
   "source": [
    "sd_benchmarks = {}\n",
    "for name in [\"literature_sd\",\"literature_det\",\"random_sd\",\"random_det\"]:\n",
    "    b = ResAnalyzer(f\"data/{name}.csv\", cols=[\"states\",\"time\",\"acc\",\"transitions\"])\n",
    "    sd_benchmarks[name] = b\n",
    "    b.compute_best([\"yes.owl#s\",\"yes.owl#a\"],\"yes.owl#best\")\n",
    "    b.compute_best([\"no.owl#s\",\"no.owl#a\"],\"no.owl#best\")"
   ]
  },
  {
   "cell_type": "code",
   "execution_count": 3,
   "metadata": {},
   "outputs": [],
   "source": [
    "tool_set = [\"yes.seminator#def\",\"yes.owl#best\", \"no.owl#best\"]"
   ]
  },
  {
   "cell_type": "markdown",
   "metadata": {},
   "source": [
    "For each benchmark, we list the cumulative numbers of states for each tool. `yes` in the name of tools means that the Spot simplifications were applied on the results of the tools (were not disabled for `seminator`). `best` means that we choose the best variant for Owl, `#def` is the default setting of Seminator 2. If you want to see numbers where Spot's simplifications were not run for Owl, or the numbers without the _best-for-Owl_ approach, set tool_set to `None`. If you do, the `#a` stands for `ltl2ldgba -a` and analogously for `#s`."
   ]
  },
  {
   "cell_type": "code",
   "execution_count": 4,
   "metadata": {},
   "outputs": [
    {
     "data": {
      "text/html": [
       "<style  type=\"text/css\" >\n",
       "    #T_e560da26_4159_11ea_a296_0242ac110002row2_col0 {\n",
       "            background-color:  lightgreen;\n",
       "        }    #T_e560da26_4159_11ea_a296_0242ac110002row2_col1 {\n",
       "            background-color:  lightgreen;\n",
       "        }    #T_e560da26_4159_11ea_a296_0242ac110002row2_col2 {\n",
       "            background-color:  lightgreen;\n",
       "        }    #T_e560da26_4159_11ea_a296_0242ac110002row2_col3 {\n",
       "            background-color:  lightgreen;\n",
       "        }</style><table id=\"T_e560da26_4159_11ea_a296_0242ac110002\" ><thead>    <tr>        <th class=\"blank level0\" ></th>        <th class=\"col_heading level0 col0\" >literature_sd</th>        <th class=\"col_heading level0 col1\" >literature_det</th>        <th class=\"col_heading level0 col2\" >random_sd</th>        <th class=\"col_heading level0 col3\" >random_det</th>    </tr>    <tr>        <th class=\"index_name level0\" >tool</th>        <th class=\"blank\" ></th>        <th class=\"blank\" ></th>        <th class=\"blank\" ></th>        <th class=\"blank\" ></th>    </tr></thead><tbody>\n",
       "                <tr>\n",
       "                        <th id=\"T_e560da26_4159_11ea_a296_0242ac110002level0_row0\" class=\"row_heading level0 row0\" >no.owl#best</th>\n",
       "                        <td id=\"T_e560da26_4159_11ea_a296_0242ac110002row0_col0\" class=\"data row0 col0\" >306</td>\n",
       "                        <td id=\"T_e560da26_4159_11ea_a296_0242ac110002row0_col1\" class=\"data row0 col1\" >786</td>\n",
       "                        <td id=\"T_e560da26_4159_11ea_a296_0242ac110002row0_col2\" class=\"data row0 col2\" >3497</td>\n",
       "                        <td id=\"T_e560da26_4159_11ea_a296_0242ac110002row0_col3\" class=\"data row0 col3\" >2809</td>\n",
       "            </tr>\n",
       "            <tr>\n",
       "                        <th id=\"T_e560da26_4159_11ea_a296_0242ac110002level0_row1\" class=\"row_heading level0 row1\" >yes.owl#best</th>\n",
       "                        <td id=\"T_e560da26_4159_11ea_a296_0242ac110002row1_col0\" class=\"data row1 col0\" >272</td>\n",
       "                        <td id=\"T_e560da26_4159_11ea_a296_0242ac110002row1_col1\" class=\"data row1 col1\" >706</td>\n",
       "                        <td id=\"T_e560da26_4159_11ea_a296_0242ac110002row1_col2\" class=\"data row1 col2\" >3005</td>\n",
       "                        <td id=\"T_e560da26_4159_11ea_a296_0242ac110002row1_col3\" class=\"data row1 col3\" >2496</td>\n",
       "            </tr>\n",
       "            <tr>\n",
       "                        <th id=\"T_e560da26_4159_11ea_a296_0242ac110002level0_row2\" class=\"row_heading level0 row2\" >yes.seminator#def</th>\n",
       "                        <td id=\"T_e560da26_4159_11ea_a296_0242ac110002row2_col0\" class=\"data row2 col0\" >207</td>\n",
       "                        <td id=\"T_e560da26_4159_11ea_a296_0242ac110002row2_col1\" class=\"data row2 col1\" >580</td>\n",
       "                        <td id=\"T_e560da26_4159_11ea_a296_0242ac110002row2_col2\" class=\"data row2 col2\" >2562</td>\n",
       "                        <td id=\"T_e560da26_4159_11ea_a296_0242ac110002row2_col3\" class=\"data row2 col3\" >2352</td>\n",
       "            </tr>\n",
       "    </tbody></table>"
      ],
      "text/plain": [
       "<pandas.io.formats.style.Styler at 0x7fb8726bbad0>"
      ]
     },
     "execution_count": 4,
     "metadata": {},
     "output_type": "execute_result"
    }
   ],
   "source": [
    "gather_cumulative(sd_benchmarks, tool_set=tool_set)"
   ]
  },
  {
   "cell_type": "markdown",
   "metadata": {},
   "source": [
    "### Minimal automata\n",
    "\n",
    "The following table shows for how many formulas each tool produces automaton that has the smallest number of states. The minimum ranges over the considered tools. The number in min hits shows how many times the same size as the smallest automaton was achieved. The number in unique min hits counts only cases where the given tool is the only tool with such a small automaton."
   ]
  },
  {
   "cell_type": "code",
   "execution_count": 5,
   "metadata": {},
   "outputs": [
    {
     "data": {
      "text/html": [
       "<style  type=\"text/css\" >\n",
       "    #T_e6c0824a_4159_11ea_a296_0242ac110002row2_col0 {\n",
       "            background-color:  lightgreen;\n",
       "        }    #T_e6c0824a_4159_11ea_a296_0242ac110002row2_col1 {\n",
       "            background-color:  lightgreen;\n",
       "        }    #T_e6c0824a_4159_11ea_a296_0242ac110002row2_col2 {\n",
       "            background-color:  lightgreen;\n",
       "        }    #T_e6c0824a_4159_11ea_a296_0242ac110002row2_col3 {\n",
       "            background-color:  lightgreen;\n",
       "        }    #T_e6c0824a_4159_11ea_a296_0242ac110002row2_col4 {\n",
       "            background-color:  lightgreen;\n",
       "        }    #T_e6c0824a_4159_11ea_a296_0242ac110002row2_col5 {\n",
       "            background-color:  lightgreen;\n",
       "        }    #T_e6c0824a_4159_11ea_a296_0242ac110002row2_col6 {\n",
       "            background-color:  lightgreen;\n",
       "        }    #T_e6c0824a_4159_11ea_a296_0242ac110002row2_col7 {\n",
       "            background-color:  lightgreen;\n",
       "        }</style><table id=\"T_e6c0824a_4159_11ea_a296_0242ac110002\" ><thead>    <tr>        <th class=\"blank level0\" ></th>        <th class=\"col_heading level0 col0\" colspan=2>literature_sd</th>        <th class=\"col_heading level0 col2\" colspan=2>literature_det</th>        <th class=\"col_heading level0 col4\" colspan=2>random_sd</th>        <th class=\"col_heading level0 col6\" colspan=2>random_det</th>    </tr>    <tr>        <th class=\"blank level1\" ></th>        <th class=\"col_heading level1 col0\" >unique min hits</th>        <th class=\"col_heading level1 col1\" >min hits</th>        <th class=\"col_heading level1 col2\" >unique min hits</th>        <th class=\"col_heading level1 col3\" >min hits</th>        <th class=\"col_heading level1 col4\" >unique min hits</th>        <th class=\"col_heading level1 col5\" >min hits</th>        <th class=\"col_heading level1 col6\" >unique min hits</th>        <th class=\"col_heading level1 col7\" >min hits</th>    </tr>    <tr>        <th class=\"index_name level0\" >tool</th>        <th class=\"blank\" ></th>        <th class=\"blank\" ></th>        <th class=\"blank\" ></th>        <th class=\"blank\" ></th>        <th class=\"blank\" ></th>        <th class=\"blank\" ></th>        <th class=\"blank\" ></th>        <th class=\"blank\" ></th>    </tr></thead><tbody>\n",
       "                <tr>\n",
       "                        <th id=\"T_e6c0824a_4159_11ea_a296_0242ac110002level0_row0\" class=\"row_heading level0 row0\" >no.owl#best</th>\n",
       "                        <td id=\"T_e6c0824a_4159_11ea_a296_0242ac110002row0_col0\" class=\"data row0 col0\" >0</td>\n",
       "                        <td id=\"T_e6c0824a_4159_11ea_a296_0242ac110002row0_col1\" class=\"data row0 col1\" >16</td>\n",
       "                        <td id=\"T_e6c0824a_4159_11ea_a296_0242ac110002row0_col2\" class=\"data row0 col2\" >0</td>\n",
       "                        <td id=\"T_e6c0824a_4159_11ea_a296_0242ac110002row0_col3\" class=\"data row0 col3\" >86</td>\n",
       "                        <td id=\"T_e6c0824a_4159_11ea_a296_0242ac110002row0_col4\" class=\"data row0 col4\" >0</td>\n",
       "                        <td id=\"T_e6c0824a_4159_11ea_a296_0242ac110002row0_col5\" class=\"data row0 col5\" >147</td>\n",
       "                        <td id=\"T_e6c0824a_4159_11ea_a296_0242ac110002row0_col6\" class=\"data row0 col6\" >0</td>\n",
       "                        <td id=\"T_e6c0824a_4159_11ea_a296_0242ac110002row0_col7\" class=\"data row0 col7\" >306</td>\n",
       "            </tr>\n",
       "            <tr>\n",
       "                        <th id=\"T_e6c0824a_4159_11ea_a296_0242ac110002level0_row1\" class=\"row_heading level0 row1\" >yes.owl#best</th>\n",
       "                        <td id=\"T_e6c0824a_4159_11ea_a296_0242ac110002row1_col0\" class=\"data row1 col0\" >0</td>\n",
       "                        <td id=\"T_e6c0824a_4159_11ea_a296_0242ac110002row1_col1\" class=\"data row1 col1\" >19</td>\n",
       "                        <td id=\"T_e6c0824a_4159_11ea_a296_0242ac110002row1_col2\" class=\"data row1 col2\" >0</td>\n",
       "                        <td id=\"T_e6c0824a_4159_11ea_a296_0242ac110002row1_col3\" class=\"data row1 col3\" >120</td>\n",
       "                        <td id=\"T_e6c0824a_4159_11ea_a296_0242ac110002row1_col4\" class=\"data row1 col4\" >21</td>\n",
       "                        <td id=\"T_e6c0824a_4159_11ea_a296_0242ac110002row1_col5\" class=\"data row1 col5\" >275</td>\n",
       "                        <td id=\"T_e6c0824a_4159_11ea_a296_0242ac110002row1_col6\" class=\"data row1 col6\" >2</td>\n",
       "                        <td id=\"T_e6c0824a_4159_11ea_a296_0242ac110002row1_col7\" class=\"data row1 col7\" >449</td>\n",
       "            </tr>\n",
       "            <tr>\n",
       "                        <th id=\"T_e6c0824a_4159_11ea_a296_0242ac110002level0_row2\" class=\"row_heading level0 row2\" >yes.seminator#def</th>\n",
       "                        <td id=\"T_e6c0824a_4159_11ea_a296_0242ac110002row2_col0\" class=\"data row2 col0\" >30</td>\n",
       "                        <td id=\"T_e6c0824a_4159_11ea_a296_0242ac110002row2_col1\" class=\"data row2 col1\" >49</td>\n",
       "                        <td id=\"T_e6c0824a_4159_11ea_a296_0242ac110002row2_col2\" class=\"data row2 col2\" >32</td>\n",
       "                        <td id=\"T_e6c0824a_4159_11ea_a296_0242ac110002row2_col3\" class=\"data row2 col3\" >152</td>\n",
       "                        <td id=\"T_e6c0824a_4159_11ea_a296_0242ac110002row2_col4\" class=\"data row2 col4\" >225</td>\n",
       "                        <td id=\"T_e6c0824a_4159_11ea_a296_0242ac110002row2_col5\" class=\"data row2 col5\" >465</td>\n",
       "                        <td id=\"T_e6c0824a_4159_11ea_a296_0242ac110002row2_col6\" class=\"data row2 col6\" >51</td>\n",
       "                        <td id=\"T_e6c0824a_4159_11ea_a296_0242ac110002row2_col7\" class=\"data row2 col7\" >498</td>\n",
       "            </tr>\n",
       "    </tbody></table>"
      ],
      "text/plain": [
       "<pandas.io.formats.style.Styler at 0x7fb8722654d0>"
      ]
     },
     "execution_count": 5,
     "metadata": {},
     "output_type": "execute_result"
    }
   ],
   "source": [
    "gather_mins(sd_benchmarks, tool_set=tool_set)"
   ]
  },
  {
   "cell_type": "markdown",
   "metadata": {},
   "source": [
    "### Running times and timeouts\n",
    "The `#a` variant of Owl reached the 30s timeout in one case for random formulae. Otherwise, most of the execution times were below 1s for all tools."
   ]
  },
  {
   "cell_type": "code",
   "execution_count": 6,
   "metadata": {},
   "outputs": [
    {
     "name": "stdout",
     "output_type": "stream",
     "text": [
      "literature_sd\n"
     ]
    },
    {
     "data": {
      "text/html": [
       "<div>\n",
       "<style scoped>\n",
       "    .dataframe tbody tr th:only-of-type {\n",
       "        vertical-align: middle;\n",
       "    }\n",
       "\n",
       "    .dataframe tbody tr th {\n",
       "        vertical-align: top;\n",
       "    }\n",
       "\n",
       "    .dataframe thead th {\n",
       "        text-align: right;\n",
       "    }\n",
       "</style>\n",
       "<table border=\"1\" class=\"dataframe\">\n",
       "  <thead>\n",
       "    <tr style=\"text-align: right;\">\n",
       "      <th></th>\n",
       "      <th>timeout</th>\n",
       "      <th>parse error</th>\n",
       "      <th>incorrect</th>\n",
       "      <th>crash</th>\n",
       "      <th>no output</th>\n",
       "    </tr>\n",
       "  </thead>\n",
       "  <tbody>\n",
       "    <tr>\n",
       "      <th>no.owl#a</th>\n",
       "      <td>1</td>\n",
       "      <td>0</td>\n",
       "      <td>0</td>\n",
       "      <td>0</td>\n",
       "      <td>0</td>\n",
       "    </tr>\n",
       "    <tr>\n",
       "      <th>yes.owl#a</th>\n",
       "      <td>1</td>\n",
       "      <td>0</td>\n",
       "      <td>0</td>\n",
       "      <td>0</td>\n",
       "      <td>0</td>\n",
       "    </tr>\n",
       "  </tbody>\n",
       "</table>\n",
       "</div>"
      ],
      "text/plain": [
       "           timeout  parse error  incorrect  crash  no output\n",
       "no.owl#a         1            0          0      0          0\n",
       "yes.owl#a        1            0          0      0          0"
      ]
     },
     "metadata": {},
     "output_type": "display_data"
    },
    {
     "data": {
      "text/plain": [
       "tool\n",
       "min(count)             0.027269\n",
       "no.owl#a              30.000400\n",
       "no.owl#best            0.808722\n",
       "no.owl#s               0.808722\n",
       "no.seminator#def       0.047497\n",
       "no.seminator#sba       0.044537\n",
       "no.seminator#tba       0.047334\n",
       "no.seminator#tgba      0.045863\n",
       "no.seminator-1-1       0.050620\n",
       "no.seminator-1-2       0.046512\n",
       "yes.owl#a             30.000500\n",
       "yes.owl#best           1.635690\n",
       "yes.owl#s              1.635690\n",
       "yes.seminator#def      0.062898\n",
       "yes.seminator#sba      0.058190\n",
       "yes.seminator#tba      0.067403\n",
       "yes.seminator#tgba     0.073934\n",
       "yes.seminator-1-1      0.099307\n",
       "yes.seminator-1-2      0.094695\n",
       "dtype: float64"
      ]
     },
     "metadata": {},
     "output_type": "display_data"
    },
    {
     "name": "stdout",
     "output_type": "stream",
     "text": [
      "literature_det\n"
     ]
    },
    {
     "data": {
      "text/html": [
       "<div>\n",
       "<style scoped>\n",
       "    .dataframe tbody tr th:only-of-type {\n",
       "        vertical-align: middle;\n",
       "    }\n",
       "\n",
       "    .dataframe tbody tr th {\n",
       "        vertical-align: top;\n",
       "    }\n",
       "\n",
       "    .dataframe thead th {\n",
       "        text-align: right;\n",
       "    }\n",
       "</style>\n",
       "<table border=\"1\" class=\"dataframe\">\n",
       "  <thead>\n",
       "    <tr style=\"text-align: right;\">\n",
       "      <th></th>\n",
       "      <th>timeout</th>\n",
       "      <th>parse error</th>\n",
       "      <th>incorrect</th>\n",
       "      <th>crash</th>\n",
       "      <th>no output</th>\n",
       "    </tr>\n",
       "    <tr>\n",
       "      <th>tool</th>\n",
       "      <th></th>\n",
       "      <th></th>\n",
       "      <th></th>\n",
       "      <th></th>\n",
       "      <th></th>\n",
       "    </tr>\n",
       "  </thead>\n",
       "  <tbody>\n",
       "  </tbody>\n",
       "</table>\n",
       "</div>"
      ],
      "text/plain": [
       "Empty DataFrame\n",
       "Columns: [timeout, parse error, incorrect, crash, no output]\n",
       "Index: []"
      ]
     },
     "metadata": {},
     "output_type": "display_data"
    },
    {
     "data": {
      "text/plain": [
       "tool\n",
       "min(count)            0.071069\n",
       "no.owl#a              6.555810\n",
       "no.owl#best           0.129774\n",
       "no.owl#s              0.577179\n",
       "no.seminator#def      0.046867\n",
       "no.seminator#sba      0.054453\n",
       "no.seminator#tba      0.040170\n",
       "no.seminator#tgba     0.049588\n",
       "no.seminator-1-1      0.048507\n",
       "no.seminator-1-2      0.049013\n",
       "yes.owl#a             8.278400\n",
       "yes.owl#best          2.044730\n",
       "yes.owl#s             2.044730\n",
       "yes.seminator#def     0.071069\n",
       "yes.seminator#sba     0.051867\n",
       "yes.seminator#tba     0.055161\n",
       "yes.seminator#tgba    0.057353\n",
       "yes.seminator-1-1     0.083654\n",
       "yes.seminator-1-2     0.076610\n",
       "dtype: float64"
      ]
     },
     "metadata": {},
     "output_type": "display_data"
    },
    {
     "name": "stdout",
     "output_type": "stream",
     "text": [
      "random_sd\n"
     ]
    },
    {
     "data": {
      "text/html": [
       "<div>\n",
       "<style scoped>\n",
       "    .dataframe tbody tr th:only-of-type {\n",
       "        vertical-align: middle;\n",
       "    }\n",
       "\n",
       "    .dataframe tbody tr th {\n",
       "        vertical-align: top;\n",
       "    }\n",
       "\n",
       "    .dataframe thead th {\n",
       "        text-align: right;\n",
       "    }\n",
       "</style>\n",
       "<table border=\"1\" class=\"dataframe\">\n",
       "  <thead>\n",
       "    <tr style=\"text-align: right;\">\n",
       "      <th></th>\n",
       "      <th>timeout</th>\n",
       "      <th>parse error</th>\n",
       "      <th>incorrect</th>\n",
       "      <th>crash</th>\n",
       "      <th>no output</th>\n",
       "    </tr>\n",
       "    <tr>\n",
       "      <th>tool</th>\n",
       "      <th></th>\n",
       "      <th></th>\n",
       "      <th></th>\n",
       "      <th></th>\n",
       "      <th></th>\n",
       "    </tr>\n",
       "  </thead>\n",
       "  <tbody>\n",
       "  </tbody>\n",
       "</table>\n",
       "</div>"
      ],
      "text/plain": [
       "Empty DataFrame\n",
       "Columns: [timeout, parse error, incorrect, crash, no output]\n",
       "Index: []"
      ]
     },
     "metadata": {},
     "output_type": "display_data"
    },
    {
     "data": {
      "text/plain": [
       "tool\n",
       "min(count)            0.123600\n",
       "no.owl#a              0.927842\n",
       "no.owl#best           0.618125\n",
       "no.owl#s              0.618125\n",
       "no.seminator#def      0.267336\n",
       "no.seminator#sba      0.221721\n",
       "no.seminator#tba      0.259842\n",
       "no.seminator#tgba     0.270551\n",
       "no.seminator-1-1      0.248314\n",
       "no.seminator-1-2      0.250969\n",
       "yes.owl#a             0.860366\n",
       "yes.owl#best          0.462847\n",
       "yes.owl#s             0.510254\n",
       "yes.seminator#def     0.238686\n",
       "yes.seminator#sba     0.253137\n",
       "yes.seminator#tba     0.252744\n",
       "yes.seminator#tgba    0.219798\n",
       "yes.seminator-1-1     0.265253\n",
       "yes.seminator-1-2     0.241046\n",
       "dtype: float64"
      ]
     },
     "metadata": {},
     "output_type": "display_data"
    },
    {
     "name": "stdout",
     "output_type": "stream",
     "text": [
      "random_det\n"
     ]
    },
    {
     "data": {
      "text/html": [
       "<div>\n",
       "<style scoped>\n",
       "    .dataframe tbody tr th:only-of-type {\n",
       "        vertical-align: middle;\n",
       "    }\n",
       "\n",
       "    .dataframe tbody tr th {\n",
       "        vertical-align: top;\n",
       "    }\n",
       "\n",
       "    .dataframe thead th {\n",
       "        text-align: right;\n",
       "    }\n",
       "</style>\n",
       "<table border=\"1\" class=\"dataframe\">\n",
       "  <thead>\n",
       "    <tr style=\"text-align: right;\">\n",
       "      <th></th>\n",
       "      <th>timeout</th>\n",
       "      <th>parse error</th>\n",
       "      <th>incorrect</th>\n",
       "      <th>crash</th>\n",
       "      <th>no output</th>\n",
       "    </tr>\n",
       "    <tr>\n",
       "      <th>tool</th>\n",
       "      <th></th>\n",
       "      <th></th>\n",
       "      <th></th>\n",
       "      <th></th>\n",
       "      <th></th>\n",
       "    </tr>\n",
       "  </thead>\n",
       "  <tbody>\n",
       "  </tbody>\n",
       "</table>\n",
       "</div>"
      ],
      "text/plain": [
       "Empty DataFrame\n",
       "Columns: [timeout, parse error, incorrect, crash, no output]\n",
       "Index: []"
      ]
     },
     "metadata": {},
     "output_type": "display_data"
    },
    {
     "data": {
      "text/plain": [
       "tool\n",
       "min(count)            0.069440\n",
       "no.owl#a              0.221144\n",
       "no.owl#best           0.072987\n",
       "no.owl#s              0.075753\n",
       "no.seminator#def      0.175544\n",
       "no.seminator#sba      0.202978\n",
       "no.seminator#tba      0.177449\n",
       "no.seminator#tgba     0.168710\n",
       "no.seminator-1-1      0.165028\n",
       "no.seminator-1-2      0.198850\n",
       "yes.owl#a             0.258788\n",
       "yes.owl#best          0.162300\n",
       "yes.owl#s             0.182623\n",
       "yes.seminator#def     0.175926\n",
       "yes.seminator#sba     0.217669\n",
       "yes.seminator#tba     0.173406\n",
       "yes.seminator#tgba    0.197261\n",
       "yes.seminator-1-1     0.197207\n",
       "yes.seminator-1-2     0.215426\n",
       "dtype: float64"
      ]
     },
     "metadata": {},
     "output_type": "display_data"
    }
   ],
   "source": [
    "for name, b in sd_benchmarks.items():\n",
    "    print(name)\n",
    "    display(b.get_error_counts())\n",
    "    display(b.values.time.max())"
   ]
  },
  {
   "cell_type": "code",
   "execution_count": 7,
   "metadata": {},
   "outputs": [
    {
     "data": {
      "text/plain": [
       "<seaborn.axisgrid.FacetGrid at 0x7fb87216f890>"
      ]
     },
     "execution_count": 7,
     "metadata": {},
     "output_type": "execute_result"
    },
    {
     "data": {
      "image/png": "[encoded data removed]",
      "text/plain": [
       "<Figure size 430.725x360 with 1 Axes>"
      ]
     },
     "metadata": {
      "needs_background": "light"
     },
     "output_type": "display_data"
    }
   ],
   "source": [
    "b = sd_benchmarks[\"random_sd\"]\n",
    "b.seaborn_scatter_plot(\"yes.owl#best\",\"yes.seminator#def\", include_equal=True)"
   ]
  },
  {
   "cell_type": "code",
   "execution_count": 8,
   "metadata": {},
   "outputs": [
    {
     "data": {
      "text/plain": [
       "<seaborn.axisgrid.FacetGrid at 0x7fb8720b4590>"
      ]
     },
     "execution_count": 8,
     "metadata": {},
     "output_type": "execute_result"
    },
    {
     "data": {
      "image/png": "[encoded data removed]",
      "text/plain": [
       "<Figure size 430.725x360 with 1 Axes>"
      ]
     },
     "metadata": {
      "needs_background": "light"
     },
     "output_type": "display_data"
    }
   ],
   "source": [
    "b = sd_benchmarks[\"random_sd\"]\n",
    "b.seaborn_scatter_plot(\"no.owl#best\",\"yes.seminator#def\", include_equal=True)"
   ]
  },
  {
   "cell_type": "markdown",
   "metadata": {},
   "source": [
    "### Cross-comparison\n",
    "The cross-comparison for a benchmark shows, in a cell (`row`,`column`) in how many cases the tool in `row` produces automaton that is better thatn the one produced by `column`. The last columns (`V`) summs the numbers across rows, while the green highlighting fill a space that is proportional to how well the tool in `row` competed agains `column` (proportional across columns)."
   ]
  },
  {
   "cell_type": "code",
   "execution_count": 9,
   "metadata": {},
   "outputs": [
    {
     "name": "stdout",
     "output_type": "stream",
     "text": [
      "literature_sd\n"
     ]
    },
    {
     "data": {
      "text/html": [
       "<style  type=\"text/css\" >\n",
       "    #T_e7321932_4159_11ea_a296_0242ac110002row0_col1 {\n",
       "            width:  10em;\n",
       "             height:  80%;\n",
       "            background:  linear-gradient(90deg,#E0FFE0 100.0%, transparent 100.0%);\n",
       "        }    #T_e7321932_4159_11ea_a296_0242ac110002row0_col2 {\n",
       "            width:  10em;\n",
       "             height:  80%;\n",
       "            background:  linear-gradient(90deg,#E0FFE0 100.0%, transparent 100.0%);\n",
       "        }    #T_e7321932_4159_11ea_a296_0242ac110002row0_col3 {\n",
       "            width:  10em;\n",
       "             height:  80%;\n",
       "            background:  linear-gradient(90deg,#E0FFE0 100.0%, transparent 100.0%);\n",
       "        }    #T_e7321932_4159_11ea_a296_0242ac110002row1_col0 {\n",
       "            width:  10em;\n",
       "             height:  80%;\n",
       "            background:  linear-gradient(90deg,#E0FFE0 100.0%, transparent 100.0%);\n",
       "        }    #T_e7321932_4159_11ea_a296_0242ac110002row1_col2 {\n",
       "            width:  10em;\n",
       "             height:  80%;\n",
       "            background:  linear-gradient(90deg,#E0FFE0 95.0%, transparent 95.0%);\n",
       "        }    #T_e7321932_4159_11ea_a296_0242ac110002row1_col3 {\n",
       "            width:  10em;\n",
       "             height:  80%;\n",
       "            background:  linear-gradient(90deg,#E0FFE0 55.6%, transparent 55.6%);\n",
       "        }    #T_e7321932_4159_11ea_a296_0242ac110002row2_col0 {\n",
       "            width:  10em;\n",
       "             height:  80%;\n",
       "            background:  linear-gradient(90deg,#E0FFE0 100.0%, transparent 100.0%);\n",
       "        }    #T_e7321932_4159_11ea_a296_0242ac110002row2_col1 {\n",
       "            width:  10em;\n",
       "             height:  80%;\n",
       "        }    #T_e7321932_4159_11ea_a296_0242ac110002row2_col3 {\n",
       "            width:  10em;\n",
       "             height:  80%;\n",
       "            background:  linear-gradient(90deg,#E0FFE0 2.8%, transparent 2.8%);\n",
       "        }</style><table id=\"T_e7321932_4159_11ea_a296_0242ac110002\" ><thead>    <tr>        <th class=\"blank level0\" ></th>        <th class=\"col_heading level0 col0\" >yes.seminator#def</th>        <th class=\"col_heading level0 col1\" >yes.owl#best</th>        <th class=\"col_heading level0 col2\" >no.owl#best</th>        <th class=\"col_heading level0 col3\" >V</th>    </tr></thead><tbody>\n",
       "                <tr>\n",
       "                        <th id=\"T_e7321932_4159_11ea_a296_0242ac110002level0_row0\" class=\"row_heading level0 row0\" >yes.seminator#def</th>\n",
       "                        <td id=\"T_e7321932_4159_11ea_a296_0242ac110002row0_col0\" class=\"data row0 col0\" >nan</td>\n",
       "                        <td id=\"T_e7321932_4159_11ea_a296_0242ac110002row0_col1\" class=\"data row0 col1\" >32</td>\n",
       "                        <td id=\"T_e7321932_4159_11ea_a296_0242ac110002row0_col2\" class=\"data row0 col2\" >40</td>\n",
       "                        <td id=\"T_e7321932_4159_11ea_a296_0242ac110002row0_col3\" class=\"data row0 col3\" >72</td>\n",
       "            </tr>\n",
       "            <tr>\n",
       "                        <th id=\"T_e7321932_4159_11ea_a296_0242ac110002level0_row1\" class=\"row_heading level0 row1\" >yes.owl#best</th>\n",
       "                        <td id=\"T_e7321932_4159_11ea_a296_0242ac110002row1_col0\" class=\"data row1 col0\" >2</td>\n",
       "                        <td id=\"T_e7321932_4159_11ea_a296_0242ac110002row1_col1\" class=\"data row1 col1\" >nan</td>\n",
       "                        <td id=\"T_e7321932_4159_11ea_a296_0242ac110002row1_col2\" class=\"data row1 col2\" >38</td>\n",
       "                        <td id=\"T_e7321932_4159_11ea_a296_0242ac110002row1_col3\" class=\"data row1 col3\" >40</td>\n",
       "            </tr>\n",
       "            <tr>\n",
       "                        <th id=\"T_e7321932_4159_11ea_a296_0242ac110002level0_row2\" class=\"row_heading level0 row2\" >no.owl#best</th>\n",
       "                        <td id=\"T_e7321932_4159_11ea_a296_0242ac110002row2_col0\" class=\"data row2 col0\" >2</td>\n",
       "                        <td id=\"T_e7321932_4159_11ea_a296_0242ac110002row2_col1\" class=\"data row2 col1\" >0</td>\n",
       "                        <td id=\"T_e7321932_4159_11ea_a296_0242ac110002row2_col2\" class=\"data row2 col2\" >nan</td>\n",
       "                        <td id=\"T_e7321932_4159_11ea_a296_0242ac110002row2_col3\" class=\"data row2 col3\" >2</td>\n",
       "            </tr>\n",
       "    </tbody></table>"
      ],
      "text/plain": [
       "<pandas.io.formats.style.Styler at 0x7fb8721644d0>"
      ]
     },
     "metadata": {},
     "output_type": "display_data"
    },
    {
     "name": "stdout",
     "output_type": "stream",
     "text": [
      "literature_det\n"
     ]
    },
    {
     "data": {
      "text/html": [
       "<style  type=\"text/css\" >\n",
       "    #T_e7476af8_4159_11ea_a296_0242ac110002row0_col1 {\n",
       "            width:  10em;\n",
       "             height:  80%;\n",
       "            background:  linear-gradient(90deg,#E0FFE0 100.0%, transparent 100.0%);\n",
       "        }    #T_e7476af8_4159_11ea_a296_0242ac110002row0_col2 {\n",
       "            width:  10em;\n",
       "             height:  80%;\n",
       "            background:  linear-gradient(90deg,#E0FFE0 100.0%, transparent 100.0%);\n",
       "        }    #T_e7476af8_4159_11ea_a296_0242ac110002row0_col3 {\n",
       "            width:  10em;\n",
       "             height:  80%;\n",
       "            background:  linear-gradient(90deg,#E0FFE0 100.0%, transparent 100.0%);\n",
       "        }    #T_e7476af8_4159_11ea_a296_0242ac110002row1_col0 {\n",
       "            width:  10em;\n",
       "             height:  80%;\n",
       "        }    #T_e7476af8_4159_11ea_a296_0242ac110002row1_col2 {\n",
       "            width:  10em;\n",
       "             height:  80%;\n",
       "            background:  linear-gradient(90deg,#E0FFE0 100.0%, transparent 100.0%);\n",
       "        }    #T_e7476af8_4159_11ea_a296_0242ac110002row1_col3 {\n",
       "            width:  10em;\n",
       "             height:  80%;\n",
       "            background:  linear-gradient(90deg,#E0FFE0 67.3%, transparent 67.3%);\n",
       "        }    #T_e7476af8_4159_11ea_a296_0242ac110002row2_col0 {\n",
       "            width:  10em;\n",
       "             height:  80%;\n",
       "        }    #T_e7476af8_4159_11ea_a296_0242ac110002row2_col1 {\n",
       "            width:  10em;\n",
       "             height:  80%;\n",
       "        }    #T_e7476af8_4159_11ea_a296_0242ac110002row2_col3 {\n",
       "            width:  10em;\n",
       "             height:  80%;\n",
       "        }</style><table id=\"T_e7476af8_4159_11ea_a296_0242ac110002\" ><thead>    <tr>        <th class=\"blank level0\" ></th>        <th class=\"col_heading level0 col0\" >yes.seminator#def</th>        <th class=\"col_heading level0 col1\" >yes.owl#best</th>        <th class=\"col_heading level0 col2\" >no.owl#best</th>        <th class=\"col_heading level0 col3\" >V</th>    </tr></thead><tbody>\n",
       "                <tr>\n",
       "                        <th id=\"T_e7476af8_4159_11ea_a296_0242ac110002level0_row0\" class=\"row_heading level0 row0\" >yes.seminator#def</th>\n",
       "                        <td id=\"T_e7476af8_4159_11ea_a296_0242ac110002row0_col0\" class=\"data row0 col0\" >nan</td>\n",
       "                        <td id=\"T_e7476af8_4159_11ea_a296_0242ac110002row0_col1\" class=\"data row0 col1\" >32</td>\n",
       "                        <td id=\"T_e7476af8_4159_11ea_a296_0242ac110002row0_col2\" class=\"data row0 col2\" >66</td>\n",
       "                        <td id=\"T_e7476af8_4159_11ea_a296_0242ac110002row0_col3\" class=\"data row0 col3\" >98</td>\n",
       "            </tr>\n",
       "            <tr>\n",
       "                        <th id=\"T_e7476af8_4159_11ea_a296_0242ac110002level0_row1\" class=\"row_heading level0 row1\" >yes.owl#best</th>\n",
       "                        <td id=\"T_e7476af8_4159_11ea_a296_0242ac110002row1_col0\" class=\"data row1 col0\" >0</td>\n",
       "                        <td id=\"T_e7476af8_4159_11ea_a296_0242ac110002row1_col1\" class=\"data row1 col1\" >nan</td>\n",
       "                        <td id=\"T_e7476af8_4159_11ea_a296_0242ac110002row1_col2\" class=\"data row1 col2\" >66</td>\n",
       "                        <td id=\"T_e7476af8_4159_11ea_a296_0242ac110002row1_col3\" class=\"data row1 col3\" >66</td>\n",
       "            </tr>\n",
       "            <tr>\n",
       "                        <th id=\"T_e7476af8_4159_11ea_a296_0242ac110002level0_row2\" class=\"row_heading level0 row2\" >no.owl#best</th>\n",
       "                        <td id=\"T_e7476af8_4159_11ea_a296_0242ac110002row2_col0\" class=\"data row2 col0\" >0</td>\n",
       "                        <td id=\"T_e7476af8_4159_11ea_a296_0242ac110002row2_col1\" class=\"data row2 col1\" >0</td>\n",
       "                        <td id=\"T_e7476af8_4159_11ea_a296_0242ac110002row2_col2\" class=\"data row2 col2\" >nan</td>\n",
       "                        <td id=\"T_e7476af8_4159_11ea_a296_0242ac110002row2_col3\" class=\"data row2 col3\" >0</td>\n",
       "            </tr>\n",
       "    </tbody></table>"
      ],
      "text/plain": [
       "<pandas.io.formats.style.Styler at 0x7fb87216fe10>"
      ]
     },
     "metadata": {},
     "output_type": "display_data"
    },
    {
     "name": "stdout",
     "output_type": "stream",
     "text": [
      "random_sd\n"
     ]
    },
    {
     "data": {
      "text/html": [
       "<style  type=\"text/css\" >\n",
       "    #T_e75dcb0e_4159_11ea_a296_0242ac110002row0_col1 {\n",
       "            width:  10em;\n",
       "             height:  80%;\n",
       "            background:  linear-gradient(90deg,#E0FFE0 100.0%, transparent 100.0%);\n",
       "        }    #T_e75dcb0e_4159_11ea_a296_0242ac110002row0_col2 {\n",
       "            width:  10em;\n",
       "             height:  80%;\n",
       "            background:  linear-gradient(90deg,#E0FFE0 95.0%, transparent 95.0%);\n",
       "        }    #T_e75dcb0e_4159_11ea_a296_0242ac110002row0_col3 {\n",
       "            width:  10em;\n",
       "             height:  80%;\n",
       "            background:  linear-gradient(90deg,#E0FFE0 100.0%, transparent 100.0%);\n",
       "        }    #T_e75dcb0e_4159_11ea_a296_0242ac110002row1_col0 {\n",
       "            width:  10em;\n",
       "             height:  80%;\n",
       "            background:  linear-gradient(90deg,#E0FFE0 100.0%, transparent 100.0%);\n",
       "        }    #T_e75dcb0e_4159_11ea_a296_0242ac110002row1_col2 {\n",
       "            width:  10em;\n",
       "             height:  80%;\n",
       "            background:  linear-gradient(90deg,#E0FFE0 100.0%, transparent 100.0%);\n",
       "        }    #T_e75dcb0e_4159_11ea_a296_0242ac110002row1_col3 {\n",
       "            width:  10em;\n",
       "             height:  80%;\n",
       "            background:  linear-gradient(90deg,#E0FFE0 85.6%, transparent 85.6%);\n",
       "        }    #T_e75dcb0e_4159_11ea_a296_0242ac110002row2_col0 {\n",
       "            width:  10em;\n",
       "             height:  80%;\n",
       "            background:  linear-gradient(90deg,#E0FFE0 49.6%, transparent 49.6%);\n",
       "        }    #T_e75dcb0e_4159_11ea_a296_0242ac110002row2_col1 {\n",
       "            width:  10em;\n",
       "             height:  80%;\n",
       "        }    #T_e75dcb0e_4159_11ea_a296_0242ac110002row2_col3 {\n",
       "            width:  10em;\n",
       "             height:  80%;\n",
       "            background:  linear-gradient(90deg,#E0FFE0 10.3%, transparent 10.3%);\n",
       "        }</style><table id=\"T_e75dcb0e_4159_11ea_a296_0242ac110002\" ><thead>    <tr>        <th class=\"blank level0\" ></th>        <th class=\"col_heading level0 col0\" >yes.seminator#def</th>        <th class=\"col_heading level0 col1\" >yes.owl#best</th>        <th class=\"col_heading level0 col2\" >no.owl#best</th>        <th class=\"col_heading level0 col3\" >V</th>    </tr></thead><tbody>\n",
       "                <tr>\n",
       "                        <th id=\"T_e75dcb0e_4159_11ea_a296_0242ac110002level0_row0\" class=\"row_heading level0 row0\" >yes.seminator#def</th>\n",
       "                        <td id=\"T_e75dcb0e_4159_11ea_a296_0242ac110002row0_col0\" class=\"data row0 col0\" >nan</td>\n",
       "                        <td id=\"T_e75dcb0e_4159_11ea_a296_0242ac110002row0_col1\" class=\"data row0 col1\" >250</td>\n",
       "                        <td id=\"T_e75dcb0e_4159_11ea_a296_0242ac110002row0_col2\" class=\"data row0 col2\" >402</td>\n",
       "                        <td id=\"T_e75dcb0e_4159_11ea_a296_0242ac110002row0_col3\" class=\"data row0 col3\" >652</td>\n",
       "            </tr>\n",
       "            <tr>\n",
       "                        <th id=\"T_e75dcb0e_4159_11ea_a296_0242ac110002level0_row1\" class=\"row_heading level0 row1\" >yes.owl#best</th>\n",
       "                        <td id=\"T_e75dcb0e_4159_11ea_a296_0242ac110002row1_col0\" class=\"data row1 col0\" >135</td>\n",
       "                        <td id=\"T_e75dcb0e_4159_11ea_a296_0242ac110002row1_col1\" class=\"data row1 col1\" >nan</td>\n",
       "                        <td id=\"T_e75dcb0e_4159_11ea_a296_0242ac110002row1_col2\" class=\"data row1 col2\" >423</td>\n",
       "                        <td id=\"T_e75dcb0e_4159_11ea_a296_0242ac110002row1_col3\" class=\"data row1 col3\" >558</td>\n",
       "            </tr>\n",
       "            <tr>\n",
       "                        <th id=\"T_e75dcb0e_4159_11ea_a296_0242ac110002level0_row2\" class=\"row_heading level0 row2\" >no.owl#best</th>\n",
       "                        <td id=\"T_e75dcb0e_4159_11ea_a296_0242ac110002row2_col0\" class=\"data row2 col0\" >67</td>\n",
       "                        <td id=\"T_e75dcb0e_4159_11ea_a296_0242ac110002row2_col1\" class=\"data row2 col1\" >0</td>\n",
       "                        <td id=\"T_e75dcb0e_4159_11ea_a296_0242ac110002row2_col2\" class=\"data row2 col2\" >nan</td>\n",
       "                        <td id=\"T_e75dcb0e_4159_11ea_a296_0242ac110002row2_col3\" class=\"data row2 col3\" >67</td>\n",
       "            </tr>\n",
       "    </tbody></table>"
      ],
      "text/plain": [
       "<pandas.io.formats.style.Styler at 0x7fb8720fe510>"
      ]
     },
     "metadata": {},
     "output_type": "display_data"
    },
    {
     "name": "stdout",
     "output_type": "stream",
     "text": [
      "random_det\n"
     ]
    },
    {
     "data": {
      "text/html": [
       "<style  type=\"text/css\" >\n",
       "    #T_e773b234_4159_11ea_a296_0242ac110002row0_col1 {\n",
       "            width:  10em;\n",
       "             height:  80%;\n",
       "            background:  linear-gradient(90deg,#E0FFE0 100.0%, transparent 100.0%);\n",
       "        }    #T_e773b234_4159_11ea_a296_0242ac110002row0_col2 {\n",
       "            width:  10em;\n",
       "             height:  80%;\n",
       "            background:  linear-gradient(90deg,#E0FFE0 100.0%, transparent 100.0%);\n",
       "        }    #T_e773b234_4159_11ea_a296_0242ac110002row0_col3 {\n",
       "            width:  10em;\n",
       "             height:  80%;\n",
       "            background:  linear-gradient(90deg,#E0FFE0 100.0%, transparent 100.0%);\n",
       "        }    #T_e773b234_4159_11ea_a296_0242ac110002row1_col0 {\n",
       "            width:  10em;\n",
       "             height:  80%;\n",
       "            background:  linear-gradient(90deg,#E0FFE0 100.0%, transparent 100.0%);\n",
       "        }    #T_e773b234_4159_11ea_a296_0242ac110002row1_col2 {\n",
       "            width:  10em;\n",
       "             height:  80%;\n",
       "            background:  linear-gradient(90deg,#E0FFE0 99.0%, transparent 99.0%);\n",
       "        }    #T_e773b234_4159_11ea_a296_0242ac110002row1_col3 {\n",
       "            width:  10em;\n",
       "             height:  80%;\n",
       "            background:  linear-gradient(90deg,#E0FFE0 80.0%, transparent 80.0%);\n",
       "        }    #T_e773b234_4159_11ea_a296_0242ac110002row2_col0 {\n",
       "            width:  10em;\n",
       "             height:  80%;\n",
       "        }    #T_e773b234_4159_11ea_a296_0242ac110002row2_col1 {\n",
       "            width:  10em;\n",
       "             height:  80%;\n",
       "        }    #T_e773b234_4159_11ea_a296_0242ac110002row2_col3 {\n",
       "            width:  10em;\n",
       "             height:  80%;\n",
       "        }</style><table id=\"T_e773b234_4159_11ea_a296_0242ac110002\" ><thead>    <tr>        <th class=\"blank level0\" ></th>        <th class=\"col_heading level0 col0\" >yes.seminator#def</th>        <th class=\"col_heading level0 col1\" >yes.owl#best</th>        <th class=\"col_heading level0 col2\" >no.owl#best</th>        <th class=\"col_heading level0 col3\" >V</th>    </tr></thead><tbody>\n",
       "                <tr>\n",
       "                        <th id=\"T_e773b234_4159_11ea_a296_0242ac110002level0_row0\" class=\"row_heading level0 row0\" >yes.seminator#def</th>\n",
       "                        <td id=\"T_e773b234_4159_11ea_a296_0242ac110002row0_col0\" class=\"data row0 col0\" >nan</td>\n",
       "                        <td id=\"T_e773b234_4159_11ea_a296_0242ac110002row0_col1\" class=\"data row0 col1\" >53</td>\n",
       "                        <td id=\"T_e773b234_4159_11ea_a296_0242ac110002row0_col2\" class=\"data row0 col2\" >202</td>\n",
       "                        <td id=\"T_e773b234_4159_11ea_a296_0242ac110002row0_col3\" class=\"data row0 col3\" >255</td>\n",
       "            </tr>\n",
       "            <tr>\n",
       "                        <th id=\"T_e773b234_4159_11ea_a296_0242ac110002level0_row1\" class=\"row_heading level0 row1\" >yes.owl#best</th>\n",
       "                        <td id=\"T_e773b234_4159_11ea_a296_0242ac110002row1_col0\" class=\"data row1 col0\" >4</td>\n",
       "                        <td id=\"T_e773b234_4159_11ea_a296_0242ac110002row1_col1\" class=\"data row1 col1\" >nan</td>\n",
       "                        <td id=\"T_e773b234_4159_11ea_a296_0242ac110002row1_col2\" class=\"data row1 col2\" >200</td>\n",
       "                        <td id=\"T_e773b234_4159_11ea_a296_0242ac110002row1_col3\" class=\"data row1 col3\" >204</td>\n",
       "            </tr>\n",
       "            <tr>\n",
       "                        <th id=\"T_e773b234_4159_11ea_a296_0242ac110002level0_row2\" class=\"row_heading level0 row2\" >no.owl#best</th>\n",
       "                        <td id=\"T_e773b234_4159_11ea_a296_0242ac110002row2_col0\" class=\"data row2 col0\" >0</td>\n",
       "                        <td id=\"T_e773b234_4159_11ea_a296_0242ac110002row2_col1\" class=\"data row2 col1\" >0</td>\n",
       "                        <td id=\"T_e773b234_4159_11ea_a296_0242ac110002row2_col2\" class=\"data row2 col2\" >nan</td>\n",
       "                        <td id=\"T_e773b234_4159_11ea_a296_0242ac110002row2_col3\" class=\"data row2 col3\" >0</td>\n",
       "            </tr>\n",
       "    </tbody></table>"
      ],
      "text/plain": [
       "<pandas.io.formats.style.Styler at 0x7fb8721ec1d0>"
      ]
     },
     "metadata": {},
     "output_type": "display_data"
    }
   ],
   "source": [
    "for n, b in sd_benchmarks.items():\n",
    "    print(n)\n",
    "    display(b.cross_compare(tool_set=tool_set))"
   ]
  },
  {
   "cell_type": "markdown",
   "metadata": {},
   "source": [
    "# Merged results\n",
    "We now merge the random results from the 2 categories into 1"
   ]
  },
  {
   "cell_type": "code",
   "execution_count": 10,
   "metadata": {},
   "outputs": [
    {
     "name": "stdout",
     "output_type": "stream",
     "text": [
      "  16001 1220035 7484470 data/random_sd_merged.csv\n",
      "   3217  310405 1939677 data/literature_sd_merged.csv\n"
     ]
    }
   ],
   "source": [
    "!cp data/random_det.csv data/random_sd_merged.csv\n",
    "!tail -n +2 data/random_sd.csv >> data/random_sd_merged.csv\n",
    "!wc data/random_sd_merged.csv\n",
    "!cp data/literature_det.csv data/literature_sd_merged.csv\n",
    "!tail -n +2 data/literature_sd.csv >> data/literature_sd_merged.csv\n",
    "!wc data/literature_sd_merged.csv"
   ]
  },
  {
   "cell_type": "code",
   "execution_count": 11,
   "metadata": {},
   "outputs": [],
   "source": [
    "m_benchmarks = {}\n",
    "for name in [\"literature_sd_merged\",\"random_sd_merged\"]:\n",
    "    b = ResAnalyzer(f\"data/{name}.csv\", cols=[\"states\",\"time\",\"acc\",\"transitions\"])\n",
    "    m_benchmarks[name] = b\n",
    "    b.compute_best([\"yes.owl#s\",\"yes.owl#a\"],\"yes.owl#best\")\n",
    "    b.compute_best([\"no.owl#s\",\"no.owl#a\"],\"no.owl#best\")"
   ]
  },
  {
   "cell_type": "code",
   "execution_count": 12,
   "metadata": {},
   "outputs": [
    {
     "data": {
      "text/html": [
       "<style  type=\"text/css\" >\n",
       "    #T_e89bbddc_4159_11ea_a296_0242ac110002row2_col0 {\n",
       "            background-color:  lightgreen;\n",
       "        }    #T_e89bbddc_4159_11ea_a296_0242ac110002row2_col1 {\n",
       "            background-color:  lightgreen;\n",
       "        }</style><table id=\"T_e89bbddc_4159_11ea_a296_0242ac110002\" ><thead>    <tr>        <th class=\"blank level0\" ></th>        <th class=\"col_heading level0 col0\" >literature_sd_merged</th>        <th class=\"col_heading level0 col1\" >random_sd_merged</th>    </tr>    <tr>        <th class=\"index_name level0\" >tool</th>        <th class=\"blank\" ></th>        <th class=\"blank\" ></th>    </tr></thead><tbody>\n",
       "                <tr>\n",
       "                        <th id=\"T_e89bbddc_4159_11ea_a296_0242ac110002level0_row0\" class=\"row_heading level0 row0\" >no.owl#best</th>\n",
       "                        <td id=\"T_e89bbddc_4159_11ea_a296_0242ac110002row0_col0\" class=\"data row0 col0\" >1092</td>\n",
       "                        <td id=\"T_e89bbddc_4159_11ea_a296_0242ac110002row0_col1\" class=\"data row0 col1\" >6306</td>\n",
       "            </tr>\n",
       "            <tr>\n",
       "                        <th id=\"T_e89bbddc_4159_11ea_a296_0242ac110002level0_row1\" class=\"row_heading level0 row1\" >yes.owl#best</th>\n",
       "                        <td id=\"T_e89bbddc_4159_11ea_a296_0242ac110002row1_col0\" class=\"data row1 col0\" >978</td>\n",
       "                        <td id=\"T_e89bbddc_4159_11ea_a296_0242ac110002row1_col1\" class=\"data row1 col1\" >5501</td>\n",
       "            </tr>\n",
       "            <tr>\n",
       "                        <th id=\"T_e89bbddc_4159_11ea_a296_0242ac110002level0_row2\" class=\"row_heading level0 row2\" >yes.seminator#def</th>\n",
       "                        <td id=\"T_e89bbddc_4159_11ea_a296_0242ac110002row2_col0\" class=\"data row2 col0\" >787</td>\n",
       "                        <td id=\"T_e89bbddc_4159_11ea_a296_0242ac110002row2_col1\" class=\"data row2 col1\" >4914</td>\n",
       "            </tr>\n",
       "    </tbody></table>"
      ],
      "text/plain": [
       "<pandas.io.formats.style.Styler at 0x7fb8720613d0>"
      ]
     },
     "execution_count": 12,
     "metadata": {},
     "output_type": "execute_result"
    }
   ],
   "source": [
    "gather_cumulative(m_benchmarks, tool_set=tool_set)"
   ]
  },
  {
   "cell_type": "code",
   "execution_count": 13,
   "metadata": {},
   "outputs": [
    {
     "data": {
      "text/html": [
       "<style  type=\"text/css\" >\n",
       "    #T_e9f4a6f8_4159_11ea_a296_0242ac110002row2_col0 {\n",
       "            background-color:  lightgreen;\n",
       "        }    #T_e9f4a6f8_4159_11ea_a296_0242ac110002row2_col1 {\n",
       "            background-color:  lightgreen;\n",
       "        }    #T_e9f4a6f8_4159_11ea_a296_0242ac110002row2_col2 {\n",
       "            background-color:  lightgreen;\n",
       "        }    #T_e9f4a6f8_4159_11ea_a296_0242ac110002row2_col3 {\n",
       "            background-color:  lightgreen;\n",
       "        }</style><table id=\"T_e9f4a6f8_4159_11ea_a296_0242ac110002\" ><thead>    <tr>        <th class=\"blank level0\" ></th>        <th class=\"col_heading level0 col0\" colspan=2>literature_sd_merged</th>        <th class=\"col_heading level0 col2\" colspan=2>random_sd_merged</th>    </tr>    <tr>        <th class=\"blank level1\" ></th>        <th class=\"col_heading level1 col0\" >unique min hits</th>        <th class=\"col_heading level1 col1\" >min hits</th>        <th class=\"col_heading level1 col2\" >unique min hits</th>        <th class=\"col_heading level1 col3\" >min hits</th>    </tr>    <tr>        <th class=\"index_name level0\" >tool</th>        <th class=\"blank\" ></th>        <th class=\"blank\" ></th>        <th class=\"blank\" ></th>        <th class=\"blank\" ></th>    </tr></thead><tbody>\n",
       "                <tr>\n",
       "                        <th id=\"T_e9f4a6f8_4159_11ea_a296_0242ac110002level0_row0\" class=\"row_heading level0 row0\" >no.owl#best</th>\n",
       "                        <td id=\"T_e9f4a6f8_4159_11ea_a296_0242ac110002row0_col0\" class=\"data row0 col0\" >0</td>\n",
       "                        <td id=\"T_e9f4a6f8_4159_11ea_a296_0242ac110002row0_col1\" class=\"data row0 col1\" >102</td>\n",
       "                        <td id=\"T_e9f4a6f8_4159_11ea_a296_0242ac110002row0_col2\" class=\"data row0 col2\" >0</td>\n",
       "                        <td id=\"T_e9f4a6f8_4159_11ea_a296_0242ac110002row0_col3\" class=\"data row0 col3\" >453</td>\n",
       "            </tr>\n",
       "            <tr>\n",
       "                        <th id=\"T_e9f4a6f8_4159_11ea_a296_0242ac110002level0_row1\" class=\"row_heading level0 row1\" >yes.owl#best</th>\n",
       "                        <td id=\"T_e9f4a6f8_4159_11ea_a296_0242ac110002row1_col0\" class=\"data row1 col0\" >0</td>\n",
       "                        <td id=\"T_e9f4a6f8_4159_11ea_a296_0242ac110002row1_col1\" class=\"data row1 col1\" >139</td>\n",
       "                        <td id=\"T_e9f4a6f8_4159_11ea_a296_0242ac110002row1_col2\" class=\"data row1 col2\" >23</td>\n",
       "                        <td id=\"T_e9f4a6f8_4159_11ea_a296_0242ac110002row1_col3\" class=\"data row1 col3\" >724</td>\n",
       "            </tr>\n",
       "            <tr>\n",
       "                        <th id=\"T_e9f4a6f8_4159_11ea_a296_0242ac110002level0_row2\" class=\"row_heading level0 row2\" >yes.seminator#def</th>\n",
       "                        <td id=\"T_e9f4a6f8_4159_11ea_a296_0242ac110002row2_col0\" class=\"data row2 col0\" >62</td>\n",
       "                        <td id=\"T_e9f4a6f8_4159_11ea_a296_0242ac110002row2_col1\" class=\"data row2 col1\" >201</td>\n",
       "                        <td id=\"T_e9f4a6f8_4159_11ea_a296_0242ac110002row2_col2\" class=\"data row2 col2\" >276</td>\n",
       "                        <td id=\"T_e9f4a6f8_4159_11ea_a296_0242ac110002row2_col3\" class=\"data row2 col3\" >963</td>\n",
       "            </tr>\n",
       "    </tbody></table>"
      ],
      "text/plain": [
       "<pandas.io.formats.style.Styler at 0x7fb873a35cd0>"
      ]
     },
     "execution_count": 13,
     "metadata": {},
     "output_type": "execute_result"
    }
   ],
   "source": [
    "gather_mins(m_benchmarks, tool_set=tool_set)"
   ]
  },
  {
   "cell_type": "code",
   "execution_count": 14,
   "metadata": {},
   "outputs": [],
   "source": [
    "b = m_benchmarks[\"random_sd_merged\"]"
   ]
  },
  {
   "cell_type": "code",
   "execution_count": 15,
   "metadata": {},
   "outputs": [
    {
     "data": {
      "text/plain": [
       "<seaborn.axisgrid.FacetGrid at 0x7fb88ca33650>"
      ]
     },
     "execution_count": 15,
     "metadata": {},
     "output_type": "execute_result"
    },
    {
     "data": {
      "image/png": "[encoded data removed]",
      "text/plain": [
       "<Figure size 430.725x360 with 1 Axes>"
      ]
     },
     "metadata": {
      "needs_background": "light"
     },
     "output_type": "display_data"
    }
   ],
   "source": [
    "b.seaborn_scatter_plot(\"yes.owl#best\",\"yes.seminator#def\", include_equal=True)"
   ]
  },
  {
   "cell_type": "code",
   "execution_count": 16,
   "metadata": {},
   "outputs": [
    {
     "data": {
      "text/html": [
       "<style  type=\"text/css\" >\n",
       "    #T_ea34f4c4_4159_11ea_a296_0242ac110002row0_col1 {\n",
       "            width:  10em;\n",
       "             height:  80%;\n",
       "            background:  linear-gradient(90deg,#E0FFE0 100.0%, transparent 100.0%);\n",
       "        }    #T_ea34f4c4_4159_11ea_a296_0242ac110002row0_col2 {\n",
       "            width:  10em;\n",
       "             height:  80%;\n",
       "            background:  linear-gradient(90deg,#E0FFE0 97.0%, transparent 97.0%);\n",
       "        }    #T_ea34f4c4_4159_11ea_a296_0242ac110002row0_col3 {\n",
       "            width:  10em;\n",
       "             height:  80%;\n",
       "            background:  linear-gradient(90deg,#E0FFE0 100.0%, transparent 100.0%);\n",
       "        }    #T_ea34f4c4_4159_11ea_a296_0242ac110002row1_col0 {\n",
       "            width:  10em;\n",
       "             height:  80%;\n",
       "            background:  linear-gradient(90deg,#E0FFE0 100.0%, transparent 100.0%);\n",
       "        }    #T_ea34f4c4_4159_11ea_a296_0242ac110002row1_col2 {\n",
       "            width:  10em;\n",
       "             height:  80%;\n",
       "            background:  linear-gradient(90deg,#E0FFE0 100.0%, transparent 100.0%);\n",
       "        }    #T_ea34f4c4_4159_11ea_a296_0242ac110002row1_col3 {\n",
       "            width:  10em;\n",
       "             height:  80%;\n",
       "            background:  linear-gradient(90deg,#E0FFE0 84.0%, transparent 84.0%);\n",
       "        }    #T_ea34f4c4_4159_11ea_a296_0242ac110002row2_col0 {\n",
       "            width:  10em;\n",
       "             height:  80%;\n",
       "            background:  linear-gradient(90deg,#E0FFE0 48.2%, transparent 48.2%);\n",
       "        }    #T_ea34f4c4_4159_11ea_a296_0242ac110002row2_col1 {\n",
       "            width:  10em;\n",
       "             height:  80%;\n",
       "        }    #T_ea34f4c4_4159_11ea_a296_0242ac110002row2_col3 {\n",
       "            width:  10em;\n",
       "             height:  80%;\n",
       "            background:  linear-gradient(90deg,#E0FFE0 7.4%, transparent 7.4%);\n",
       "        }</style><table id=\"T_ea34f4c4_4159_11ea_a296_0242ac110002\" ><thead>    <tr>        <th class=\"blank level0\" ></th>        <th class=\"col_heading level0 col0\" >yes.seminator#def</th>        <th class=\"col_heading level0 col1\" >yes.owl#best</th>        <th class=\"col_heading level0 col2\" >no.owl#best</th>        <th class=\"col_heading level0 col3\" >V</th>    </tr></thead><tbody>\n",
       "                <tr>\n",
       "                        <th id=\"T_ea34f4c4_4159_11ea_a296_0242ac110002level0_row0\" class=\"row_heading level0 row0\" >yes.seminator#def</th>\n",
       "                        <td id=\"T_ea34f4c4_4159_11ea_a296_0242ac110002row0_col0\" class=\"data row0 col0\" >nan</td>\n",
       "                        <td id=\"T_ea34f4c4_4159_11ea_a296_0242ac110002row0_col1\" class=\"data row0 col1\" >303</td>\n",
       "                        <td id=\"T_ea34f4c4_4159_11ea_a296_0242ac110002row0_col2\" class=\"data row0 col2\" >604</td>\n",
       "                        <td id=\"T_ea34f4c4_4159_11ea_a296_0242ac110002row0_col3\" class=\"data row0 col3\" >907</td>\n",
       "            </tr>\n",
       "            <tr>\n",
       "                        <th id=\"T_ea34f4c4_4159_11ea_a296_0242ac110002level0_row1\" class=\"row_heading level0 row1\" >yes.owl#best</th>\n",
       "                        <td id=\"T_ea34f4c4_4159_11ea_a296_0242ac110002row1_col0\" class=\"data row1 col0\" >139</td>\n",
       "                        <td id=\"T_ea34f4c4_4159_11ea_a296_0242ac110002row1_col1\" class=\"data row1 col1\" >nan</td>\n",
       "                        <td id=\"T_ea34f4c4_4159_11ea_a296_0242ac110002row1_col2\" class=\"data row1 col2\" >623</td>\n",
       "                        <td id=\"T_ea34f4c4_4159_11ea_a296_0242ac110002row1_col3\" class=\"data row1 col3\" >762</td>\n",
       "            </tr>\n",
       "            <tr>\n",
       "                        <th id=\"T_ea34f4c4_4159_11ea_a296_0242ac110002level0_row2\" class=\"row_heading level0 row2\" >no.owl#best</th>\n",
       "                        <td id=\"T_ea34f4c4_4159_11ea_a296_0242ac110002row2_col0\" class=\"data row2 col0\" >67</td>\n",
       "                        <td id=\"T_ea34f4c4_4159_11ea_a296_0242ac110002row2_col1\" class=\"data row2 col1\" >0</td>\n",
       "                        <td id=\"T_ea34f4c4_4159_11ea_a296_0242ac110002row2_col2\" class=\"data row2 col2\" >nan</td>\n",
       "                        <td id=\"T_ea34f4c4_4159_11ea_a296_0242ac110002row2_col3\" class=\"data row2 col3\" >67</td>\n",
       "            </tr>\n",
       "    </tbody></table>"
      ],
      "text/plain": [
       "<pandas.io.formats.style.Styler at 0x7fb87214f190>"
      ]
     },
     "execution_count": 16,
     "metadata": {},
     "output_type": "execute_result"
    }
   ],
   "source": [
    "b.cross_compare(tool_set)"
   ]
  }
 ],
 "metadata": {
  "kernelspec": {
   "display_name": "Python 3",
   "language": "python",
   "name": "python3"
  },
  "language_info": {
   "codemirror_mode": {
    "name": "ipython",
    "version": 3
   },
   "file_extension": ".py",
   "mimetype": "text/x-python",
   "name": "python",
   "nbconvert_exporter": "python",
   "pygments_lexer": "ipython3",
   "version": "3.7.6"
  }
 },
 "nbformat": 4,
 "nbformat_minor": 4
}
