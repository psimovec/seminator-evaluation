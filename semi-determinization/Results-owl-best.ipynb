{
 "cells": [
  {
   "cell_type": "code",
   "execution_count": 1,
   "metadata": {},
   "outputs": [],
   "source": [
    "from ltlcross_wrapper import ResAnalyzer, gather_cumulative, gather_mins"
   ]
  },
  {
   "cell_type": "code",
   "execution_count": 2,
   "metadata": {},
   "outputs": [],
   "source": [
    "nd_benchmarks = {}\n",
    "for name in [\"literature_nd\",\"random_nd\"]:\n",
    "    b = ResAnalyzer(f\"data/{name}.csv\", cols=[\"states\",\"time\",\"acc\",\"transitions\"])\n",
    "    nd_benchmarks[name] = b\n",
    "    b.compute_best([\"yes.owl#s\",\"yes.owl#a\"],\"yes.owl#best\")\n",
    "    b.compute_best([\"no.owl#s\",\"no.owl#a\"],\"no.owl#best\")"
   ]
  },
  {
   "cell_type": "code",
   "execution_count": 3,
   "metadata": {},
   "outputs": [],
   "source": [
    "tool_set = [\"yes.seminator#def\",\"yes.seminator-1-1\",\"yes.seminator-1-2\",\"yes.owl#best\",\"no.owl#best\"]"
   ]
  },
  {
   "cell_type": "markdown",
   "metadata": {},
   "source": [
    "For each benchmark, we list the cumulative numbers of states for each tool. `yes` in the name of tools means that the Spot simplifications were applied on the results of the tools (were not disabled for `seminator`). `best` means that we choose the best variant for Owl, `#def` is the default setting of Seminator 2. `-1-1` and `-1-2` indicate older version numbers of `seminator`. If you want to see numbers where Spot's simplifications were disabled (not run for Owl), or the numbers for Owl without the _best-for-Owl_ approach, set tool_set to `None`. If you do, the `#a` stands for `ltl2ldgba -a` and analogously for `#s`. For `seminator`, by `#tba` (and analogies) we denote `seminator --via-tba` etc."
   ]
  },
  {
   "cell_type": "code",
   "execution_count": 4,
   "metadata": {},
   "outputs": [
    {
     "data": {
      "text/html": [
       "<style  type=\"text/css\" >\n",
       "    #T_286f8bdc_3f02_11ea_a2da_51fac7bede2frow2_col0 {\n",
       "            background-color:  lightgreen;\n",
       "        }    #T_286f8bdc_3f02_11ea_a2da_51fac7bede2frow2_col1 {\n",
       "            background-color:  lightgreen;\n",
       "        }</style><table id=\"T_286f8bdc_3f02_11ea_a2da_51fac7bede2f\" ><thead>    <tr>        <th class=\"blank level0\" ></th>        <th class=\"col_heading level0 col0\" >literature_nd</th>        <th class=\"col_heading level0 col1\" >random_nd</th>    </tr>    <tr>        <th class=\"index_name level0\" >tool</th>        <th class=\"blank\" ></th>        <th class=\"blank\" ></th>    </tr></thead><tbody>\n",
       "                <tr>\n",
       "                        <th id=\"T_286f8bdc_3f02_11ea_a2da_51fac7bede2flevel0_row0\" class=\"row_heading level0 row0\" >no.owl#best</th>\n",
       "                        <td id=\"T_286f8bdc_3f02_11ea_a2da_51fac7bede2frow0_col0\" class=\"data row0 col0\" >281</td>\n",
       "                        <td id=\"T_286f8bdc_3f02_11ea_a2da_51fac7bede2frow0_col1\" class=\"data row0 col1\" >5041</td>\n",
       "            </tr>\n",
       "            <tr>\n",
       "                        <th id=\"T_286f8bdc_3f02_11ea_a2da_51fac7bede2flevel0_row1\" class=\"row_heading level0 row1\" >yes.owl#best</th>\n",
       "                        <td id=\"T_286f8bdc_3f02_11ea_a2da_51fac7bede2frow1_col0\" class=\"data row1 col0\" >234</td>\n",
       "                        <td id=\"T_286f8bdc_3f02_11ea_a2da_51fac7bede2frow1_col1\" class=\"data row1 col1\" >4153</td>\n",
       "            </tr>\n",
       "            <tr>\n",
       "                        <th id=\"T_286f8bdc_3f02_11ea_a2da_51fac7bede2flevel0_row2\" class=\"row_heading level0 row2\" >yes.seminator#def</th>\n",
       "                        <td id=\"T_286f8bdc_3f02_11ea_a2da_51fac7bede2frow2_col0\" class=\"data row2 col0\" >230</td>\n",
       "                        <td id=\"T_286f8bdc_3f02_11ea_a2da_51fac7bede2frow2_col1\" class=\"data row2 col1\" >3963</td>\n",
       "            </tr>\n",
       "            <tr>\n",
       "                        <th id=\"T_286f8bdc_3f02_11ea_a2da_51fac7bede2flevel0_row3\" class=\"row_heading level0 row3\" >yes.seminator-1-1</th>\n",
       "                        <td id=\"T_286f8bdc_3f02_11ea_a2da_51fac7bede2frow3_col0\" class=\"data row3 col0\" >297</td>\n",
       "                        <td id=\"T_286f8bdc_3f02_11ea_a2da_51fac7bede2frow3_col1\" class=\"data row3 col1\" >7024</td>\n",
       "            </tr>\n",
       "            <tr>\n",
       "                        <th id=\"T_286f8bdc_3f02_11ea_a2da_51fac7bede2flevel0_row4\" class=\"row_heading level0 row4\" >yes.seminator-1-2</th>\n",
       "                        <td id=\"T_286f8bdc_3f02_11ea_a2da_51fac7bede2frow4_col0\" class=\"data row4 col0\" >238</td>\n",
       "                        <td id=\"T_286f8bdc_3f02_11ea_a2da_51fac7bede2frow4_col1\" class=\"data row4 col1\" >4532</td>\n",
       "            </tr>\n",
       "    </tbody></table>"
      ],
      "text/plain": [
       "<pandas.io.formats.style.Styler at 0x7f3857720690>"
      ]
     },
     "execution_count": 4,
     "metadata": {},
     "output_type": "execute_result"
    }
   ],
   "source": [
    "gather_cumulative(nd_benchmarks, tool_set=tool_set)"
   ]
  },
  {
   "cell_type": "markdown",
   "metadata": {},
   "source": [
    "### Minimal automata\n",
    "\n",
    "The follwing table shows for how many formulas each tool produces automaton that has the smallest number of states. The minimum ranges over the considered tools. The number in min hits shows how many times the same size as the smallest automaton was achieved. The number in unique min hits counts only cases where the given tool is the only tool with such a small automaton."
   ]
  },
  {
   "cell_type": "code",
   "execution_count": 5,
   "metadata": {},
   "outputs": [
    {
     "data": {
      "text/html": [
       "<style  type=\"text/css\" >\n",
       "    #T_286f8bdd_3f02_11ea_a2da_51fac7bede2frow2_col0 {\n",
       "            background-color:  lightgreen;\n",
       "        }    #T_286f8bdd_3f02_11ea_a2da_51fac7bede2frow2_col1 {\n",
       "            background-color:  lightgreen;\n",
       "        }    #T_286f8bdd_3f02_11ea_a2da_51fac7bede2frow2_col2 {\n",
       "            background-color:  lightgreen;\n",
       "        }    #T_286f8bdd_3f02_11ea_a2da_51fac7bede2frow2_col3 {\n",
       "            background-color:  lightgreen;\n",
       "        }</style><table id=\"T_286f8bdd_3f02_11ea_a2da_51fac7bede2f\" ><thead>    <tr>        <th class=\"blank level0\" ></th>        <th class=\"col_heading level0 col0\" colspan=2>literature_nd</th>        <th class=\"col_heading level0 col2\" colspan=2>random_nd</th>    </tr>    <tr>        <th class=\"blank level1\" ></th>        <th class=\"col_heading level1 col0\" >unique min hits</th>        <th class=\"col_heading level1 col1\" >min hits</th>        <th class=\"col_heading level1 col2\" >unique min hits</th>        <th class=\"col_heading level1 col3\" >min hits</th>    </tr>    <tr>        <th class=\"index_name level0\" >tool</th>        <th class=\"blank\" ></th>        <th class=\"blank\" ></th>        <th class=\"blank\" ></th>        <th class=\"blank\" ></th>    </tr></thead><tbody>\n",
       "                <tr>\n",
       "                        <th id=\"T_286f8bdd_3f02_11ea_a2da_51fac7bede2flevel0_row0\" class=\"row_heading level0 row0\" >no.owl#best</th>\n",
       "                        <td id=\"T_286f8bdd_3f02_11ea_a2da_51fac7bede2frow0_col0\" class=\"data row0 col0\" >0</td>\n",
       "                        <td id=\"T_286f8bdd_3f02_11ea_a2da_51fac7bede2frow0_col1\" class=\"data row0 col1\" >6</td>\n",
       "                        <td id=\"T_286f8bdd_3f02_11ea_a2da_51fac7bede2frow0_col2\" class=\"data row0 col2\" >0</td>\n",
       "                        <td id=\"T_286f8bdd_3f02_11ea_a2da_51fac7bede2frow0_col3\" class=\"data row0 col3\" >144</td>\n",
       "            </tr>\n",
       "            <tr>\n",
       "                        <th id=\"T_286f8bdd_3f02_11ea_a2da_51fac7bede2flevel0_row1\" class=\"row_heading level0 row1\" >yes.owl#best</th>\n",
       "                        <td id=\"T_286f8bdd_3f02_11ea_a2da_51fac7bede2frow1_col0\" class=\"data row1 col0\" >2</td>\n",
       "                        <td id=\"T_286f8bdd_3f02_11ea_a2da_51fac7bede2frow1_col1\" class=\"data row1 col1\" >11</td>\n",
       "                        <td id=\"T_286f8bdd_3f02_11ea_a2da_51fac7bede2frow1_col2\" class=\"data row1 col2\" >60</td>\n",
       "                        <td id=\"T_286f8bdd_3f02_11ea_a2da_51fac7bede2frow1_col3\" class=\"data row1 col3\" >265</td>\n",
       "            </tr>\n",
       "            <tr>\n",
       "                        <th id=\"T_286f8bdd_3f02_11ea_a2da_51fac7bede2flevel0_row2\" class=\"row_heading level0 row2\" >yes.seminator#def</th>\n",
       "                        <td id=\"T_286f8bdd_3f02_11ea_a2da_51fac7bede2frow2_col0\" class=\"data row2 col0\" >3</td>\n",
       "                        <td id=\"T_286f8bdd_3f02_11ea_a2da_51fac7bede2frow2_col1\" class=\"data row2 col1\" >16</td>\n",
       "                        <td id=\"T_286f8bdd_3f02_11ea_a2da_51fac7bede2frow2_col2\" class=\"data row2 col2\" >95</td>\n",
       "                        <td id=\"T_286f8bdd_3f02_11ea_a2da_51fac7bede2frow2_col3\" class=\"data row2 col3\" >353</td>\n",
       "            </tr>\n",
       "            <tr>\n",
       "                        <th id=\"T_286f8bdd_3f02_11ea_a2da_51fac7bede2flevel0_row3\" class=\"row_heading level0 row3\" >yes.seminator-1-1</th>\n",
       "                        <td id=\"T_286f8bdd_3f02_11ea_a2da_51fac7bede2frow3_col0\" class=\"data row3 col0\" >0</td>\n",
       "                        <td id=\"T_286f8bdd_3f02_11ea_a2da_51fac7bede2frow3_col1\" class=\"data row3 col1\" >7</td>\n",
       "                        <td id=\"T_286f8bdd_3f02_11ea_a2da_51fac7bede2frow3_col2\" class=\"data row3 col2\" >3</td>\n",
       "                        <td id=\"T_286f8bdd_3f02_11ea_a2da_51fac7bede2frow3_col3\" class=\"data row3 col3\" >59</td>\n",
       "            </tr>\n",
       "            <tr>\n",
       "                        <th id=\"T_286f8bdd_3f02_11ea_a2da_51fac7bede2flevel0_row4\" class=\"row_heading level0 row4\" >yes.seminator-1-2</th>\n",
       "                        <td id=\"T_286f8bdd_3f02_11ea_a2da_51fac7bede2frow4_col0\" class=\"data row4 col0\" >0</td>\n",
       "                        <td id=\"T_286f8bdd_3f02_11ea_a2da_51fac7bede2frow4_col1\" class=\"data row4 col1\" >12</td>\n",
       "                        <td id=\"T_286f8bdd_3f02_11ea_a2da_51fac7bede2frow4_col2\" class=\"data row4 col2\" >3</td>\n",
       "                        <td id=\"T_286f8bdd_3f02_11ea_a2da_51fac7bede2frow4_col3\" class=\"data row4 col3\" >227</td>\n",
       "            </tr>\n",
       "    </tbody></table>"
      ],
      "text/plain": [
       "<pandas.io.formats.style.Styler at 0x7f3857251ed0>"
      ]
     },
     "execution_count": 5,
     "metadata": {},
     "output_type": "execute_result"
    }
   ],
   "source": [
    "gather_mins(nd_benchmarks, tool_set=tool_set)"
   ]
  },
  {
   "cell_type": "markdown",
   "metadata": {},
   "source": [
    "### Running times and timeouts\n",
    "The older versions of Seminator reached the 30s timeout in one case for formulae from literature. Otherwise, most of the execution times were below 1s for all tools."
   ]
  },
  {
   "cell_type": "code",
   "execution_count": 6,
   "metadata": {},
   "outputs": [
    {
     "name": "stdout",
     "output_type": "stream",
     "text": [
      "literature_nd\n"
     ]
    },
    {
     "data": {
      "text/html": [
       "<div>\n",
       "<style scoped>\n",
       "    .dataframe tbody tr th:only-of-type {\n",
       "        vertical-align: middle;\n",
       "    }\n",
       "\n",
       "    .dataframe tbody tr th {\n",
       "        vertical-align: top;\n",
       "    }\n",
       "\n",
       "    .dataframe thead th {\n",
       "        text-align: right;\n",
       "    }\n",
       "</style>\n",
       "<table border=\"1\" class=\"dataframe\">\n",
       "  <thead>\n",
       "    <tr style=\"text-align: right;\">\n",
       "      <th></th>\n",
       "      <th>timeout</th>\n",
       "      <th>parse error</th>\n",
       "      <th>incorrect</th>\n",
       "      <th>crash</th>\n",
       "      <th>no output</th>\n",
       "    </tr>\n",
       "  </thead>\n",
       "  <tbody>\n",
       "    <tr>\n",
       "      <td>yes.seminator-1-1</td>\n",
       "      <td>1</td>\n",
       "      <td>0</td>\n",
       "      <td>0</td>\n",
       "      <td>0</td>\n",
       "      <td>0</td>\n",
       "    </tr>\n",
       "    <tr>\n",
       "      <td>yes.seminator-1-2</td>\n",
       "      <td>1</td>\n",
       "      <td>0</td>\n",
       "      <td>0</td>\n",
       "      <td>0</td>\n",
       "      <td>0</td>\n",
       "    </tr>\n",
       "  </tbody>\n",
       "</table>\n",
       "</div>"
      ],
      "text/plain": [
       "                   timeout  parse error  incorrect  crash  no output\n",
       "yes.seminator-1-1        1            0          0      0          0\n",
       "yes.seminator-1-2        1            0          0      0          0"
      ]
     },
     "metadata": {},
     "output_type": "display_data"
    },
    {
     "data": {
      "text/plain": [
       "tool\n",
       "yes.seminator#def     0.076844\n",
       "yes.seminator-1-1    30.003500\n",
       "yes.seminator-1-2    30.000500\n",
       "yes.owl#best          0.098299\n",
       "no.owl#best           0.069296\n",
       "dtype: float64"
      ]
     },
     "metadata": {},
     "output_type": "display_data"
    },
    {
     "name": "stdout",
     "output_type": "stream",
     "text": [
      "random_nd\n"
     ]
    },
    {
     "data": {
      "text/html": [
       "<div>\n",
       "<style scoped>\n",
       "    .dataframe tbody tr th:only-of-type {\n",
       "        vertical-align: middle;\n",
       "    }\n",
       "\n",
       "    .dataframe tbody tr th {\n",
       "        vertical-align: top;\n",
       "    }\n",
       "\n",
       "    .dataframe thead th {\n",
       "        text-align: right;\n",
       "    }\n",
       "</style>\n",
       "<table border=\"1\" class=\"dataframe\">\n",
       "  <thead>\n",
       "    <tr style=\"text-align: right;\">\n",
       "      <th></th>\n",
       "      <th>timeout</th>\n",
       "      <th>parse error</th>\n",
       "      <th>incorrect</th>\n",
       "      <th>crash</th>\n",
       "      <th>no output</th>\n",
       "    </tr>\n",
       "    <tr>\n",
       "      <th>tool</th>\n",
       "      <th></th>\n",
       "      <th></th>\n",
       "      <th></th>\n",
       "      <th></th>\n",
       "      <th></th>\n",
       "    </tr>\n",
       "  </thead>\n",
       "  <tbody>\n",
       "  </tbody>\n",
       "</table>\n",
       "</div>"
      ],
      "text/plain": [
       "Empty DataFrame\n",
       "Columns: [timeout, parse error, incorrect, crash, no output]\n",
       "Index: []"
      ]
     },
     "metadata": {},
     "output_type": "display_data"
    },
    {
     "data": {
      "text/plain": [
       "tool\n",
       "yes.seminator#def    0.288713\n",
       "yes.seminator-1-1    5.685760\n",
       "yes.seminator-1-2    0.450692\n",
       "yes.owl#best         0.261014\n",
       "no.owl#best          0.230413\n",
       "dtype: float64"
      ]
     },
     "metadata": {},
     "output_type": "display_data"
    }
   ],
   "source": [
    "for name, b in nd_benchmarks.items():\n",
    "    print(name)\n",
    "    display(b.get_error_counts())\n",
    "    display(b.values.time.max().loc[tool_set])"
   ]
  },
  {
   "cell_type": "markdown",
   "metadata": {},
   "source": [
    "### Scatter plots\n",
    "We offer 2 interactive scatter plots that show how Seminator 2 compares to Owl (In[10]), and Seminator 1.2 (In[11])."
   ]
  },
  {
   "cell_type": "code",
   "execution_count": 7,
   "metadata": {},
   "outputs": [
    {
     "data": {
      "image/png": "[encoded data removed]",
      "text/plain": [
       "<Figure size 430.725x360 with 1 Axes>"
      ]
     },
     "metadata": {
      "needs_background": "light"
     },
     "output_type": "display_data"
    }
   ],
   "source": [
    "b = nd_benchmarks[\"random_nd\"]\n",
    "b.seaborn_scatter_plot(\"yes.owl#best\",\"yes.seminator#def\", include_equal=True)"
   ]
  },
  {
   "cell_type": "code",
   "execution_count": 10,
   "metadata": {},
   "outputs": [
    {
     "data": {
      "image/png": "[encoded data removed]",
      "text/plain": [
       "<Figure size 430.725x360 with 1 Axes>"
      ]
     },
     "metadata": {
      "needs_background": "light"
     },
     "output_type": "display_data"
    }
   ],
   "source": [
    "b = nd_benchmarks[\"random_nd\"]\n",
    "b.seaborn_scatter_plot(\"no.owl#best\",\"yes.seminator#def\", include_equal=True)"
   ]
  },
  {
   "cell_type": "code",
   "execution_count": 8,
   "metadata": {},
   "outputs": [
    {
     "data": {
      "image/png": "[encoded data removed]",
      "text/plain": [
       "<Figure size 430.725x360 with 1 Axes>"
      ]
     },
     "metadata": {
      "needs_background": "light"
     },
     "output_type": "display_data"
    }
   ],
   "source": [
    "b.seaborn_scatter_plot(\"yes.seminator-1-2\",\"yes.seminator#def\", include_equal=True)"
   ]
  },
  {
   "cell_type": "markdown",
   "metadata": {},
   "source": [
    "### Cross-comparison\n",
    "The cross-comparison for a benchmark shows, in a cell (`row`,`column`) in how many cases the tool in `row` produces automaton that is better thatn the one produced by `column`. The last columns (`V`) summs the numbers across rows, while the green highlighting fill a space that is proportional to how well the tool in `row` competed agains `column` (proportional across columns)."
   ]
  },
  {
   "cell_type": "code",
   "execution_count": 9,
   "metadata": {},
   "outputs": [
    {
     "name": "stdout",
     "output_type": "stream",
     "text": [
      "literature_nd\n"
     ]
    },
    {
     "data": {
      "text/html": [
       "<style  type=\"text/css\" >\n",
       "    #T_297a8b30_3f02_11ea_a2da_51fac7bede2frow0_col1 {\n",
       "            width:  10em;\n",
       "             height:  80%;\n",
       "            background:  linear-gradient(90deg,#E0FFE0 75.0%, transparent 75.0%);\n",
       "        }    #T_297a8b30_3f02_11ea_a2da_51fac7bede2frow0_col2 {\n",
       "            width:  10em;\n",
       "             height:  80%;\n",
       "            background:  linear-gradient(90deg,#E0FFE0 88.9%, transparent 88.9%);\n",
       "        }    #T_297a8b30_3f02_11ea_a2da_51fac7bede2frow0_col3 {\n",
       "            width:  10em;\n",
       "             height:  80%;\n",
       "            background:  linear-gradient(90deg,#E0FFE0 100.0%, transparent 100.0%);\n",
       "        }    #T_297a8b30_3f02_11ea_a2da_51fac7bede2frow0_col4 {\n",
       "            width:  10em;\n",
       "             height:  80%;\n",
       "            background:  linear-gradient(90deg,#E0FFE0 80.0%, transparent 80.0%);\n",
       "        }    #T_297a8b30_3f02_11ea_a2da_51fac7bede2frow0_col5 {\n",
       "            width:  10em;\n",
       "             height:  80%;\n",
       "            background:  linear-gradient(90deg,#E0FFE0 90.6%, transparent 90.6%);\n",
       "        }    #T_297a8b30_3f02_11ea_a2da_51fac7bede2frow1_col0 {\n",
       "            width:  10em;\n",
       "             height:  80%;\n",
       "            background:  linear-gradient(90deg,#E0FFE0 70.0%, transparent 70.0%);\n",
       "        }    #T_297a8b30_3f02_11ea_a2da_51fac7bede2frow1_col2 {\n",
       "            width:  10em;\n",
       "             height:  80%;\n",
       "        }    #T_297a8b30_3f02_11ea_a2da_51fac7bede2frow1_col3 {\n",
       "            width:  10em;\n",
       "             height:  80%;\n",
       "            background:  linear-gradient(90deg,#E0FFE0 25.0%, transparent 25.0%);\n",
       "        }    #T_297a8b30_3f02_11ea_a2da_51fac7bede2frow1_col4 {\n",
       "            width:  10em;\n",
       "             height:  80%;\n",
       "            background:  linear-gradient(90deg,#E0FFE0 65.0%, transparent 65.0%);\n",
       "        }    #T_297a8b30_3f02_11ea_a2da_51fac7bede2frow1_col5 {\n",
       "            width:  10em;\n",
       "             height:  80%;\n",
       "            background:  linear-gradient(90deg,#E0FFE0 43.4%, transparent 43.4%);\n",
       "        }    #T_297a8b30_3f02_11ea_a2da_51fac7bede2frow2_col0 {\n",
       "            width:  10em;\n",
       "             height:  80%;\n",
       "            background:  linear-gradient(90deg,#E0FFE0 100.0%, transparent 100.0%);\n",
       "        }    #T_297a8b30_3f02_11ea_a2da_51fac7bede2frow2_col1 {\n",
       "            width:  10em;\n",
       "             height:  80%;\n",
       "            background:  linear-gradient(90deg,#E0FFE0 56.2%, transparent 56.2%);\n",
       "        }    #T_297a8b30_3f02_11ea_a2da_51fac7bede2frow2_col3 {\n",
       "            width:  10em;\n",
       "             height:  80%;\n",
       "            background:  linear-gradient(90deg,#E0FFE0 83.3%, transparent 83.3%);\n",
       "        }    #T_297a8b30_3f02_11ea_a2da_51fac7bede2frow2_col4 {\n",
       "            width:  10em;\n",
       "             height:  80%;\n",
       "            background:  linear-gradient(90deg,#E0FFE0 75.0%, transparent 75.0%);\n",
       "        }    #T_297a8b30_3f02_11ea_a2da_51fac7bede2frow2_col5 {\n",
       "            width:  10em;\n",
       "             height:  80%;\n",
       "            background:  linear-gradient(90deg,#E0FFE0 83.0%, transparent 83.0%);\n",
       "        }    #T_297a8b30_3f02_11ea_a2da_51fac7bede2frow3_col0 {\n",
       "            width:  10em;\n",
       "             height:  80%;\n",
       "            background:  linear-gradient(90deg,#E0FFE0 80.0%, transparent 80.0%);\n",
       "        }    #T_297a8b30_3f02_11ea_a2da_51fac7bede2frow3_col1 {\n",
       "            width:  10em;\n",
       "             height:  80%;\n",
       "            background:  linear-gradient(90deg,#E0FFE0 100.0%, transparent 100.0%);\n",
       "        }    #T_297a8b30_3f02_11ea_a2da_51fac7bede2frow3_col2 {\n",
       "            width:  10em;\n",
       "             height:  80%;\n",
       "            background:  linear-gradient(90deg,#E0FFE0 100.0%, transparent 100.0%);\n",
       "        }    #T_297a8b30_3f02_11ea_a2da_51fac7bede2frow3_col4 {\n",
       "            width:  10em;\n",
       "             height:  80%;\n",
       "            background:  linear-gradient(90deg,#E0FFE0 100.0%, transparent 100.0%);\n",
       "        }    #T_297a8b30_3f02_11ea_a2da_51fac7bede2frow3_col5 {\n",
       "            width:  10em;\n",
       "             height:  80%;\n",
       "            background:  linear-gradient(90deg,#E0FFE0 100.0%, transparent 100.0%);\n",
       "        }    #T_297a8b30_3f02_11ea_a2da_51fac7bede2frow4_col0 {\n",
       "            width:  10em;\n",
       "             height:  80%;\n",
       "            background:  linear-gradient(90deg,#E0FFE0 40.0%, transparent 40.0%);\n",
       "        }    #T_297a8b30_3f02_11ea_a2da_51fac7bede2frow4_col1 {\n",
       "            width:  10em;\n",
       "             height:  80%;\n",
       "            background:  linear-gradient(90deg,#E0FFE0 43.7%, transparent 43.7%);\n",
       "        }    #T_297a8b30_3f02_11ea_a2da_51fac7bede2frow4_col2 {\n",
       "            width:  10em;\n",
       "             height:  80%;\n",
       "            background:  linear-gradient(90deg,#E0FFE0 55.6%, transparent 55.6%);\n",
       "        }    #T_297a8b30_3f02_11ea_a2da_51fac7bede2frow4_col3 {\n",
       "            width:  10em;\n",
       "             height:  80%;\n",
       "        }    #T_297a8b30_3f02_11ea_a2da_51fac7bede2frow4_col5 {\n",
       "            width:  10em;\n",
       "             height:  80%;\n",
       "            background:  linear-gradient(90deg,#E0FFE0 30.2%, transparent 30.2%);\n",
       "        }</style><table id=\"T_297a8b30_3f02_11ea_a2da_51fac7bede2f\" ><thead>    <tr>        <th class=\"blank level0\" ></th>        <th class=\"col_heading level0 col0\" >yes.seminator#def</th>        <th class=\"col_heading level0 col1\" >yes.seminator-1-1</th>        <th class=\"col_heading level0 col2\" >yes.seminator-1-2</th>        <th class=\"col_heading level0 col3\" >yes.owl#best</th>        <th class=\"col_heading level0 col4\" >no.owl#best</th>        <th class=\"col_heading level0 col5\" >V</th>    </tr></thead><tbody>\n",
       "                <tr>\n",
       "                        <th id=\"T_297a8b30_3f02_11ea_a2da_51fac7bede2flevel0_row0\" class=\"row_heading level0 row0\" >yes.seminator#def</th>\n",
       "                        <td id=\"T_297a8b30_3f02_11ea_a2da_51fac7bede2frow0_col0\" class=\"data row0 col0\" >nan</td>\n",
       "                        <td id=\"T_297a8b30_3f02_11ea_a2da_51fac7bede2frow0_col1\" class=\"data row0 col1\" >12</td>\n",
       "                        <td id=\"T_297a8b30_3f02_11ea_a2da_51fac7bede2frow0_col2\" class=\"data row0 col2\" >8</td>\n",
       "                        <td id=\"T_297a8b30_3f02_11ea_a2da_51fac7bede2frow0_col3\" class=\"data row0 col3\" >12</td>\n",
       "                        <td id=\"T_297a8b30_3f02_11ea_a2da_51fac7bede2frow0_col4\" class=\"data row0 col4\" >16</td>\n",
       "                        <td id=\"T_297a8b30_3f02_11ea_a2da_51fac7bede2frow0_col5\" class=\"data row0 col5\" >48</td>\n",
       "            </tr>\n",
       "            <tr>\n",
       "                        <th id=\"T_297a8b30_3f02_11ea_a2da_51fac7bede2flevel0_row1\" class=\"row_heading level0 row1\" >yes.seminator-1-1</th>\n",
       "                        <td id=\"T_297a8b30_3f02_11ea_a2da_51fac7bede2frow1_col0\" class=\"data row1 col0\" >7</td>\n",
       "                        <td id=\"T_297a8b30_3f02_11ea_a2da_51fac7bede2frow1_col1\" class=\"data row1 col1\" >nan</td>\n",
       "                        <td id=\"T_297a8b30_3f02_11ea_a2da_51fac7bede2frow1_col2\" class=\"data row1 col2\" >0</td>\n",
       "                        <td id=\"T_297a8b30_3f02_11ea_a2da_51fac7bede2frow1_col3\" class=\"data row1 col3\" >3</td>\n",
       "                        <td id=\"T_297a8b30_3f02_11ea_a2da_51fac7bede2frow1_col4\" class=\"data row1 col4\" >13</td>\n",
       "                        <td id=\"T_297a8b30_3f02_11ea_a2da_51fac7bede2frow1_col5\" class=\"data row1 col5\" >23</td>\n",
       "            </tr>\n",
       "            <tr>\n",
       "                        <th id=\"T_297a8b30_3f02_11ea_a2da_51fac7bede2flevel0_row2\" class=\"row_heading level0 row2\" >yes.seminator-1-2</th>\n",
       "                        <td id=\"T_297a8b30_3f02_11ea_a2da_51fac7bede2frow2_col0\" class=\"data row2 col0\" >10</td>\n",
       "                        <td id=\"T_297a8b30_3f02_11ea_a2da_51fac7bede2frow2_col1\" class=\"data row2 col1\" >9</td>\n",
       "                        <td id=\"T_297a8b30_3f02_11ea_a2da_51fac7bede2frow2_col2\" class=\"data row2 col2\" >nan</td>\n",
       "                        <td id=\"T_297a8b30_3f02_11ea_a2da_51fac7bede2frow2_col3\" class=\"data row2 col3\" >10</td>\n",
       "                        <td id=\"T_297a8b30_3f02_11ea_a2da_51fac7bede2frow2_col4\" class=\"data row2 col4\" >15</td>\n",
       "                        <td id=\"T_297a8b30_3f02_11ea_a2da_51fac7bede2frow2_col5\" class=\"data row2 col5\" >44</td>\n",
       "            </tr>\n",
       "            <tr>\n",
       "                        <th id=\"T_297a8b30_3f02_11ea_a2da_51fac7bede2flevel0_row3\" class=\"row_heading level0 row3\" >yes.owl#best</th>\n",
       "                        <td id=\"T_297a8b30_3f02_11ea_a2da_51fac7bede2frow3_col0\" class=\"data row3 col0\" >8</td>\n",
       "                        <td id=\"T_297a8b30_3f02_11ea_a2da_51fac7bede2frow3_col1\" class=\"data row3 col1\" >16</td>\n",
       "                        <td id=\"T_297a8b30_3f02_11ea_a2da_51fac7bede2frow3_col2\" class=\"data row3 col2\" >9</td>\n",
       "                        <td id=\"T_297a8b30_3f02_11ea_a2da_51fac7bede2frow3_col3\" class=\"data row3 col3\" >nan</td>\n",
       "                        <td id=\"T_297a8b30_3f02_11ea_a2da_51fac7bede2frow3_col4\" class=\"data row3 col4\" >20</td>\n",
       "                        <td id=\"T_297a8b30_3f02_11ea_a2da_51fac7bede2frow3_col5\" class=\"data row3 col5\" >53</td>\n",
       "            </tr>\n",
       "            <tr>\n",
       "                        <th id=\"T_297a8b30_3f02_11ea_a2da_51fac7bede2flevel0_row4\" class=\"row_heading level0 row4\" >no.owl#best</th>\n",
       "                        <td id=\"T_297a8b30_3f02_11ea_a2da_51fac7bede2frow4_col0\" class=\"data row4 col0\" >4</td>\n",
       "                        <td id=\"T_297a8b30_3f02_11ea_a2da_51fac7bede2frow4_col1\" class=\"data row4 col1\" >7</td>\n",
       "                        <td id=\"T_297a8b30_3f02_11ea_a2da_51fac7bede2frow4_col2\" class=\"data row4 col2\" >5</td>\n",
       "                        <td id=\"T_297a8b30_3f02_11ea_a2da_51fac7bede2frow4_col3\" class=\"data row4 col3\" >0</td>\n",
       "                        <td id=\"T_297a8b30_3f02_11ea_a2da_51fac7bede2frow4_col4\" class=\"data row4 col4\" >nan</td>\n",
       "                        <td id=\"T_297a8b30_3f02_11ea_a2da_51fac7bede2frow4_col5\" class=\"data row4 col5\" >16</td>\n",
       "            </tr>\n",
       "    </tbody></table>"
      ],
      "text/plain": [
       "<pandas.io.formats.style.Styler at 0x7f38571ec6d0>"
      ]
     },
     "metadata": {},
     "output_type": "display_data"
    },
    {
     "name": "stdout",
     "output_type": "stream",
     "text": [
      "random_nd\n"
     ]
    },
    {
     "data": {
      "text/html": [
       "<style  type=\"text/css\" >\n",
       "    #T_297a8b31_3f02_11ea_a2da_51fac7bede2frow0_col1 {\n",
       "            width:  10em;\n",
       "             height:  80%;\n",
       "            background:  linear-gradient(90deg,#E0FFE0 100.0%, transparent 100.0%);\n",
       "        }    #T_297a8b31_3f02_11ea_a2da_51fac7bede2frow0_col2 {\n",
       "            width:  10em;\n",
       "             height:  80%;\n",
       "            background:  linear-gradient(90deg,#E0FFE0 100.0%, transparent 100.0%);\n",
       "        }    #T_297a8b31_3f02_11ea_a2da_51fac7bede2frow0_col3 {\n",
       "            width:  10em;\n",
       "             height:  80%;\n",
       "            background:  linear-gradient(90deg,#E0FFE0 100.0%, transparent 100.0%);\n",
       "        }    #T_297a8b31_3f02_11ea_a2da_51fac7bede2frow0_col4 {\n",
       "            width:  10em;\n",
       "             height:  80%;\n",
       "            background:  linear-gradient(90deg,#E0FFE0 81.1%, transparent 81.1%);\n",
       "        }    #T_297a8b31_3f02_11ea_a2da_51fac7bede2frow0_col5 {\n",
       "            width:  10em;\n",
       "             height:  80%;\n",
       "            background:  linear-gradient(90deg,#E0FFE0 100.0%, transparent 100.0%);\n",
       "        }    #T_297a8b31_3f02_11ea_a2da_51fac7bede2frow1_col0 {\n",
       "            width:  10em;\n",
       "             height:  80%;\n",
       "            background:  linear-gradient(90deg,#E0FFE0 27.4%, transparent 27.4%);\n",
       "        }    #T_297a8b31_3f02_11ea_a2da_51fac7bede2frow1_col2 {\n",
       "            width:  10em;\n",
       "             height:  80%;\n",
       "            background:  linear-gradient(90deg,#E0FFE0 9.5%, transparent 9.5%);\n",
       "        }    #T_297a8b31_3f02_11ea_a2da_51fac7bede2frow1_col3 {\n",
       "            width:  10em;\n",
       "             height:  80%;\n",
       "            background:  linear-gradient(90deg,#E0FFE0 40.5%, transparent 40.5%);\n",
       "        }    #T_297a8b31_3f02_11ea_a2da_51fac7bede2frow1_col4 {\n",
       "            width:  10em;\n",
       "             height:  80%;\n",
       "            background:  linear-gradient(90deg,#E0FFE0 45.9%, transparent 45.9%);\n",
       "        }    #T_297a8b31_3f02_11ea_a2da_51fac7bede2frow1_col5 {\n",
       "            width:  10em;\n",
       "             height:  80%;\n",
       "            background:  linear-gradient(90deg,#E0FFE0 30.3%, transparent 30.3%);\n",
       "        }    #T_297a8b31_3f02_11ea_a2da_51fac7bede2frow2_col0 {\n",
       "            width:  10em;\n",
       "             height:  80%;\n",
       "            background:  linear-gradient(90deg,#E0FFE0 90.9%, transparent 90.9%);\n",
       "        }    #T_297a8b31_3f02_11ea_a2da_51fac7bede2frow2_col1 {\n",
       "            width:  10em;\n",
       "             height:  80%;\n",
       "            background:  linear-gradient(90deg,#E0FFE0 76.8%, transparent 76.8%);\n",
       "        }    #T_297a8b31_3f02_11ea_a2da_51fac7bede2frow2_col3 {\n",
       "            width:  10em;\n",
       "             height:  80%;\n",
       "            background:  linear-gradient(90deg,#E0FFE0 91.1%, transparent 91.1%);\n",
       "        }    #T_297a8b31_3f02_11ea_a2da_51fac7bede2frow2_col4 {\n",
       "            width:  10em;\n",
       "             height:  80%;\n",
       "            background:  linear-gradient(90deg,#E0FFE0 74.5%, transparent 74.5%);\n",
       "        }    #T_297a8b31_3f02_11ea_a2da_51fac7bede2frow2_col5 {\n",
       "            width:  10em;\n",
       "             height:  80%;\n",
       "            background:  linear-gradient(90deg,#E0FFE0 81.1%, transparent 81.1%);\n",
       "        }    #T_297a8b31_3f02_11ea_a2da_51fac7bede2frow3_col0 {\n",
       "            width:  10em;\n",
       "             height:  80%;\n",
       "            background:  linear-gradient(90deg,#E0FFE0 100.0%, transparent 100.0%);\n",
       "        }    #T_297a8b31_3f02_11ea_a2da_51fac7bede2frow3_col1 {\n",
       "            width:  10em;\n",
       "             height:  80%;\n",
       "            background:  linear-gradient(90deg,#E0FFE0 85.2%, transparent 85.2%);\n",
       "        }    #T_297a8b31_3f02_11ea_a2da_51fac7bede2frow3_col2 {\n",
       "            width:  10em;\n",
       "             height:  80%;\n",
       "            background:  linear-gradient(90deg,#E0FFE0 79.8%, transparent 79.8%);\n",
       "        }    #T_297a8b31_3f02_11ea_a2da_51fac7bede2frow3_col4 {\n",
       "            width:  10em;\n",
       "             height:  80%;\n",
       "            background:  linear-gradient(90deg,#E0FFE0 100.0%, transparent 100.0%);\n",
       "        }    #T_297a8b31_3f02_11ea_a2da_51fac7bede2frow3_col5 {\n",
       "            width:  10em;\n",
       "             height:  80%;\n",
       "            background:  linear-gradient(90deg,#E0FFE0 87.5%, transparent 87.5%);\n",
       "        }    #T_297a8b31_3f02_11ea_a2da_51fac7bede2frow4_col0 {\n",
       "            width:  10em;\n",
       "             height:  80%;\n",
       "            background:  linear-gradient(90deg,#E0FFE0 62.8%, transparent 62.8%);\n",
       "        }    #T_297a8b31_3f02_11ea_a2da_51fac7bede2frow4_col1 {\n",
       "            width:  10em;\n",
       "             height:  80%;\n",
       "            background:  linear-gradient(90deg,#E0FFE0 64.6%, transparent 64.6%);\n",
       "        }    #T_297a8b31_3f02_11ea_a2da_51fac7bede2frow4_col2 {\n",
       "            width:  10em;\n",
       "             height:  80%;\n",
       "            background:  linear-gradient(90deg,#E0FFE0 54.4%, transparent 54.4%);\n",
       "        }    #T_297a8b31_3f02_11ea_a2da_51fac7bede2frow4_col3 {\n",
       "            width:  10em;\n",
       "             height:  80%;\n",
       "        }    #T_297a8b31_3f02_11ea_a2da_51fac7bede2frow4_col5 {\n",
       "            width:  10em;\n",
       "             height:  80%;\n",
       "            background:  linear-gradient(90deg,#E0FFE0 37.1%, transparent 37.1%);\n",
       "        }</style><table id=\"T_297a8b31_3f02_11ea_a2da_51fac7bede2f\" ><thead>    <tr>        <th class=\"blank level0\" ></th>        <th class=\"col_heading level0 col0\" >yes.seminator#def</th>        <th class=\"col_heading level0 col1\" >yes.seminator-1-1</th>        <th class=\"col_heading level0 col2\" >yes.seminator-1-2</th>        <th class=\"col_heading level0 col3\" >yes.owl#best</th>        <th class=\"col_heading level0 col4\" >no.owl#best</th>        <th class=\"col_heading level0 col5\" >V</th>    </tr></thead><tbody>\n",
       "                <tr>\n",
       "                        <th id=\"T_297a8b31_3f02_11ea_a2da_51fac7bede2flevel0_row0\" class=\"row_heading level0 row0\" >yes.seminator#def</th>\n",
       "                        <td id=\"T_297a8b31_3f02_11ea_a2da_51fac7bede2frow0_col0\" class=\"data row0 col0\" >nan</td>\n",
       "                        <td id=\"T_297a8b31_3f02_11ea_a2da_51fac7bede2frow0_col1\" class=\"data row0 col1\" >426</td>\n",
       "                        <td id=\"T_297a8b31_3f02_11ea_a2da_51fac7bede2frow0_col2\" class=\"data row0 col2\" >252</td>\n",
       "                        <td id=\"T_297a8b31_3f02_11ea_a2da_51fac7bede2frow0_col3\" class=\"data row0 col3\" >316</td>\n",
       "                        <td id=\"T_297a8b31_3f02_11ea_a2da_51fac7bede2frow0_col4\" class=\"data row0 col4\" >394</td>\n",
       "                        <td id=\"T_297a8b31_3f02_11ea_a2da_51fac7bede2frow0_col5\" class=\"data row0 col5\" >1388</td>\n",
       "            </tr>\n",
       "            <tr>\n",
       "                        <th id=\"T_297a8b31_3f02_11ea_a2da_51fac7bede2flevel0_row1\" class=\"row_heading level0 row1\" >yes.seminator-1-1</th>\n",
       "                        <td id=\"T_297a8b31_3f02_11ea_a2da_51fac7bede2frow1_col0\" class=\"data row1 col0\" >45</td>\n",
       "                        <td id=\"T_297a8b31_3f02_11ea_a2da_51fac7bede2frow1_col1\" class=\"data row1 col1\" >nan</td>\n",
       "                        <td id=\"T_297a8b31_3f02_11ea_a2da_51fac7bede2frow1_col2\" class=\"data row1 col2\" >24</td>\n",
       "                        <td id=\"T_297a8b31_3f02_11ea_a2da_51fac7bede2frow1_col3\" class=\"data row1 col3\" >128</td>\n",
       "                        <td id=\"T_297a8b31_3f02_11ea_a2da_51fac7bede2frow1_col4\" class=\"data row1 col4\" >223</td>\n",
       "                        <td id=\"T_297a8b31_3f02_11ea_a2da_51fac7bede2frow1_col5\" class=\"data row1 col5\" >420</td>\n",
       "            </tr>\n",
       "            <tr>\n",
       "                        <th id=\"T_297a8b31_3f02_11ea_a2da_51fac7bede2flevel0_row2\" class=\"row_heading level0 row2\" >yes.seminator-1-2</th>\n",
       "                        <td id=\"T_297a8b31_3f02_11ea_a2da_51fac7bede2frow2_col0\" class=\"data row2 col0\" >149</td>\n",
       "                        <td id=\"T_297a8b31_3f02_11ea_a2da_51fac7bede2frow2_col1\" class=\"data row2 col1\" >327</td>\n",
       "                        <td id=\"T_297a8b31_3f02_11ea_a2da_51fac7bede2frow2_col2\" class=\"data row2 col2\" >nan</td>\n",
       "                        <td id=\"T_297a8b31_3f02_11ea_a2da_51fac7bede2frow2_col3\" class=\"data row2 col3\" >288</td>\n",
       "                        <td id=\"T_297a8b31_3f02_11ea_a2da_51fac7bede2frow2_col4\" class=\"data row2 col4\" >362</td>\n",
       "                        <td id=\"T_297a8b31_3f02_11ea_a2da_51fac7bede2frow2_col5\" class=\"data row2 col5\" >1126</td>\n",
       "            </tr>\n",
       "            <tr>\n",
       "                        <th id=\"T_297a8b31_3f02_11ea_a2da_51fac7bede2flevel0_row3\" class=\"row_heading level0 row3\" >yes.owl#best</th>\n",
       "                        <td id=\"T_297a8b31_3f02_11ea_a2da_51fac7bede2frow3_col0\" class=\"data row3 col0\" >164</td>\n",
       "                        <td id=\"T_297a8b31_3f02_11ea_a2da_51fac7bede2frow3_col1\" class=\"data row3 col1\" >363</td>\n",
       "                        <td id=\"T_297a8b31_3f02_11ea_a2da_51fac7bede2frow3_col2\" class=\"data row3 col2\" >201</td>\n",
       "                        <td id=\"T_297a8b31_3f02_11ea_a2da_51fac7bede2frow3_col3\" class=\"data row3 col3\" >nan</td>\n",
       "                        <td id=\"T_297a8b31_3f02_11ea_a2da_51fac7bede2frow3_col4\" class=\"data row3 col4\" >486</td>\n",
       "                        <td id=\"T_297a8b31_3f02_11ea_a2da_51fac7bede2frow3_col5\" class=\"data row3 col5\" >1214</td>\n",
       "            </tr>\n",
       "            <tr>\n",
       "                        <th id=\"T_297a8b31_3f02_11ea_a2da_51fac7bede2flevel0_row4\" class=\"row_heading level0 row4\" >no.owl#best</th>\n",
       "                        <td id=\"T_297a8b31_3f02_11ea_a2da_51fac7bede2frow4_col0\" class=\"data row4 col0\" >103</td>\n",
       "                        <td id=\"T_297a8b31_3f02_11ea_a2da_51fac7bede2frow4_col1\" class=\"data row4 col1\" >275</td>\n",
       "                        <td id=\"T_297a8b31_3f02_11ea_a2da_51fac7bede2frow4_col2\" class=\"data row4 col2\" >137</td>\n",
       "                        <td id=\"T_297a8b31_3f02_11ea_a2da_51fac7bede2frow4_col3\" class=\"data row4 col3\" >0</td>\n",
       "                        <td id=\"T_297a8b31_3f02_11ea_a2da_51fac7bede2frow4_col4\" class=\"data row4 col4\" >nan</td>\n",
       "                        <td id=\"T_297a8b31_3f02_11ea_a2da_51fac7bede2frow4_col5\" class=\"data row4 col5\" >515</td>\n",
       "            </tr>\n",
       "    </tbody></table>"
      ],
      "text/plain": [
       "<pandas.io.formats.style.Styler at 0x7f38571ec6d0>"
      ]
     },
     "metadata": {},
     "output_type": "display_data"
    }
   ],
   "source": [
    "for n, b in nd_benchmarks.items():\n",
    "    print(n)\n",
    "    display(b.cross_compare(tool_set=tool_set))"
   ]
  }
 ],
 "metadata": {
  "kernelspec": {
   "display_name": "Python 3",
   "language": "python",
   "name": "python3"
  },
  "language_info": {
   "codemirror_mode": {
    "name": "ipython",
    "version": 3
   },
   "file_extension": ".py",
   "mimetype": "text/x-python",
   "name": "python",
   "nbconvert_exporter": "python",
   "pygments_lexer": "ipython3",
   "version": "3.7.5"
  }
 },
 "nbformat": 4,
 "nbformat_minor": 4
}
