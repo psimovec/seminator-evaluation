{
 "cells": [
  {
   "cell_type": "code",
   "execution_count": 4,
   "metadata": {},
   "outputs": [],
   "source": [
    "from ltlcross_wrapper import ResAnalyzer, gather_cumulative, gather_mins"
   ]
  },
  {
   "cell_type": "code",
   "execution_count": 5,
   "metadata": {},
   "outputs": [],
   "source": [
    "nd_benchmarks = {}\n",
    "for name in [\"literature_nd\",\"random_nd\"]:\n",
    "    b = ResAnalyzer(f\"data/{name}.csv\", cols=[\"states\",\"time\",\"acc\",\"transitions\"])\n",
    "    nd_benchmarks[name] = b\n",
    "    b.compute_best([\"yes.owl#s\",\"yes.owl#a\"],\"yes.owl#best\")\n",
    "    b.compute_best([\"no.owl#s\",\"no.owl#a\"],\"no.owl#best\")"
   ]
  },
  {
   "cell_type": "markdown",
   "metadata": {},
   "source": [
    "For each benchmark, we list the cumulative numbers of states for each tool. The best value for each benchmark is highlighted by green background. The benchmarks consist of `random` formulas or formulas from `literature`. The suffix `_nd` indicates that `ltl2tgba` created automata that are not semi-deterministic.\n",
    "\n",
    "The considered tools are:\n",
    " * `owl#best` : `ltl2ldgba` from [Owl library](https://owl.model.in.tum.de/); the `#best` indicates the _best of owl_ approach where we run 2 runs of `ltl2ldgba` and choose the better result.\n",
    " * `seminator-1-1` is the last presented version of Seminator.\n",
    " * `seminator#def` is the default setting of Seminator 2.\n",
    "\n",
    "`yes` in the name of tools means that the Spot simplifications were applied on the results of the tools (were not disabled for `seminator`) and `no` the opposite. \n",
    "\n",
    "The list of tools that are displayed can be controlled in cell `[3]`. If you want to see numbers where Spot's simplifications were disabled, change the `yes` prefix to `no`. These are (always both `yes.` and `no.` versions):\n",
    "\n",
    " * Owl without the _best of Owl_ approach; you can replace `#best` with `#a` or `#s` where `#a` stands for `ltl2ldgba -a` and analogously for `#s`.\n",
    " * `seminator-1-2` which implemented the SCC-aware optimization.\n",
    " * Seminator 2 set to use only one pipe-line; you can replace `#def` with `#tgba`, `#tba`, or `#sba` to see results of `seminator --via-tgba` etc.\n",
    " \n",
    " You can display all results by changing cell `[3]` to\n",
    " ```python\n",
    " tool_set = None\n",
    " ```"
   ]
  },
  {
   "cell_type": "code",
   "execution_count": 8,
   "metadata": {},
   "outputs": [],
   "source": [
    "tool_set = [\"no.owl#best\",\"yes.owl#best\",\"yes.seminator-1-1\",\"yes.seminator#def\"]"
   ]
  },
  {
   "cell_type": "code",
   "execution_count": 13,
   "metadata": {},
   "outputs": [
    {
     "data": {
      "text/html": [
       "<style  type=\"text/css\" >\n",
       "    #T_1eda0db2_8f21_11ea_b3db_d91a692eb517row2_col0 {\n",
       "            background-color:  lightgreen;\n",
       "        }    #T_1eda0db2_8f21_11ea_b3db_d91a692eb517row2_col1 {\n",
       "            background-color:  lightgreen;\n",
       "        }</style><table id=\"T_1eda0db2_8f21_11ea_b3db_d91a692eb517\" ><thead>    <tr>        <th class=\"blank level0\" ></th>        <th class=\"col_heading level0 col0\" >literature_nd</th>        <th class=\"col_heading level0 col1\" >random_nd</th>    </tr>    <tr>        <th class=\"index_name level0\" >tool</th>        <th class=\"blank\" ></th>        <th class=\"blank\" ></th>    </tr></thead><tbody>\n",
       "                <tr>\n",
       "                        <th id=\"T_1eda0db2_8f21_11ea_b3db_d91a692eb517level0_row0\" class=\"row_heading level0 row0\" >no.owl#best</th>\n",
       "                        <td id=\"T_1eda0db2_8f21_11ea_b3db_d91a692eb517row0_col0\" class=\"data row0 col0\" >281</td>\n",
       "                        <td id=\"T_1eda0db2_8f21_11ea_b3db_d91a692eb517row0_col1\" class=\"data row0 col1\" >5041</td>\n",
       "            </tr>\n",
       "            <tr>\n",
       "                        <th id=\"T_1eda0db2_8f21_11ea_b3db_d91a692eb517level0_row1\" class=\"row_heading level0 row1\" >yes.owl#best</th>\n",
       "                        <td id=\"T_1eda0db2_8f21_11ea_b3db_d91a692eb517row1_col0\" class=\"data row1 col0\" >234</td>\n",
       "                        <td id=\"T_1eda0db2_8f21_11ea_b3db_d91a692eb517row1_col1\" class=\"data row1 col1\" >4153</td>\n",
       "            </tr>\n",
       "            <tr>\n",
       "                        <th id=\"T_1eda0db2_8f21_11ea_b3db_d91a692eb517level0_row2\" class=\"row_heading level0 row2\" >yes.seminator#def</th>\n",
       "                        <td id=\"T_1eda0db2_8f21_11ea_b3db_d91a692eb517row2_col0\" class=\"data row2 col0\" >230</td>\n",
       "                        <td id=\"T_1eda0db2_8f21_11ea_b3db_d91a692eb517row2_col1\" class=\"data row2 col1\" >3956</td>\n",
       "            </tr>\n",
       "            <tr>\n",
       "                        <th id=\"T_1eda0db2_8f21_11ea_b3db_d91a692eb517level0_row3\" class=\"row_heading level0 row3\" >yes.seminator-1-1</th>\n",
       "                        <td id=\"T_1eda0db2_8f21_11ea_b3db_d91a692eb517row3_col0\" class=\"data row3 col0\" >297</td>\n",
       "                        <td id=\"T_1eda0db2_8f21_11ea_b3db_d91a692eb517row3_col1\" class=\"data row3 col1\" >7020</td>\n",
       "            </tr>\n",
       "    </tbody></table>"
      ],
      "text/plain": [
       "<pandas.io.formats.style.Styler at 0x7f67267c91d0>"
      ]
     },
     "execution_count": 13,
     "metadata": {},
     "output_type": "execute_result"
    }
   ],
   "source": [
    "gather_cumulative(nd_benchmarks, tool_set=tool_set)"
   ]
  },
  {
   "cell_type": "markdown",
   "metadata": {},
   "source": [
    "### Minimal automata\n",
    "\n",
    "The following table shows for how many formulas each tool produces automaton that has the smallest number of states. The minimum ranges over the considered tools. The number in min hits shows how many times the same size as the smallest automaton was achieved. The number in unique min hits counts only cases where the given tool is the only tool with such a small automaton."
   ]
  },
  {
   "cell_type": "code",
   "execution_count": 14,
   "metadata": {},
   "outputs": [
    {
     "data": {
      "text/html": [
       "<style  type=\"text/css\" >\n",
       "    #T_1eda0db3_8f21_11ea_b3db_d91a692eb517row2_col0 {\n",
       "            background-color:  lightgreen;\n",
       "        }    #T_1eda0db3_8f21_11ea_b3db_d91a692eb517row2_col1 {\n",
       "            background-color:  lightgreen;\n",
       "        }    #T_1eda0db3_8f21_11ea_b3db_d91a692eb517row2_col2 {\n",
       "            background-color:  lightgreen;\n",
       "        }    #T_1eda0db3_8f21_11ea_b3db_d91a692eb517row2_col3 {\n",
       "            background-color:  lightgreen;\n",
       "        }</style><table id=\"T_1eda0db3_8f21_11ea_b3db_d91a692eb517\" ><thead>    <tr>        <th class=\"blank level0\" ></th>        <th class=\"col_heading level0 col0\" colspan=2>literature_nd</th>        <th class=\"col_heading level0 col2\" colspan=2>random_nd</th>    </tr>    <tr>        <th class=\"blank level1\" ></th>        <th class=\"col_heading level1 col0\" >unique min hits</th>        <th class=\"col_heading level1 col1\" >min hits</th>        <th class=\"col_heading level1 col2\" >unique min hits</th>        <th class=\"col_heading level1 col3\" >min hits</th>    </tr>    <tr>        <th class=\"index_name level0\" >tool</th>        <th class=\"blank\" ></th>        <th class=\"blank\" ></th>        <th class=\"blank\" ></th>        <th class=\"blank\" ></th>    </tr></thead><tbody>\n",
       "                <tr>\n",
       "                        <th id=\"T_1eda0db3_8f21_11ea_b3db_d91a692eb517level0_row0\" class=\"row_heading level0 row0\" >no.owl#best</th>\n",
       "                        <td id=\"T_1eda0db3_8f21_11ea_b3db_d91a692eb517row0_col0\" class=\"data row0 col0\" >0</td>\n",
       "                        <td id=\"T_1eda0db3_8f21_11ea_b3db_d91a692eb517row0_col1\" class=\"data row0 col1\" >6</td>\n",
       "                        <td id=\"T_1eda0db3_8f21_11ea_b3db_d91a692eb517row0_col2\" class=\"data row0 col2\" >0</td>\n",
       "                        <td id=\"T_1eda0db3_8f21_11ea_b3db_d91a692eb517row0_col3\" class=\"data row0 col3\" >144</td>\n",
       "            </tr>\n",
       "            <tr>\n",
       "                        <th id=\"T_1eda0db3_8f21_11ea_b3db_d91a692eb517level0_row1\" class=\"row_heading level0 row1\" >yes.owl#best</th>\n",
       "                        <td id=\"T_1eda0db3_8f21_11ea_b3db_d91a692eb517row1_col0\" class=\"data row1 col0\" >2</td>\n",
       "                        <td id=\"T_1eda0db3_8f21_11ea_b3db_d91a692eb517row1_col1\" class=\"data row1 col1\" >11</td>\n",
       "                        <td id=\"T_1eda0db3_8f21_11ea_b3db_d91a692eb517row1_col2\" class=\"data row1 col2\" >62</td>\n",
       "                        <td id=\"T_1eda0db3_8f21_11ea_b3db_d91a692eb517row1_col3\" class=\"data row1 col3\" >268</td>\n",
       "            </tr>\n",
       "            <tr>\n",
       "                        <th id=\"T_1eda0db3_8f21_11ea_b3db_d91a692eb517level0_row2\" class=\"row_heading level0 row2\" >yes.seminator#def</th>\n",
       "                        <td id=\"T_1eda0db3_8f21_11ea_b3db_d91a692eb517row2_col0\" class=\"data row2 col0\" >6</td>\n",
       "                        <td id=\"T_1eda0db3_8f21_11ea_b3db_d91a692eb517row2_col1\" class=\"data row2 col1\" >16</td>\n",
       "                        <td id=\"T_1eda0db3_8f21_11ea_b3db_d91a692eb517row2_col2\" class=\"data row2 col2\" >211</td>\n",
       "                        <td id=\"T_1eda0db3_8f21_11ea_b3db_d91a692eb517row2_col3\" class=\"data row2 col3\" >356</td>\n",
       "            </tr>\n",
       "            <tr>\n",
       "                        <th id=\"T_1eda0db3_8f21_11ea_b3db_d91a692eb517level0_row3\" class=\"row_heading level0 row3\" >yes.seminator-1-1</th>\n",
       "                        <td id=\"T_1eda0db3_8f21_11ea_b3db_d91a692eb517row3_col0\" class=\"data row3 col0\" >0</td>\n",
       "                        <td id=\"T_1eda0db3_8f21_11ea_b3db_d91a692eb517row3_col1\" class=\"data row3 col1\" >7</td>\n",
       "                        <td id=\"T_1eda0db3_8f21_11ea_b3db_d91a692eb517row3_col2\" class=\"data row3 col2\" >5</td>\n",
       "                        <td id=\"T_1eda0db3_8f21_11ea_b3db_d91a692eb517row3_col3\" class=\"data row3 col3\" >60</td>\n",
       "            </tr>\n",
       "    </tbody></table>"
      ],
      "text/plain": [
       "<pandas.io.formats.style.Styler at 0x7f67267e5590>"
      ]
     },
     "execution_count": 14,
     "metadata": {},
     "output_type": "execute_result"
    }
   ],
   "source": [
    "gather_mins(nd_benchmarks, tool_set=tool_set)"
   ]
  },
  {
   "cell_type": "markdown",
   "metadata": {},
   "source": [
    "### Running times and timeouts\n",
    "The older versions of Seminator reached the 30s timeout in one case for formulae from literature. Otherwise, most of the execution times were below 1s for all tools."
   ]
  },
  {
   "cell_type": "code",
   "execution_count": 15,
   "metadata": {},
   "outputs": [
    {
     "name": "stdout",
     "output_type": "stream",
     "text": [
      "literature_nd\n"
     ]
    },
    {
     "data": {
      "text/html": [
       "<div>\n",
       "<style scoped>\n",
       "    .dataframe tbody tr th:only-of-type {\n",
       "        vertical-align: middle;\n",
       "    }\n",
       "\n",
       "    .dataframe tbody tr th {\n",
       "        vertical-align: top;\n",
       "    }\n",
       "\n",
       "    .dataframe thead th {\n",
       "        text-align: right;\n",
       "    }\n",
       "</style>\n",
       "<table border=\"1\" class=\"dataframe\">\n",
       "  <thead>\n",
       "    <tr style=\"text-align: right;\">\n",
       "      <th></th>\n",
       "      <th>timeout</th>\n",
       "      <th>parse error</th>\n",
       "      <th>incorrect</th>\n",
       "      <th>crash</th>\n",
       "      <th>no output</th>\n",
       "    </tr>\n",
       "  </thead>\n",
       "  <tbody>\n",
       "    <tr>\n",
       "      <td>yes.seminator-1-1</td>\n",
       "      <td>1</td>\n",
       "      <td>0</td>\n",
       "      <td>0</td>\n",
       "      <td>0</td>\n",
       "      <td>0</td>\n",
       "    </tr>\n",
       "    <tr>\n",
       "      <td>yes.seminator-1-2</td>\n",
       "      <td>1</td>\n",
       "      <td>0</td>\n",
       "      <td>0</td>\n",
       "      <td>0</td>\n",
       "      <td>0</td>\n",
       "    </tr>\n",
       "  </tbody>\n",
       "</table>\n",
       "</div>"
      ],
      "text/plain": [
       "                   timeout  parse error  incorrect  crash  no output\n",
       "yes.seminator-1-1        1            0          0      0          0\n",
       "yes.seminator-1-2        1            0          0      0          0"
      ]
     },
     "metadata": {},
     "output_type": "display_data"
    },
    {
     "data": {
      "text/plain": [
       "tool\n",
       "no.owl#best           0.297720\n",
       "yes.owl#best          0.505438\n",
       "yes.seminator-1-1    30.017600\n",
       "yes.seminator#def     0.197490\n",
       "dtype: float64"
      ]
     },
     "metadata": {},
     "output_type": "display_data"
    },
    {
     "name": "stdout",
     "output_type": "stream",
     "text": [
      "random_nd\n"
     ]
    },
    {
     "data": {
      "text/html": [
       "<div>\n",
       "<style scoped>\n",
       "    .dataframe tbody tr th:only-of-type {\n",
       "        vertical-align: middle;\n",
       "    }\n",
       "\n",
       "    .dataframe tbody tr th {\n",
       "        vertical-align: top;\n",
       "    }\n",
       "\n",
       "    .dataframe thead th {\n",
       "        text-align: right;\n",
       "    }\n",
       "</style>\n",
       "<table border=\"1\" class=\"dataframe\">\n",
       "  <thead>\n",
       "    <tr style=\"text-align: right;\">\n",
       "      <th></th>\n",
       "      <th>timeout</th>\n",
       "      <th>parse error</th>\n",
       "      <th>incorrect</th>\n",
       "      <th>crash</th>\n",
       "      <th>no output</th>\n",
       "    </tr>\n",
       "    <tr>\n",
       "      <th>tool</th>\n",
       "      <th></th>\n",
       "      <th></th>\n",
       "      <th></th>\n",
       "      <th></th>\n",
       "      <th></th>\n",
       "    </tr>\n",
       "  </thead>\n",
       "  <tbody>\n",
       "  </tbody>\n",
       "</table>\n",
       "</div>"
      ],
      "text/plain": [
       "Empty DataFrame\n",
       "Columns: [timeout, parse error, incorrect, crash, no output]\n",
       "Index: []"
      ]
     },
     "metadata": {},
     "output_type": "display_data"
    },
    {
     "data": {
      "text/plain": [
       "tool\n",
       "no.owl#best          0.334122\n",
       "yes.owl#best         0.401850\n",
       "yes.seminator-1-1    7.845140\n",
       "yes.seminator#def    0.418309\n",
       "dtype: float64"
      ]
     },
     "metadata": {},
     "output_type": "display_data"
    }
   ],
   "source": [
    "for name, b in nd_benchmarks.items():\n",
    "    print(name)\n",
    "    display(b.get_error_counts())\n",
    "    display(b.values.time.max().loc[tool_set])"
   ]
  },
  {
   "cell_type": "markdown",
   "metadata": {},
   "source": [
    "### Scatter plots\n",
    "We offer 2 interactive scatter plots that show how Seminator 2 compares to Owl (In[10]), and Seminator 1.2 (In[11])."
   ]
  },
  {
   "cell_type": "code",
   "execution_count": 16,
   "metadata": {},
   "outputs": [
    {
     "data": {
      "text/plain": [
       "<seaborn.axisgrid.FacetGrid at 0x7f67264fa050>"
      ]
     },
     "execution_count": 16,
     "metadata": {},
     "output_type": "execute_result"
    },
    {
     "data": {
      "image/png": "[encoded data removed]",
      "text/plain": [
       "<Figure size 430.725x360 with 1 Axes>"
      ]
     },
     "metadata": {
      "needs_background": "light"
     },
     "output_type": "display_data"
    }
   ],
   "source": [
    "b = nd_benchmarks[\"random_nd\"]\n",
    "b.seaborn_scatter_plot(\"yes.owl#best\",\"yes.seminator#def\", include_equal=True)"
   ]
  },
  {
   "cell_type": "code",
   "execution_count": 17,
   "metadata": {},
   "outputs": [
    {
     "data": {
      "text/plain": [
       "<seaborn.axisgrid.FacetGrid at 0x7f67264a61d0>"
      ]
     },
     "execution_count": 17,
     "metadata": {},
     "output_type": "execute_result"
    },
    {
     "data": {
      "image/png": "[encoded data removed]",
      "text/plain": [
       "<Figure size 430.725x360 with 1 Axes>"
      ]
     },
     "metadata": {
      "needs_background": "light"
     },
     "output_type": "display_data"
    }
   ],
   "source": [
    "b = nd_benchmarks[\"random_nd\"]\n",
    "b.seaborn_scatter_plot(\"no.owl#best\",\"yes.seminator#def\", include_equal=True)"
   ]
  },
  {
   "cell_type": "code",
   "execution_count": 18,
   "metadata": {},
   "outputs": [
    {
     "data": {
      "text/plain": [
       "<seaborn.axisgrid.FacetGrid at 0x7f6726477350>"
      ]
     },
     "execution_count": 18,
     "metadata": {},
     "output_type": "execute_result"
    },
    {
     "data": {
      "image/png": "[encoded data removed]",
      "text/plain": [
       "<Figure size 430.725x360 with 1 Axes>"
      ]
     },
     "metadata": {
      "needs_background": "light"
     },
     "output_type": "display_data"
    }
   ],
   "source": [
    "b.seaborn_scatter_plot(\"yes.seminator-1-2\",\"yes.seminator#def\", include_equal=True)"
   ]
  },
  {
   "cell_type": "markdown",
   "metadata": {},
   "source": [
    "### Cross-comparison\n",
    "The cross-comparison for a benchmark shows, in a cell (`row`,`column`) in how many cases the tool in `row` produces automaton that is better thatn the one produced by `column`. The last columns (`V`) summs the numbers across rows, while the green highlighting fill a space that is proportional to how well the tool in `row` competed agains `column` (proportional across columns)."
   ]
  },
  {
   "cell_type": "code",
   "execution_count": 19,
   "metadata": {},
   "outputs": [
    {
     "name": "stdout",
     "output_type": "stream",
     "text": [
      "literature_nd\n"
     ]
    },
    {
     "data": {
      "text/html": [
       "<style  type=\"text/css\" >\n",
       "    #T_2a6d0d82_8f21_11ea_b3db_d91a692eb517row0_col1 {\n",
       "            width:  10em;\n",
       "             height:  80%;\n",
       "        }    #T_2a6d0d82_8f21_11ea_b3db_d91a692eb517row0_col2 {\n",
       "            width:  10em;\n",
       "             height:  80%;\n",
       "            background:  linear-gradient(90deg,#E0FFE0 43.7%, transparent 43.7%);\n",
       "        }    #T_2a6d0d82_8f21_11ea_b3db_d91a692eb517row0_col3 {\n",
       "            width:  10em;\n",
       "             height:  80%;\n",
       "            background:  linear-gradient(90deg,#E0FFE0 50.0%, transparent 50.0%);\n",
       "        }    #T_2a6d0d82_8f21_11ea_b3db_d91a692eb517row0_col4 {\n",
       "            width:  10em;\n",
       "             height:  80%;\n",
       "            background:  linear-gradient(90deg,#E0FFE0 25.0%, transparent 25.0%);\n",
       "        }    #T_2a6d0d82_8f21_11ea_b3db_d91a692eb517row1_col0 {\n",
       "            width:  10em;\n",
       "             height:  80%;\n",
       "            background:  linear-gradient(90deg,#E0FFE0 100.0%, transparent 100.0%);\n",
       "        }    #T_2a6d0d82_8f21_11ea_b3db_d91a692eb517row1_col2 {\n",
       "            width:  10em;\n",
       "             height:  80%;\n",
       "            background:  linear-gradient(90deg,#E0FFE0 100.0%, transparent 100.0%);\n",
       "        }    #T_2a6d0d82_8f21_11ea_b3db_d91a692eb517row1_col3 {\n",
       "            width:  10em;\n",
       "             height:  80%;\n",
       "            background:  linear-gradient(90deg,#E0FFE0 100.0%, transparent 100.0%);\n",
       "        }    #T_2a6d0d82_8f21_11ea_b3db_d91a692eb517row1_col4 {\n",
       "            width:  10em;\n",
       "             height:  80%;\n",
       "            background:  linear-gradient(90deg,#E0FFE0 100.0%, transparent 100.0%);\n",
       "        }    #T_2a6d0d82_8f21_11ea_b3db_d91a692eb517row2_col0 {\n",
       "            width:  10em;\n",
       "             height:  80%;\n",
       "            background:  linear-gradient(90deg,#E0FFE0 65.0%, transparent 65.0%);\n",
       "        }    #T_2a6d0d82_8f21_11ea_b3db_d91a692eb517row2_col1 {\n",
       "            width:  10em;\n",
       "             height:  80%;\n",
       "            background:  linear-gradient(90deg,#E0FFE0 25.0%, transparent 25.0%);\n",
       "        }    #T_2a6d0d82_8f21_11ea_b3db_d91a692eb517row2_col3 {\n",
       "            width:  10em;\n",
       "             height:  80%;\n",
       "            background:  linear-gradient(90deg,#E0FFE0 87.5%, transparent 87.5%);\n",
       "        }    #T_2a6d0d82_8f21_11ea_b3db_d91a692eb517row2_col4 {\n",
       "            width:  10em;\n",
       "             height:  80%;\n",
       "            background:  linear-gradient(90deg,#E0FFE0 52.3%, transparent 52.3%);\n",
       "        }    #T_2a6d0d82_8f21_11ea_b3db_d91a692eb517row3_col0 {\n",
       "            width:  10em;\n",
       "             height:  80%;\n",
       "            background:  linear-gradient(90deg,#E0FFE0 80.0%, transparent 80.0%);\n",
       "        }    #T_2a6d0d82_8f21_11ea_b3db_d91a692eb517row3_col1 {\n",
       "            width:  10em;\n",
       "             height:  80%;\n",
       "            background:  linear-gradient(90deg,#E0FFE0 100.0%, transparent 100.0%);\n",
       "        }    #T_2a6d0d82_8f21_11ea_b3db_d91a692eb517row3_col2 {\n",
       "            width:  10em;\n",
       "             height:  80%;\n",
       "            background:  linear-gradient(90deg,#E0FFE0 75.0%, transparent 75.0%);\n",
       "        }    #T_2a6d0d82_8f21_11ea_b3db_d91a692eb517row3_col4 {\n",
       "            width:  10em;\n",
       "             height:  80%;\n",
       "            background:  linear-gradient(90deg,#E0FFE0 90.9%, transparent 90.9%);\n",
       "        }</style><table id=\"T_2a6d0d82_8f21_11ea_b3db_d91a692eb517\" ><thead>    <tr>        <th class=\"blank level0\" ></th>        <th class=\"col_heading level0 col0\" >no.owl#best</th>        <th class=\"col_heading level0 col1\" >yes.owl#best</th>        <th class=\"col_heading level0 col2\" >yes.seminator-1-1</th>        <th class=\"col_heading level0 col3\" >yes.seminator#def</th>        <th class=\"col_heading level0 col4\" >V</th>    </tr></thead><tbody>\n",
       "                <tr>\n",
       "                        <th id=\"T_2a6d0d82_8f21_11ea_b3db_d91a692eb517level0_row0\" class=\"row_heading level0 row0\" >no.owl#best</th>\n",
       "                        <td id=\"T_2a6d0d82_8f21_11ea_b3db_d91a692eb517row0_col0\" class=\"data row0 col0\" >nan</td>\n",
       "                        <td id=\"T_2a6d0d82_8f21_11ea_b3db_d91a692eb517row0_col1\" class=\"data row0 col1\" >0</td>\n",
       "                        <td id=\"T_2a6d0d82_8f21_11ea_b3db_d91a692eb517row0_col2\" class=\"data row0 col2\" >7</td>\n",
       "                        <td id=\"T_2a6d0d82_8f21_11ea_b3db_d91a692eb517row0_col3\" class=\"data row0 col3\" >4</td>\n",
       "                        <td id=\"T_2a6d0d82_8f21_11ea_b3db_d91a692eb517row0_col4\" class=\"data row0 col4\" >11</td>\n",
       "            </tr>\n",
       "            <tr>\n",
       "                        <th id=\"T_2a6d0d82_8f21_11ea_b3db_d91a692eb517level0_row1\" class=\"row_heading level0 row1\" >yes.owl#best</th>\n",
       "                        <td id=\"T_2a6d0d82_8f21_11ea_b3db_d91a692eb517row1_col0\" class=\"data row1 col0\" >20</td>\n",
       "                        <td id=\"T_2a6d0d82_8f21_11ea_b3db_d91a692eb517row1_col1\" class=\"data row1 col1\" >nan</td>\n",
       "                        <td id=\"T_2a6d0d82_8f21_11ea_b3db_d91a692eb517row1_col2\" class=\"data row1 col2\" >16</td>\n",
       "                        <td id=\"T_2a6d0d82_8f21_11ea_b3db_d91a692eb517row1_col3\" class=\"data row1 col3\" >8</td>\n",
       "                        <td id=\"T_2a6d0d82_8f21_11ea_b3db_d91a692eb517row1_col4\" class=\"data row1 col4\" >44</td>\n",
       "            </tr>\n",
       "            <tr>\n",
       "                        <th id=\"T_2a6d0d82_8f21_11ea_b3db_d91a692eb517level0_row2\" class=\"row_heading level0 row2\" >yes.seminator-1-1</th>\n",
       "                        <td id=\"T_2a6d0d82_8f21_11ea_b3db_d91a692eb517row2_col0\" class=\"data row2 col0\" >13</td>\n",
       "                        <td id=\"T_2a6d0d82_8f21_11ea_b3db_d91a692eb517row2_col1\" class=\"data row2 col1\" >3</td>\n",
       "                        <td id=\"T_2a6d0d82_8f21_11ea_b3db_d91a692eb517row2_col2\" class=\"data row2 col2\" >nan</td>\n",
       "                        <td id=\"T_2a6d0d82_8f21_11ea_b3db_d91a692eb517row2_col3\" class=\"data row2 col3\" >7</td>\n",
       "                        <td id=\"T_2a6d0d82_8f21_11ea_b3db_d91a692eb517row2_col4\" class=\"data row2 col4\" >23</td>\n",
       "            </tr>\n",
       "            <tr>\n",
       "                        <th id=\"T_2a6d0d82_8f21_11ea_b3db_d91a692eb517level0_row3\" class=\"row_heading level0 row3\" >yes.seminator#def</th>\n",
       "                        <td id=\"T_2a6d0d82_8f21_11ea_b3db_d91a692eb517row3_col0\" class=\"data row3 col0\" >16</td>\n",
       "                        <td id=\"T_2a6d0d82_8f21_11ea_b3db_d91a692eb517row3_col1\" class=\"data row3 col1\" >12</td>\n",
       "                        <td id=\"T_2a6d0d82_8f21_11ea_b3db_d91a692eb517row3_col2\" class=\"data row3 col2\" >12</td>\n",
       "                        <td id=\"T_2a6d0d82_8f21_11ea_b3db_d91a692eb517row3_col3\" class=\"data row3 col3\" >nan</td>\n",
       "                        <td id=\"T_2a6d0d82_8f21_11ea_b3db_d91a692eb517row3_col4\" class=\"data row3 col4\" >40</td>\n",
       "            </tr>\n",
       "    </tbody></table>"
      ],
      "text/plain": [
       "<pandas.io.formats.style.Styler at 0x7f67273a2cd0>"
      ]
     },
     "metadata": {},
     "output_type": "display_data"
    },
    {
     "name": "stdout",
     "output_type": "stream",
     "text": [
      "random_nd\n"
     ]
    },
    {
     "data": {
      "text/html": [
       "<style  type=\"text/css\" >\n",
       "    #T_2a6d0d83_8f21_11ea_b3db_d91a692eb517row0_col1 {\n",
       "            width:  10em;\n",
       "             height:  80%;\n",
       "        }    #T_2a6d0d83_8f21_11ea_b3db_d91a692eb517row0_col2 {\n",
       "            width:  10em;\n",
       "             height:  80%;\n",
       "            background:  linear-gradient(90deg,#E0FFE0 64.8%, transparent 64.8%);\n",
       "        }    #T_2a6d0d83_8f21_11ea_b3db_d91a692eb517row0_col3 {\n",
       "            width:  10em;\n",
       "             height:  80%;\n",
       "            background:  linear-gradient(90deg,#E0FFE0 62.4%, transparent 62.4%);\n",
       "        }    #T_2a6d0d83_8f21_11ea_b3db_d91a692eb517row0_col4 {\n",
       "            width:  10em;\n",
       "             height:  80%;\n",
       "            background:  linear-gradient(90deg,#E0FFE0 33.4%, transparent 33.4%);\n",
       "        }    #T_2a6d0d83_8f21_11ea_b3db_d91a692eb517row1_col0 {\n",
       "            width:  10em;\n",
       "             height:  80%;\n",
       "            background:  linear-gradient(90deg,#E0FFE0 100.0%, transparent 100.0%);\n",
       "        }    #T_2a6d0d83_8f21_11ea_b3db_d91a692eb517row1_col2 {\n",
       "            width:  10em;\n",
       "             height:  80%;\n",
       "            background:  linear-gradient(90deg,#E0FFE0 85.2%, transparent 85.2%);\n",
       "        }    #T_2a6d0d83_8f21_11ea_b3db_d91a692eb517row1_col3 {\n",
       "            width:  10em;\n",
       "             height:  80%;\n",
       "            background:  linear-gradient(90deg,#E0FFE0 100.0%, transparent 100.0%);\n",
       "        }    #T_2a6d0d83_8f21_11ea_b3db_d91a692eb517row1_col4 {\n",
       "            width:  10em;\n",
       "             height:  80%;\n",
       "            background:  linear-gradient(90deg,#E0FFE0 89.3%, transparent 89.3%);\n",
       "        }    #T_2a6d0d83_8f21_11ea_b3db_d91a692eb517row2_col0 {\n",
       "            width:  10em;\n",
       "             height:  80%;\n",
       "            background:  linear-gradient(90deg,#E0FFE0 45.7%, transparent 45.7%);\n",
       "        }    #T_2a6d0d83_8f21_11ea_b3db_d91a692eb517row2_col1 {\n",
       "            width:  10em;\n",
       "             height:  80%;\n",
       "            background:  linear-gradient(90deg,#E0FFE0 40.6%, transparent 40.6%);\n",
       "        }    #T_2a6d0d83_8f21_11ea_b3db_d91a692eb517row2_col3 {\n",
       "            width:  10em;\n",
       "             height:  80%;\n",
       "            background:  linear-gradient(90deg,#E0FFE0 27.3%, transparent 27.3%);\n",
       "        }    #T_2a6d0d83_8f21_11ea_b3db_d91a692eb517row2_col4 {\n",
       "            width:  10em;\n",
       "             height:  80%;\n",
       "            background:  linear-gradient(90deg,#E0FFE0 34.8%, transparent 34.8%);\n",
       "        }    #T_2a6d0d83_8f21_11ea_b3db_d91a692eb517row3_col0 {\n",
       "            width:  10em;\n",
       "             height:  80%;\n",
       "            background:  linear-gradient(90deg,#E0FFE0 81.1%, transparent 81.1%);\n",
       "        }    #T_2a6d0d83_8f21_11ea_b3db_d91a692eb517row3_col1 {\n",
       "            width:  10em;\n",
       "             height:  80%;\n",
       "            background:  linear-gradient(90deg,#E0FFE0 100.0%, transparent 100.0%);\n",
       "        }    #T_2a6d0d83_8f21_11ea_b3db_d91a692eb517row3_col2 {\n",
       "            width:  10em;\n",
       "             height:  80%;\n",
       "            background:  linear-gradient(90deg,#E0FFE0 100.0%, transparent 100.0%);\n",
       "        }    #T_2a6d0d83_8f21_11ea_b3db_d91a692eb517row3_col4 {\n",
       "            width:  10em;\n",
       "             height:  80%;\n",
       "            background:  linear-gradient(90deg,#E0FFE0 100.0%, transparent 100.0%);\n",
       "        }</style><table id=\"T_2a6d0d83_8f21_11ea_b3db_d91a692eb517\" ><thead>    <tr>        <th class=\"blank level0\" ></th>        <th class=\"col_heading level0 col0\" >no.owl#best</th>        <th class=\"col_heading level0 col1\" >yes.owl#best</th>        <th class=\"col_heading level0 col2\" >yes.seminator-1-1</th>        <th class=\"col_heading level0 col3\" >yes.seminator#def</th>        <th class=\"col_heading level0 col4\" >V</th>    </tr></thead><tbody>\n",
       "                <tr>\n",
       "                        <th id=\"T_2a6d0d83_8f21_11ea_b3db_d91a692eb517level0_row0\" class=\"row_heading level0 row0\" >no.owl#best</th>\n",
       "                        <td id=\"T_2a6d0d83_8f21_11ea_b3db_d91a692eb517row0_col0\" class=\"data row0 col0\" >nan</td>\n",
       "                        <td id=\"T_2a6d0d83_8f21_11ea_b3db_d91a692eb517row0_col1\" class=\"data row0 col1\" >0</td>\n",
       "                        <td id=\"T_2a6d0d83_8f21_11ea_b3db_d91a692eb517row0_col2\" class=\"data row0 col2\" >276</td>\n",
       "                        <td id=\"T_2a6d0d83_8f21_11ea_b3db_d91a692eb517row0_col3\" class=\"data row0 col3\" >103</td>\n",
       "                        <td id=\"T_2a6d0d83_8f21_11ea_b3db_d91a692eb517row0_col4\" class=\"data row0 col4\" >379</td>\n",
       "            </tr>\n",
       "            <tr>\n",
       "                        <th id=\"T_2a6d0d83_8f21_11ea_b3db_d91a692eb517level0_row1\" class=\"row_heading level0 row1\" >yes.owl#best</th>\n",
       "                        <td id=\"T_2a6d0d83_8f21_11ea_b3db_d91a692eb517row1_col0\" class=\"data row1 col0\" >486</td>\n",
       "                        <td id=\"T_2a6d0d83_8f21_11ea_b3db_d91a692eb517row1_col1\" class=\"data row1 col1\" >nan</td>\n",
       "                        <td id=\"T_2a6d0d83_8f21_11ea_b3db_d91a692eb517row1_col2\" class=\"data row1 col2\" >363</td>\n",
       "                        <td id=\"T_2a6d0d83_8f21_11ea_b3db_d91a692eb517row1_col3\" class=\"data row1 col3\" >165</td>\n",
       "                        <td id=\"T_2a6d0d83_8f21_11ea_b3db_d91a692eb517row1_col4\" class=\"data row1 col4\" >1014</td>\n",
       "            </tr>\n",
       "            <tr>\n",
       "                        <th id=\"T_2a6d0d83_8f21_11ea_b3db_d91a692eb517level0_row2\" class=\"row_heading level0 row2\" >yes.seminator-1-1</th>\n",
       "                        <td id=\"T_2a6d0d83_8f21_11ea_b3db_d91a692eb517row2_col0\" class=\"data row2 col0\" >222</td>\n",
       "                        <td id=\"T_2a6d0d83_8f21_11ea_b3db_d91a692eb517row2_col1\" class=\"data row2 col1\" >128</td>\n",
       "                        <td id=\"T_2a6d0d83_8f21_11ea_b3db_d91a692eb517row2_col2\" class=\"data row2 col2\" >nan</td>\n",
       "                        <td id=\"T_2a6d0d83_8f21_11ea_b3db_d91a692eb517row2_col3\" class=\"data row2 col3\" >45</td>\n",
       "                        <td id=\"T_2a6d0d83_8f21_11ea_b3db_d91a692eb517row2_col4\" class=\"data row2 col4\" >395</td>\n",
       "            </tr>\n",
       "            <tr>\n",
       "                        <th id=\"T_2a6d0d83_8f21_11ea_b3db_d91a692eb517level0_row3\" class=\"row_heading level0 row3\" >yes.seminator#def</th>\n",
       "                        <td id=\"T_2a6d0d83_8f21_11ea_b3db_d91a692eb517row3_col0\" class=\"data row3 col0\" >394</td>\n",
       "                        <td id=\"T_2a6d0d83_8f21_11ea_b3db_d91a692eb517row3_col1\" class=\"data row3 col1\" >315</td>\n",
       "                        <td id=\"T_2a6d0d83_8f21_11ea_b3db_d91a692eb517row3_col2\" class=\"data row3 col2\" >426</td>\n",
       "                        <td id=\"T_2a6d0d83_8f21_11ea_b3db_d91a692eb517row3_col3\" class=\"data row3 col3\" >nan</td>\n",
       "                        <td id=\"T_2a6d0d83_8f21_11ea_b3db_d91a692eb517row3_col4\" class=\"data row3 col4\" >1135</td>\n",
       "            </tr>\n",
       "    </tbody></table>"
      ],
      "text/plain": [
       "<pandas.io.formats.style.Styler at 0x7f6726500150>"
      ]
     },
     "metadata": {},
     "output_type": "display_data"
    }
   ],
   "source": [
    "for n, b in nd_benchmarks.items():\n",
    "    print(n)\n",
    "    display(b.cross_compare(tool_set=tool_set))"
   ]
  }
 ],
 "metadata": {
  "kernelspec": {
   "display_name": "Python 3",
   "language": "python",
   "name": "python3"
  },
  "language_info": {
   "codemirror_mode": {
    "name": "ipython",
    "version": 3
   },
   "file_extension": ".py",
   "mimetype": "text/x-python",
   "name": "python",
   "nbconvert_exporter": "python",
   "pygments_lexer": "ipython3",
   "version": "3.7.5"
  }
 },
 "nbformat": 4,
 "nbformat_minor": 4
}
