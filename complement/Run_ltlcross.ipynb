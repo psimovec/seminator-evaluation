{
 "cells": [
  {
   "cell_type": "code",
   "execution_count": 1,
   "metadata": {},
   "outputs": [],
   "source": [
    "from ltlcross_wrapper import Modulizer, GoalModulizer, ResAnalyzer\n",
    "import pandas as pd"
   ]
  },
  {
   "cell_type": "code",
   "execution_count": 2,
   "metadata": {},
   "outputs": [],
   "source": [
    "from tools import tools, benchmark_names, goal_root"
   ]
  },
  {
   "cell_type": "raw",
   "metadata": {},
   "source": [
    "names = benchmark_names\n",
    "for name in names:\n",
    "    m = GoalModulizer(goal_root=goal_root, tools=tools, formula_file=f\"../formulae/{name}.ltl\", name=f\"{name}\", processes=6)\n",
    "    m.split_task()\n",
    "    m.resume()"
   ]
  },
  {
   "cell_type": "raw",
   "metadata": {},
   "source": [
    "for name in names:\n",
    "    !mv {name}* data"
   ]
  },
  {
   "cell_type": "raw",
   "metadata": {},
   "source": [
    "no_tools = {t:or cmd for t, cmd in tools.items() if t.startswith(\"no\")}\n",
    "for name in names:\n",
    "    m = GoalModulizer(goal_root=goal_root, tools=no_tools, formula_file=f\"../formulae/{name}.ltl\", name=f\"{name}_check\", processes=6, check=True)\n",
    "    m.split_task()\n",
    "    m.resume()"
   ]
  },
  {
   "cell_type": "raw",
   "metadata": {},
   "source": [
    "for name in names:\n",
    "    !mv {name}_check* data_check"
   ]
  },
  {
   "cell_type": "code",
   "execution_count": null,
   "metadata": {},
   "outputs": [],
   "source": [
    "for name in names:\n",
    "    !mv {name}_check* data_check\n",
    "    "
   ]
  },
  {
   "cell_type": "raw",
   "metadata": {},
   "source": [
    "!rm lcr-o*\n",
    "!rm other_tools/GOAL-20200107/tmp* -rf\n",
    "!rm -f tmp*"
   ]
  },
  {
   "cell_type": "raw",
   "metadata": {},
   "source": [
    "!rm lcr-o*\n",
    "!rm other_tools/GOAL-20200107/tmp* -rf\n",
    "!rm -f tmp*"
   ]
  },
  {
   "cell_type": "code",
   "execution_count": null,
   "metadata": {},
   "outputs": [],
   "source": []
  }
 ],
 "metadata": {
  "kernelspec": {
   "display_name": "Python 3",
   "language": "python",
   "name": "python3"
  },
  "language_info": {
   "codemirror_mode": {
    "name": "ipython",
    "version": 3
   },
   "file_extension": ".py",
   "mimetype": "text/x-python",
   "name": "python",
   "nbconvert_exporter": "python",
   "pygments_lexer": "ipython3",
   "version": "3.7.5"
  }
 },
 "nbformat": 4,
 "nbformat_minor": 4
}
