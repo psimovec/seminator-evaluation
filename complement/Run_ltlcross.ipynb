{
 "cells": [
  {
   "cell_type": "code",
   "execution_count": null,
   "metadata": {},
   "outputs": [],
   "source": [
    "from ltlcross_wrapper import Modulizer, GoalModulizer, ResAnalyzer\n",
    "import pandas as pd"
   ]
  },
  {
   "cell_type": "markdown",
   "metadata": {},
   "source": [
    "We take the tools names and commands from [tools.py](tools.py) file."
   ]
  },
  {
   "cell_type": "code",
   "execution_count": null,
   "metadata": {},
   "outputs": [],
   "source": [
    "from tools import tools, benchmark_names, goal_root"
   ]
  },
  {
   "cell_type": "markdown",
   "metadata": {},
   "source": [
    "Running the following code takes **several hours**. Before doing so, you might want to consider adjusting the number of process that are run in parallel by setting the parameter `processes` of `GoalModulizer` object `m`. If the number is too high, the computation can easily eat up all resources of your machine.\n",
    "\n",
    "The data are already precomputed in the directory `data` so you can explore them using the notebooks [Results_BA](Results_BA.ipynb), [Seminator_variants](Seminator_variants.ipynb), or [GOAL-variants](GOAL-variants.ipynb)."
   ]
  },
  {
   "cell_type": "code",
   "execution_count": null,
   "metadata": {},
   "outputs": [],
   "source": [
    "!mkdir -p data\n",
    "names = benchmark_names\n",
    "for name in names:\n",
    "    m = GoalModulizer(goal_root=goal_root, \n",
    "                      tools=tools, formula_file=f\"../formulae/{name}.ltl\",\n",
    "                      name=f\"{name}\",\n",
    "                      processes=6)\n",
    "    m.split_task()\n",
    "    m.resume()\n",
    "\n",
    "for name in names:\n",
    "    !mv {name}* data"
   ]
  },
  {
   "cell_type": "markdown",
   "metadata": {},
   "source": [
    "The cell above now creates the folder `data` and computes the data for the [Results_BA](Results_BA.ipynb) notebook. You can generate data for the other notebooks by reading tools from [tools_seminator_variants.py](tools_seminator_variants.py) or [tools_goal_variants.py](tools_goal_variants.py) files in order to generate data used for the other two notebooks (we also advise to chenge the folder `data` on line `1` and `12` to `data.seminator_variants` or `data.goal_variants` accordingly so they are actually used in the notebooks). "
   ]
  },
  {
   "cell_type": "markdown",
   "metadata": {},
   "source": [
    "The following cell clears the working directory and GOAL directory in case the computation was interrupted for some reason and the proper cleanup methods could not be run."
   ]
  },
  {
   "cell_type": "code",
   "execution_count": null,
   "metadata": {},
   "outputs": [],
   "source": [
    "!rm other_tools/GOAL-20200107/lcw* -rf\n",
    "!rm -f lcw-* lcr-*"
   ]
  },
  {
   "cell_type": "markdown",
   "metadata": {},
   "source": [
    "The commands in the following cell was used to test correctness of the produced automata. As such test takes very long, it is disabled by default. You can run it by making the cell a _code cell_ by pressing `y` after focusing the cell."
   ]
  },
  {
   "cell_type": "raw",
   "metadata": {},
   "source": [
    "no_tools = {t:or cmd for t, cmd in tools.items() if t.startswith(\"no\")}\n",
    "for name in names:\n",
    "    m = GoalModulizer(goal_root=goal_root, tools=no_tools, formula_file=f\"../formulae/{name}.ltl\", name=f\"{name}_check\", processes=6, check=True)\n",
    "    m.split_task()\n",
    "    m.resume()\n",
    "    \n",
    "for name in names:\n",
    "    !mv {name}_check* data_check"
   ]
  },
  {
   "cell_type": "raw",
   "metadata": {},
   "source": []
  }
 ],
 "metadata": {
  "kernelspec": {
   "display_name": "Python 3",
   "language": "python",
   "name": "python3"
  },
  "language_info": {
   "codemirror_mode": {
    "name": "ipython",
    "version": 3
   },
   "file_extension": ".py",
   "mimetype": "text/x-python",
   "name": "python",
   "nbconvert_exporter": "python",
   "pygments_lexer": "ipython3",
   "version": "3.7.5"
  }
 },
 "nbformat": 4,
 "nbformat_minor": 4
}
