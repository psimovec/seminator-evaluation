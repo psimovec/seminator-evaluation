{
 "cells": [
  {
   "cell_type": "code",
   "execution_count": 1,
   "metadata": {},
   "outputs": [],
   "source": [
    "from ltlcross_wrapper import Modulizer, GoalModulizer, ResAnalyzer\n",
    "import pandas as pd"
   ]
  },
  {
   "cell_type": "markdown",
   "metadata": {},
   "source": [
    "We take the tools names and commands from [tools.py](tools.py) file."
   ]
  },
  {
   "cell_type": "code",
   "execution_count": 2,
   "metadata": {},
   "outputs": [
    {
     "name": "stdout",
     "output_type": "stream",
     "text": [
      "no.goal#pit: ltl2tgba -D -B %f   > $LCW_TMP.in.hoa && $LCW_GOAL_BIN batch '$temp = complement -m piterman -eq -sp `echo $LCW_TMP.in.hoa`; save -c HOAF $temp `echo $LCW_TMP.out.hoa`;'; err=$?; rm -f $LCW_TMP.in.hoa; mv -f $LCW_TMP.out.hoa %O; exit $err\n",
      "yes.goal#pit: ltl2tgba -D -B %f   > $LCW_TMP.in.hoa && $LCW_GOAL_BIN batch '$temp = complement -m piterman -eq -sp `echo $LCW_TMP.in.hoa`; save -c HOAF $temp `echo $LCW_TMP.out.hoa`;' && autfilt --small --tgba $LCW_TMP.out.hoa > %O; err=$?; rm -f $LCW_TMP.in.hoa $LCW_TMP.out.hoa; exit $err\n",
      "no.goal#fri: ltl2tgba -D -B %f   > $LCW_TMP.in.hoa && $LCW_GOAL_BIN batch '$temp = complement -m fribourg  `echo $LCW_TMP.in.hoa`; save -c HOAF $temp `echo $LCW_TMP.out.hoa`;'; err=$?; rm -f $LCW_TMP.in.hoa; mv -f $LCW_TMP.out.hoa %O; exit $err\n",
      "yes.goal#fri: ltl2tgba -D -B %f   > $LCW_TMP.in.hoa && $LCW_GOAL_BIN batch '$temp = complement -m fribourg  `echo $LCW_TMP.in.hoa`; save -c HOAF $temp `echo $LCW_TMP.out.hoa`;' && autfilt --small --tgba $LCW_TMP.out.hoa > %O; err=$?; rm -f $LCW_TMP.in.hoa $LCW_TMP.out.hoa; exit $err\n",
      "no.roll: ltl2tgba -D -B %f  > $LCW_TMP.in.hoa && java -jar other_tools/roll-library/ROLL.jar complement $LCW_TMP.in.hoa -v 0 -table -syntactic -out $LCW_TMP.out.hoa; err=$?; rm -f $LCW_TMP.in.hoa; mv -f $LCW_TMP.out.hoa %O; exit $err\n",
      "yes.roll: ltl2tgba -D -B %f  > $LCW_TMP.in.hoa && java -jar other_tools/roll-library/ROLL.jar complement $LCW_TMP.in.hoa -v 0 -table -syntactic -out $LCW_TMP.out.hoa && autfilt --small --tgba $LCW_TMP.out.hoa > %O; err=$?; rm -f $LCW_TMP.in.hoa $LCW_TMP.out.hoa; exit $err\n",
      "no.spot: ltl2tgba -D %f | autfilt --complement --tgba > %O\n",
      "no.spot_DPA: ltl2tgba -D %f | autfilt --complement > %O\n",
      "yes.spot: ltl2tgba -D %f | autfilt --complement --tgba --small > %O\n",
      "yes.spot_DPA: ltl2tgba -D %f | autfilt --complement --small > %O\n",
      "yes.seminator#spot: ltl2tgba -D %f |  seminator --complement=spot --cut-always >%O\n",
      "no.seminator#spot: ltl2tgba -D %f |  seminator --complement=spot --cut-always --postprocess-comp=0 >%O\n",
      "yes.seminator#pldi: ltl2tgba -D %f |  seminator --complement=pldi --cut-always >%O\n",
      "no.seminator#pldi: ltl2tgba -D %f |  seminator --complement=pldi --cut-always --postprocess-comp=0 >%O\n",
      "yes.seminator#best: ltl2tgba -D %f |  seminator --complement=best --cut-always >%O\n",
      "no.seminator#best: ltl2tgba -D %f |  seminator --complement=best --cut-always --postprocess-comp=0 >%O\n"
     ]
    }
   ],
   "source": [
    "from tools import tools, benchmark_names, goal_root\n",
    "for name, cmd in tools.items():\n",
    "    print(f\"{name}: {cmd}\")"
   ]
  },
  {
   "cell_type": "markdown",
   "metadata": {},
   "source": [
    "Running the following code takes **several hours**. Before doing so, you might want to consider adjusting the number of process that are run in parallel by setting the parameter `processes` of `GoalModulizer` object `m`. If the number is too high, the computation can easily eat up all resources of your machine.\n",
    "\n",
    "The data are already precomputed in the directory `data` so you can explore them using the notebooks [Results_BA](Results_BA.ipynb), [Seminator_variants](Seminator_variants.ipynb), or [GOAL-variants](GOAL-variants.ipynb)."
   ]
  },
  {
   "cell_type": "code",
   "execution_count": 3,
   "metadata": {},
   "outputs": [],
   "source": [
    "!mkdir -p data\n",
    "for name in benchmark_names:\n",
    "    m = GoalModulizer(goal_root=goal_root, \n",
    "                      tools=tools, formula_file=f\"../formulae/{name}.ltl\",\n",
    "                      name=f\"{name}\",\n",
    "                      processes=4)\n",
    "    m.run()\n",
    "\n",
    "for name in benchmark_names:\n",
    "    !mv {name}* data"
   ]
  },
  {
   "cell_type": "markdown",
   "metadata": {},
   "source": [
    "The cell above now creates the folder `data` and computes the data for the [Results_BA](Results_BA.ipynb) notebook. You can also use it to regenerate data for the `_variants` notebooks by reading tools from [tools_seminator_variants.py](tools_seminator_variants.py) or [tools_goal_variants.py](tools_goal_variants.py). When doing this, you should also change `data` to `data.seminator_variants` or `data.goal_variants` accordingly on lines 1 and 10 of the cell."
   ]
  },
  {
   "cell_type": "markdown",
   "metadata": {},
   "source": [
    "The following cell clears the working directory and GOAL directory in case the computation was interrupted for some reason and the proper cleanup methods could not be run."
   ]
  },
  {
   "cell_type": "code",
   "execution_count": 4,
   "metadata": {},
   "outputs": [],
   "source": [
    "!rm -rf {goal_root}/lcw*\n",
    "!rm -f lcw-* lcr-*"
   ]
  },
  {
   "cell_type": "markdown",
   "metadata": {},
   "source": [
    "The commands in the following cell was used to test correctness of the produced automata. As such test takes very long, it is disabled by default. You can run it by making the cell a _code cell_ by pressing `y` after focusing the cell."
   ]
  },
  {
   "cell_type": "raw",
   "metadata": {},
   "source": [
    "no_tools = {t: cmd for t, cmd in tools.items() if t.startswith(\"no\")}\n",
    "for name in benchmark_names:\n",
    "    m = GoalModulizer(goal_root=goal_root, tools=no_tools, formula_file=f\"../formulae/{name}.ltl\", name=f\"{name}_check\", processes=4, check=True)\n",
    "    m.split_task()\n",
    "    m.resume()\n",
    "\n",
    "!mkdir data_check -p\n",
    "for name in benchmark_names:\n",
    "    !mv {name}_check* data_check"
   ]
  }
 ],
 "metadata": {
  "kernelspec": {
   "display_name": "Python 3",
   "language": "python",
   "name": "python3"
  },
  "language_info": {
   "codemirror_mode": {
    "name": "ipython",
    "version": 3
   },
   "file_extension": ".py",
   "mimetype": "text/x-python",
   "name": "python",
   "nbconvert_exporter": "python",
   "pygments_lexer": "ipython3",
   "version": "3.7.3"
  }
 },
 "nbformat": 4,
 "nbformat_minor": 4
}
